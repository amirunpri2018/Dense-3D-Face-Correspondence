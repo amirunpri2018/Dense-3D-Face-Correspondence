{
 "cells": [
  {
   "cell_type": "markdown",
   "metadata": {},
   "source": [
    "# Dense 3D Face Correspondence"
   ]
  },
  {
   "cell_type": "code",
   "execution_count": 43,
   "metadata": {
    "ExecuteTime": {
     "end_time": "2019-05-10T13:56:38.620921Z",
     "start_time": "2019-05-10T13:56:38.618633Z"
    }
   },
   "outputs": [],
   "source": [
    "# import os\n",
    "# os.environ[\"MKL_NUM_THREADS\"] = \"1\" \n",
    "# os.environ[\"NUMEXPR_NUM_THREADS\"] = \"1\" \n",
    "# os.environ[\"OMP_NUM_THREADS\"] = \"1\" "
   ]
  },
  {
   "cell_type": "code",
   "execution_count": 1,
   "metadata": {
    "ExecuteTime": {
     "end_time": "2019-05-10T15:28:31.111258Z",
     "start_time": "2019-05-10T15:28:30.804349Z"
    }
   },
   "outputs": [],
   "source": [
    "import pdb\n",
    "import numpy as np\n",
    "import re\n",
    "import threading\n",
    "import cv2\n",
    "import ipyvolume as ipv\n",
    "import scipy\n",
    "from math import cos, sin\n",
    "from scipy import meshgrid, interpolate\n",
    "import pdb\n",
    "import matplotlib.pyplot as plt\n",
    "from mpl_toolkits.mplot3d import Axes3D\n",
    "from scipy.spatial import ConvexHull, Delaunay\n",
    "import numpy as np\n",
    "from scipy.interpolate import griddata\n",
    "\n",
    "# THRESHOLDS\n",
    "rho = 0.5\n",
    "eigen_ratio_threshold = 5000"
   ]
  },
  {
   "cell_type": "markdown",
   "metadata": {},
   "source": [
    "## Read each face data"
   ]
  },
  {
   "cell_type": "code",
   "execution_count": 2,
   "metadata": {
    "ExecuteTime": {
     "end_time": "2019-05-10T15:28:31.480584Z",
     "start_time": "2019-05-10T15:28:31.476684Z"
    }
   },
   "outputs": [],
   "source": [
    "def read_wrl(file_path):\n",
    "    holder = []\n",
    "    with open(file_path, \"r\") as vrml:\n",
    "        for line in vrml:\n",
    "            a = line.strip().strip(\",\").split()\n",
    "            if len(a) == 3:\n",
    "                try:\n",
    "                    holder.append(list(map(float, a)))\n",
    "                except:\n",
    "                    pass\n",
    "    x,y,z = zip(*holder)\n",
    "    x = np.array(x)\n",
    "    y = np.array(y)\n",
    "    z = np.array(z)\n",
    "    return np.array(holder)"
   ]
  },
  {
   "cell_type": "code",
   "execution_count": 3,
   "metadata": {
    "ExecuteTime": {
     "end_time": "2019-05-10T15:28:31.936792Z",
     "start_time": "2019-05-10T15:28:31.705435Z"
    }
   },
   "outputs": [],
   "source": [
    "file_paths = {\n",
    "    \"path1\": \"F0001/F0001_AN01WH_F3D.wrl\",\n",
    "    \"path2\": \"F0001/F0001_AN02WH_F3D.wrl\",\n",
    "    \"path3\": \"F0001/F0001_AN03WH_F3D.wrl\",\n",
    "    \"path4\": \"F0001/F0001_AN04WH_F3D.wrl\",\n",
    "    \"path5\": \"F0001/F0001_DI01WH_F3D.wrl\",\n",
    "    \"path6\": \"F0001/F0001_DI02WH_F3D.wrl\",\n",
    "    \"path7\": \"F0001/F0001_DI03WH_F3D.wrl\",\n",
    "    \"path8\": \"F0001/F0001_DI04WH_F3D.wrl\",\n",
    "}\n",
    "face_points = {} # key = face+index, value = extracted face data\n",
    "for i in range(1, len(file_paths)+1):\n",
    "    face_points[\"face\" + str(i)] = read_wrl(file_paths[\"path\" + str(i)])"
   ]
  },
  {
   "cell_type": "markdown",
   "metadata": {},
   "source": [
    "## Normalizing faces and Interpolation"
   ]
  },
  {
   "cell_type": "code",
   "execution_count": 4,
   "metadata": {
    "ExecuteTime": {
     "end_time": "2019-05-10T15:28:32.112693Z",
     "start_time": "2019-05-10T15:28:32.105221Z"
    }
   },
   "outputs": [],
   "source": [
    "\n",
    "def normalize_face(points):\n",
    "    maxind = np.argmax(points[:,2])\n",
    "    nosex = points[maxind,0]\n",
    "    nosey = points[maxind,1]\n",
    "    nosez = points[maxind,2]\n",
    "    points = points - np.array([nosex, nosey, nosez])\n",
    "#     points = points / np.max(points)\n",
    "    return points\n",
    "\n",
    "def points2grid(points):\n",
    "    x1, y1, z1 = map(np.array, zip(*points))\n",
    "    grid_x, grid_y = np.mgrid[np.amin(x1):np.amax(x1):0.5, np.amin(y1):np.amax(y1):0.5]\n",
    "    grid_z = griddata((x1, y1), z1, (grid_x, grid_y), method='linear')\n",
    "    return [grid_x, grid_y, grid_z]\n"
   ]
  },
  {
   "cell_type": "code",
   "execution_count": 5,
   "metadata": {
    "ExecuteTime": {
     "end_time": "2019-05-10T15:28:32.828883Z",
     "start_time": "2019-05-10T15:28:32.256937Z"
    }
   },
   "outputs": [],
   "source": [
    "# normalizing the faces and interpolating them across a grid\n",
    "grid_data = {}\n",
    "for i in range(1, len(file_paths)+1):\n",
    "    # normalization\n",
    "    face_points[\"face\" + str(i)] = normalize_face(face_points[\"face\" + str(i)])\n",
    "    # grid interpolation of the face data\n",
    "    grid_data[\"face\" + str(i)] = points2grid(face_points[\"face\" + str(i)])"
   ]
  },
  {
   "cell_type": "code",
   "execution_count": 6,
   "metadata": {
    "ExecuteTime": {
     "end_time": "2019-05-10T15:28:32.858263Z",
     "start_time": "2019-05-10T15:28:32.830463Z"
    }
   },
   "outputs": [
    {
     "data": {
      "application/vnd.jupyter.widget-view+json": {
       "model_id": "4ea53c3626d6418fa5a84b391fe51d2d",
       "version_major": 2,
       "version_minor": 0
      },
      "text/plain": [
       "VBox(children=(Figure(camera=PerspectiveCamera(fov=46.0, position=(0.0, 0.0, 2.0), quaternion=(0.0, 0.0, 0.0, …"
      ]
     },
     "metadata": {},
     "output_type": "display_data"
    }
   ],
   "source": [
    "# hull plot\n",
    "first_face_id = 3 # face id (number) to plot\n",
    "second_face_id = 7\n",
    "points = face_points[\"face\" + str(first_face_id)]\n",
    "points2 = face_points[\"face\" + str(second_face_id)]\n",
    "ipv.quickscatter(points[:, 0], points[:, 1], points[:, 2], size=1, marker=\"sphere\")\n",
    "ipv.scatter(points2[:, 0], points2[:, 1], points2[:, 2], size=1, marker=\"sphere\", color=\"blue\")\n",
    "ipv.show()"
   ]
  },
  {
   "cell_type": "markdown",
   "metadata": {},
   "source": [
    "## Plot the interpolated faces"
   ]
  },
  {
   "cell_type": "code",
   "execution_count": 7,
   "metadata": {
    "ExecuteTime": {
     "end_time": "2019-05-10T15:28:32.924024Z",
     "start_time": "2019-05-10T15:28:32.859242Z"
    }
   },
   "outputs": [
    {
     "data": {
      "application/vnd.jupyter.widget-view+json": {
       "model_id": "e18eefa1d01243dd95497876f8cb146c",
       "version_major": 2,
       "version_minor": 0
      },
      "text/plain": [
       "VBox(children=(Figure(camera=PerspectiveCamera(fov=46.0, position=(0.0, 0.0, 2.0), quaternion=(0.0, 0.0, 0.0, …"
      ]
     },
     "metadata": {},
     "output_type": "display_data"
    }
   ],
   "source": [
    "\n",
    "face_id = 8\n",
    "ipv.clear()\n",
    "grid_x, grid_y, grid_z = grid_data[\"face\" + str(face_id)]\n",
    "ipv.plot_mesh(grid_x, grid_y, grid_z, wireframe=False)\n",
    "ipv.show()"
   ]
  },
  {
   "cell_type": "markdown",
   "metadata": {},
   "source": [
    "## Sparse Correspondence Initialization"
   ]
  },
  {
   "cell_type": "markdown",
   "metadata": {},
   "source": [
    "## Seed points sampling using mean 2D convex hull "
   ]
  },
  {
   "cell_type": "code",
   "execution_count": 8,
   "metadata": {
    "ExecuteTime": {
     "end_time": "2019-05-10T15:28:37.522732Z",
     "start_time": "2019-05-10T15:28:33.345809Z"
    }
   },
   "outputs": [],
   "source": [
    "def hull72(points, nosex, nosey, nosez):\n",
    "    newhull = [[nosex, nosey, nosez]]\n",
    "    for theta in range(0, 360, 5):\n",
    "        fx = 200 * cos(theta * np.pi / 180)\n",
    "        fy = 200 * sin(theta * np.pi / 180)\n",
    "        nearest_point = min(zip(points[:, 0], points[:, 1], points[:, 2]), key=lambda p:(p[0] - fx)**2 + (p[1] - fy)**2)\n",
    "        newhull.append(nearest_point)\n",
    "    return newhull\n",
    "\n",
    "def get_hull(points):\n",
    "    maxind = np.argmax(points[:,2])\n",
    "    # coordinates of nose, nosex = x coordinate of nose, similarly for nosey and nosez\n",
    "    nosex = points[maxind,0]\n",
    "    nosey = points[maxind,1]\n",
    "    nosez = points[maxind,2]\n",
    "    hull = np.array(hull72(points, nosex,nosey,nosez))\n",
    "    return hull\n",
    "\n",
    "hull = np.zeros([73, 3])\n",
    "for i in range(1, len(file_paths)+1):\n",
    "    hull += get_hull(face_points[\"face\" + str(i)])\n",
    "hull = hull / len(file_paths)"
   ]
  },
  {
   "cell_type": "markdown",
   "metadata": {},
   "source": [
    "### Plot of extracted seed points"
   ]
  },
  {
   "cell_type": "code",
   "execution_count": 9,
   "metadata": {
    "ExecuteTime": {
     "end_time": "2019-05-10T15:28:37.749712Z",
     "start_time": "2019-05-10T15:28:37.526428Z"
    }
   },
   "outputs": [
    {
     "data": {
      "image/png": "[encoded data removed]",
      "text/plain": [
       "<Figure size 576x576 with 1 Axes>"
      ]
     },
     "metadata": {
      "needs_background": "light"
     },
     "output_type": "display_data"
    }
   ],
   "source": [
    "first_face_index = 7\n",
    "second_face_index = 4\n",
    "points1 = face_points[\"face\" + str(first_face_index)]\n",
    "points2 = face_points[\"face\" + str(second_face_index)]\n",
    "plt.figure(figsize=(8,8))\n",
    "plt.scatter(points1[:,0], points1[:,1], color=\"red\")\n",
    "plt.scatter(points2[:,0], points2[:,1], color=\"orange\")\n",
    "plt.scatter(hull[:,0], hull[:,1])\n",
    "maxind = np.argmax(points1[:,2])\n",
    "nosex = points1[maxind,0]\n",
    "nosey = points1[maxind,1]\n",
    "nosez = points1[maxind,2]\n",
    "plt.plot(nosex,nosey,\"b\")\n",
    "plt.show()"
   ]
  },
  {
   "cell_type": "markdown",
   "metadata": {},
   "source": [
    "## Delaunay Triangulation "
   ]
  },
  {
   "cell_type": "code",
   "execution_count": 10,
   "metadata": {
    "ExecuteTime": {
     "end_time": "2019-05-10T15:28:37.753174Z",
     "start_time": "2019-05-10T15:28:37.751107Z"
    }
   },
   "outputs": [],
   "source": [
    "def delaunay_triangulation(hull):\n",
    "    points2D = np.vstack([hull[:,0],hull[:,1]]).T\n",
    "    tri_hull = Delaunay(points2D) \n",
    "    return tri_hull"
   ]
  },
  {
   "cell_type": "code",
   "execution_count": 11,
   "metadata": {
    "ExecuteTime": {
     "end_time": "2019-05-10T15:28:37.764110Z",
     "start_time": "2019-05-10T15:28:37.754051Z"
    }
   },
   "outputs": [],
   "source": [
    "tri_hull = delaunay_triangulation(hull)"
   ]
  },
  {
   "cell_type": "code",
   "execution_count": 12,
   "metadata": {
    "ExecuteTime": {
     "end_time": "2019-05-10T15:28:37.798390Z",
     "start_time": "2019-05-10T15:28:37.765190Z"
    }
   },
   "outputs": [
    {
     "data": {
      "application/vnd.jupyter.widget-view+json": {
       "model_id": "ab30c1d88c2241a4bd3bd7d0f7597d5a",
       "version_major": 2,
       "version_minor": 0
      },
      "text/plain": [
       "VBox(children=(Figure(camera=PerspectiveCamera(fov=46.0, position=(0.0, 0.0, 2.0), quaternion=(0.0, 0.0, 0.0, …"
      ]
     },
     "metadata": {},
     "output_type": "display_data"
    }
   ],
   "source": [
    "ipv.figure()\n",
    "mesh = ipv.plot_trisurf(hull[:,0], hull[:,1], hull[:,2], triangles=tri_hull.simplices, color='blue')\n",
    "ipv.scatter(hull[:,0], hull[:,1], hull[:,2], marker='sphere', color='red')\n",
    "ipv.show()"
   ]
  },
  {
   "cell_type": "markdown",
   "metadata": {},
   "source": [
    "## Geodesic Patch Extraction"
   ]
  },
  {
   "cell_type": "code",
   "execution_count": 13,
   "metadata": {
    "ExecuteTime": {
     "end_time": "2019-05-10T15:28:37.803558Z",
     "start_time": "2019-05-10T15:28:37.799292Z"
    }
   },
   "outputs": [],
   "source": [
    "def get_patch(points, hull, x1, y1, z1):\n",
    "    patch_width = 5 * rho\n",
    "    def distance(x,y,z,x1,y1,z1,x2,y2,z2):\n",
    "        a = (y2-y1)/(x2-x1)\n",
    "        b = -1\n",
    "        c = y2-x2*(y2-y1)/(x2-x1)\n",
    "        return abs(a*x+b*y+c)/(a**2+b**2)**0.5\n",
    "\n",
    "    patch = []\n",
    "    nosex, nosey, nosez = hull[0]\n",
    "    for x2,y2,z2 in points:\n",
    "        if (y1-nosey)/(y2-nosey+0.0001)>0 and (x1-nosex)/(x2-nosex+0.0001)>0 \\\n",
    "        and distance(x2,y2,z2,x1,y1,z1,nosex,nosey,nosez)<patch_width:\n",
    "            patch.append([x2,y2,z2])\n",
    "    patch = np.array(patch)\n",
    "    return patch"
   ]
  },
  {
   "cell_type": "code",
   "execution_count": 14,
   "metadata": {
    "ExecuteTime": {
     "end_time": "2019-05-10T15:28:46.691303Z",
     "start_time": "2019-05-10T15:28:37.804528Z"
    }
   },
   "outputs": [],
   "source": [
    "patches = {} # key = edges, values = a list of extracted patches from all faces along that edge \n",
    "for edge_index in range(1, len(hull)): # skipping the nose point\n",
    "    x1, y1, z1 = hull[edge_index, :]\n",
    "    patch_list = []\n",
    "    for face_index in range(1, len(file_paths)+1):\n",
    "        patch = get_patch(face_points[\"face\" + str(face_index)], hull, x1, y1, z1)\n",
    "        patch_list.append(patch)\n",
    "    patches[\"edge\" + str(edge_index)] = patch_list"
   ]
  },
  {
   "cell_type": "code",
   "execution_count": 15,
   "metadata": {
    "ExecuteTime": {
     "end_time": "2019-05-10T15:28:46.765966Z",
     "start_time": "2019-05-10T15:28:46.692915Z"
    }
   },
   "outputs": [
    {
     "data": {
      "application/vnd.jupyter.widget-view+json": {
       "model_id": "80ef237a9d2d4d67a4324b61bb940e46",
       "version_major": 2,
       "version_minor": 0
      },
      "text/plain": [
       "VBox(children=(Figure(camera=PerspectiveCamera(fov=46.0, position=(0.0, 0.0, 2.0), quaternion=(0.0, 0.0, 0.0, …"
      ]
     },
     "metadata": {},
     "output_type": "display_data"
    }
   ],
   "source": [
    "# randomly selecting a edge, and plotting all patches along that edge across all the faces\n",
    "ipv.clear()\n",
    "edge_index = np.random.choice(range(len(patches)))\n",
    "edge = patches[\"edge\" + str(edge_index)]\n",
    "for i in range(len(edge)):\n",
    "    patch = edge[i]\n",
    "    ipv.scatter(patch[:,0], patch[:,1], patch[:,2], size=1, marker=\"sphere\", color=[\"red\", \"blue\", \"yellow\", \"green\"][i%4])\n",
    "ipv.show()"
   ]
  },
  {
   "cell_type": "markdown",
   "metadata": {},
   "source": [
    "## Keypoint Extraction"
   ]
  },
  {
   "cell_type": "code",
   "execution_count": 16,
   "metadata": {
    "ExecuteTime": {
     "end_time": "2019-05-10T15:28:46.770976Z",
     "start_time": "2019-05-10T15:28:46.767631Z"
    }
   },
   "outputs": [],
   "source": [
    "# takes in a point and the patch it belongs to and decides whether it is a keypoint or not\n",
    "def is_keypoint(point, points):\n",
    "    threshold = 7 * rho\n",
    "    nhood = points[(np.sum(np.square(points-point),axis=1)) < threshold**2]\n",
    "    try:\n",
    "        nhood = (nhood - np.min(nhood, axis=0)) / (np.max(nhood, axis=0) - np.min(nhood, axis=0))\n",
    "        covmat = np.cov(nhood)\n",
    "        eigvals = np.sort(np.abs(np.linalg.eigvalsh(covmat)))\n",
    "        ratio = eigvals[-1]/(eigvals[-2]+0.0001)\n",
    "        return ratio>30 #eigen_ratio_threshold #/ 5\n",
    "    except Exception as e:\n",
    "        return False\n"
   ]
  },
  {
   "cell_type": "code",
   "execution_count": 17,
   "metadata": {
    "ExecuteTime": {
     "end_time": "2019-05-10T15:28:53.690041Z",
     "start_time": "2019-05-10T15:28:46.771840Z"
    }
   },
   "outputs": [
    {
     "name": "stderr",
     "output_type": "stream",
     "text": [
      "/home/ags/miniconda3/lib/python3.7/site-packages/ipykernel_launcher.py:6: RuntimeWarning: invalid value encountered in true_divide\n",
      "  \n"
     ]
    }
   ],
   "source": [
    "keypoints = {} # key = edge, value = a list of keypoints extracted from the patches along that edge across all faces\n",
    "for edge_index in range(1, len(patches)+1):\n",
    "    edge_patches = patches[\"edge\" + str(edge_index)]\n",
    "    edge_keypoints = []\n",
    "    for patch in edge_patches:\n",
    "        #print(patch)\n",
    "        patch_keypoints = patch[np.apply_along_axis(is_keypoint, 1, patch, patch)] # keypoints in `patch`\n",
    "        edge_keypoints.append(patch_keypoints)\n",
    "    keypoints[\"edge\" + str(edge_index)] = edge_keypoints \n"
   ]
  },
  {
   "cell_type": "code",
   "execution_count": 18,
   "metadata": {
    "ExecuteTime": {
     "end_time": "2019-05-10T15:28:53.716611Z",
     "start_time": "2019-05-10T15:28:53.690930Z"
    },
    "scrolled": false
   },
   "outputs": [
    {
     "name": "stdout",
     "output_type": "stream",
     "text": [
      "(1918, 3)\n"
     ]
    },
    {
     "data": {
      "application/vnd.jupyter.widget-view+json": {
       "model_id": "3b8e10c97bc54a0dbe90948c4dae0a0a",
       "version_major": 2,
       "version_minor": 0
      },
      "text/plain": [
       "VBox(children=(Figure(camera=PerspectiveCamera(fov=46.0, position=(0.0, 0.0, 2.0), quaternion=(0.0, 0.0, 0.0, …"
      ]
     },
     "metadata": {},
     "output_type": "display_data"
    }
   ],
   "source": [
    "# plot keypoints of a face, given the face index\n",
    "face_index = 1\n",
    "face_keypoints = []\n",
    "for edge_index in range(1, len(keypoints)+1):\n",
    "    face_keypoints.extend(keypoints[\"edge\" + str(edge_index)][face_index-1])\n",
    "face_keypoints = np.array(face_keypoints)\n",
    "print(face_keypoints.shape)\n",
    "#print(face_keypoints)\n",
    "points = face_points[\"face\" + str(face_index)]\n",
    "ipv.clear()\n",
    "ipv.scatter(points[:,0], points[:,1], points[:,2], size=1, marker=\"sphere\", color=\"blue\")\n",
    "ipv.scatter(face_keypoints[:, 0], face_keypoints[:,1], face_keypoints[:,2], size=1, marker=\"sphere\", color=\"red\")\n",
    "ipv.show()"
   ]
  },
  {
   "cell_type": "markdown",
   "metadata": {},
   "source": [
    "## Feature Extraction"
   ]
  },
  {
   "cell_type": "code",
   "execution_count": 19,
   "metadata": {
    "ExecuteTime": {
     "end_time": "2019-05-10T15:28:53.723239Z",
     "start_time": "2019-05-10T15:28:53.717471Z"
    }
   },
   "outputs": [],
   "source": [
    "\n",
    "def get_normal(x, y, grid_x, grid_y, grid_z):\n",
    "    '''\n",
    "      3\n",
    "    1   2\n",
    "      4\n",
    "    x, y are coordinates of the point for which the normal has to be calculated\n",
    "    '''\n",
    "    i = (x - grid_x[0, 0]) / (grid_x[1, 0] - grid_x[0, 0])\n",
    "    j = (y - grid_y[0, 0]) / (grid_y[0, 1] - grid_y[0, 0])\n",
    "    i,j = int(round(i)), int(round(j))\n",
    "    if (not 0 <= i < grid_x.shape[0]-1) or (not 0 <= j < grid_y.shape[1]-1):\n",
    "        print(\"shape error\")\n",
    "        #pdb.set_trace()\n",
    "        return \"None\"\n",
    "    point1 = (grid_x[i-1, j], grid_y[i-1, j], grid_z[i-1, j])\n",
    "    point2 = (grid_x[i+1, j], grid_y[i+1, j], grid_z[i+1, j])\n",
    "    point3 = (grid_x[i, j-1], grid_y[i, j-1], grid_z[i, j-1])\n",
    "    point4 = (grid_x[i, j+1], grid_y[i, j+1], grid_z[i, j+1])\n",
    "    a1, a2, a3 = [point2[x] - point1[x] for x in range(3)]\n",
    "    b1, b2, b3 = [point3[x] - point4[x] for x in range(3)]\n",
    "    normal = np.array([a3*b2, a1*b3, -a1*b2])\n",
    "    return normal/np.linalg.norm(normal)\n",
    "\n"
   ]
  },
  {
   "cell_type": "code",
   "execution_count": 20,
   "metadata": {
    "ExecuteTime": {
     "end_time": "2019-05-10T15:28:53.766372Z",
     "start_time": "2019-05-10T15:28:53.724094Z"
    }
   },
   "outputs": [
    {
     "name": "stdout",
     "output_type": "stream",
     "text": [
      "225 117 45.30369999999999 -17.380899999999997\n"
     ]
    },
    {
     "data": {
      "application/vnd.jupyter.widget-view+json": {
       "model_id": "00353feef60645b4a121ab70f100fce7",
       "version_major": 2,
       "version_minor": 0
      },
      "text/plain": [
       "VBox(children=(Figure(camera=PerspectiveCamera(fov=46.0, position=(0.0, 0.0, 2.0), quaternion=(0.0, 0.0, 0.0, …"
      ]
     },
     "metadata": {},
     "output_type": "display_data"
    }
   ],
   "source": [
    "# test the get_normal function and plot  \n",
    "face_id = 8\n",
    "grid_x, grid_y, grid_z = grid_data[\"face\" + str(face_id)]\n",
    "i = np.random.choice(len(grid_x))\n",
    "j = np.random.choice(len(grid_y))\n",
    "x, y = grid_x[i, 0], grid_y[0, j]\n",
    "print(i, j, x, y)\n",
    "uvn = get_normal(x, y, grid_x, grid_y, grid_z)\n",
    "\n",
    "ipv.clear()\n",
    "ipv.plot_mesh(grid_x, grid_y, grid_z, wireframe=False)\n",
    "ipv.quiver(np.array([x, ]), np.array([y,]), np.array([grid_z[i, j]]), np.array([uvn[0]]), np.array([uvn[1]]), np.array([uvn[2]]), color=\"blue\", size=10)\n",
    "ipv.show()"
   ]
  },
  {
   "cell_type": "code",
   "execution_count": null,
   "metadata": {
    "ExecuteTime": {
     "end_time": "2019-05-10T11:46:35.998534Z",
     "start_time": "2019-05-10T11:46:35.928671Z"
    }
   },
   "outputs": [],
   "source": []
  },
  {
   "cell_type": "code",
   "execution_count": 49,
   "metadata": {
    "ExecuteTime": {
     "end_time": "2019-05-10T15:43:18.588731Z",
     "start_time": "2019-05-10T15:43:18.584977Z"
    }
   },
   "outputs": [],
   "source": [
    "# moments = cv2.moments(patch2[:, :2])\n",
    "# central_moments = [moments[key] for key in moments.keys() if key[:2] == \"mu\"]\n",
    "# central_moments = np.array(central_moments)\n",
    "# central_moments"
   ]
  },
  {
   "cell_type": "code",
   "execution_count": 23,
   "metadata": {
    "ExecuteTime": {
     "end_time": "2019-05-10T15:28:58.256414Z",
     "start_time": "2019-05-10T15:28:58.244356Z"
    }
   },
   "outputs": [],
   "source": [
    "def get_keypoint_features(keypoints, face_index):\n",
    "    feature_list = [] # a list to store extracted features of each keypoint\n",
    "    final_keypoints = [] # remove unwanted keypoints, like the ones on edges etc\n",
    "    for point in keypoints:\n",
    "        point_features = []\n",
    "        x, y, z = point\n",
    "        points = face_points[\"face\" + str(face_index)]\n",
    "        grid_x, grid_y, grid_z = grid_data[\"face\" + str(face_index)]\n",
    "        threshold = 5 * rho\n",
    "        nhood = points[(np.sum(np.square(points-point), axis=1)) < threshold**2]\n",
    "        xy_hu_moments = cv2.HuMoments(cv2.moments(nhood[:, :2])).flatten()\n",
    "        yz_hu_moments = cv2.HuMoments(cv2.moments(nhood[:, 1:])).flatten()\n",
    "        xz_hu_moments = cv2.HuMoments(cv2.moments(nhood[:, ::2])).flatten()\n",
    "        hu_moments = np.concatenate([xy_hu_moments, yz_hu_moments, xz_hu_moments])\n",
    "        #print(hu_moments)\n",
    "        #i = (x - grid_x[0, 0]) / (grid_x[1, 0] - grid_x[0, 0])\n",
    "        #j = (y - grid_y[0, 0]) / (grid_y[0, 1] - grid_y[0, 0])\n",
    "        #i, j = int(round(i)), int(round(j))\n",
    "        #start_i, start_j = i - int(5 * rho / (grid_x[1, 0] - grid_x[0, 0])), j - int(5 * rho / (grid_y[0, 1] - grid_y[0, 0]))\n",
    "        #end_i, end_j = i + int(5 * rho / (grid_x[1, 0] - grid_x[0, 0])), j + int(5 * rho / (grid_y[0, 1] - grid_y[0, 0]))\n",
    "        #nhood = points[start_i: end_i, start_j: end_j] \n",
    "        #nhood_x = grid_x[start_i:end_i, start_j:end_j]\n",
    "        #nhood_y = grid_y[start_i:end_i, start_j:end_j]\n",
    "        #nhood_z = grid_z[start_i:end_i, start_j:end_j]\n",
    "        normal = get_normal(x, y, grid_x, grid_y, grid_z)\n",
    "        if normal == \"None\": # array comparision raises ambiguity error, so None passed as string\n",
    "            continue\n",
    "        final_keypoints.append(point)\n",
    "        point_features.extend(np.array([x, y, z])) # spatial location\n",
    "        point_features.extend(normal)\n",
    "        point_features.extend(hu_moments)\n",
    "        point_features = np.array(point_features)\n",
    "        \n",
    "        feature_list.append(point_features)\n",
    "    final_keypoints = np.array(final_keypoints)\n",
    "    return final_keypoints, feature_list"
   ]
  },
  {
   "cell_type": "code",
   "execution_count": 24,
   "metadata": {
    "ExecuteTime": {
     "end_time": "2019-05-10T15:29:02.648290Z",
     "start_time": "2019-05-10T15:28:58.975260Z"
    }
   },
   "outputs": [
    {
     "name": "stderr",
     "output_type": "stream",
     "text": [
      "/home/ags/miniconda3/lib/python3.7/site-packages/ipykernel_launcher.py:26: FutureWarning: elementwise comparison failed; returning scalar instead, but in the future will perform elementwise comparison\n"
     ]
    },
    {
     "name": "stdout",
     "output_type": "stream",
     "text": [
      "shape error\n",
      "shape error\n",
      "shape error\n"
     ]
    }
   ],
   "source": [
    "features = {} # key = edge + edge_index, value = list of features for each keypoint across all the faces\n",
    "for edge_index in range(1, len(keypoints)+1):\n",
    "    edgewise_keypoint_features = [] # store features of keypoints for a given edge_index across all faces\n",
    "    for face_index in range(1, len(file_paths)+1):\n",
    "        edge_keypoints = keypoints[\"edge\" + str(edge_index)][face_index-1]\n",
    "        final_keypoints, edge_features = get_keypoint_features(edge_keypoints, face_index)\n",
    "        keypoints[\"edge\" + str(edge_index)][face_index-1] = final_keypoints\n",
    "        edgewise_keypoint_features.append(edge_features)\n",
    "    features[\"edge\" + str(edge_index)] = edgewise_keypoint_features"
   ]
  },
  {
   "cell_type": "markdown",
   "metadata": {
    "ExecuteTime": {
     "end_time": "2019-05-10T11:46:51.337463Z",
     "start_time": "2019-05-10T11:46:51.334837Z"
    }
   },
   "source": [
    "## Keypoint matching"
   ]
  },
  {
   "cell_type": "code",
   "execution_count": 46,
   "metadata": {
    "ExecuteTime": {
     "end_time": "2019-05-10T15:42:02.817957Z",
     "start_time": "2019-05-10T15:42:02.813442Z"
    }
   },
   "outputs": [],
   "source": [
    "def get_matched_keypoint(keypoints, point):\n",
    "    \"\"\"return the index of the keypoint in `keypoints` which is closest to `point` if that distance is less than 2 * rho, else return None\"\"\"\n",
    "    try:\n",
    "        distance = np.sqrt(np.sum(np.square(keypoints-point), axis=1))\n",
    "        #print(distance)\n",
    "        #pdb.set_trace()\n",
    "        if np.sum(distance < 3*rho) > 0:\n",
    "            min_dist_index = np.argmin(distance)\n",
    "            return min_dist_index\n",
    "    except Exception as e: # keypoints is [], gotta return None\n",
    "        pass\n",
    "    return None\n",
    "\n",
    "def get_matching_keypoints(edge_keypoints):\n",
    "    # check if a bunch of keypoints across the patches (across all faces) are withing 2*rho\n",
    "    # first get all the keypoints in a list\n",
    "    matching_keypoints = []\n",
    "    for face_index1 in range(len(edge_keypoints)): # take a patch along the edge among the faces\n",
    "        for point_index, point in enumerate(edge_keypoints[face_index1]): # take a keypoint in that patch, we have to find corresponding keypoints in each other patche along this edge\n",
    "            matched_keypoint_indices = [point_index] # to store indices of matched keypoints across the patches\n",
    "            for face_index2 in range(len(edge_keypoints)): # find if matching keypoints exist across the patches along that edge across all faces\n",
    "                if face_index2 == face_index1: \n",
    "                    continue\n",
    "                matched_keypoint = get_matched_keypoint(edge_keypoints[face_index2], point)\n",
    "                if matched_keypoint:\n",
    "                    matched_keypoint_indices.append(matched_keypoint)\n",
    "                else: # no keypoint was matched in the above patch (face_index2), gotta start search on other keypoint from face_index1\n",
    "                    break\n",
    "                        \n",
    "            if len(matched_keypoint_indices) == len(edge_keypoints): # there's a corresponding keypoint for each patch across all faces\n",
    "                 matching_keypoints.append(matched_keypoint_indices)\n",
    "    return matching_keypoints\n"
   ]
  },
  {
   "cell_type": "code",
   "execution_count": 48,
   "metadata": {
    "ExecuteTime": {
     "end_time": "2019-05-10T15:43:07.017921Z",
     "start_time": "2019-05-10T15:43:06.753446Z"
    }
   },
   "outputs": [
    {
     "name": "stdout",
     "output_type": "stream",
     "text": [
      "[[45, 45, 2, 11, 40, 50, 51, 58], [58, 46, 45, 2, 11, 40, 46, 51]]\n",
      "[[38, 41, 1, 7, 48, 52, 57, 59], [39, 38, 1, 8, 49, 53, 55, 58], [47, 44, 3, 15, 52, 56, 5, 60], [38, 39, 1, 8, 49, 53, 55, 58], [39, 46, 2, 11, 52, 68, 56, 60], [41, 38, 1, 10, 48, 57, 57, 59], [44, 47, 3, 15, 52, 56, 5, 60], [8, 39, 38, 1, 49, 53, 57, 59], [11, 45, 39, 2, 50, 68, 56, 60], [60, 45, 39, 2, 11, 52, 56, 56]]\n",
      "[[57, 45, 4, 15, 60, 54, 5, 65], [41, 56, 2, 11, 60, 59, 58, 65], [45, 57, 4, 15, 60, 54, 5, 65], [11, 56, 41, 2, 58, 59, 58, 65], [65, 56, 41, 2, 11, 60, 54, 58]]\n",
      "[[39, 43, 6, 5, 53, 61, 65, 61], [61, 47, 8, 14, 57, 64, 6, 63], [41, 60, 4, 10, 57, 70, 64, 63], [42, 37, 1, 5, 48, 61, 59, 64], [43, 39, 3, 8, 53, 65, 65, 61], [47, 61, 8, 14, 57, 64, 6, 63], [0, 62, 52, 3, 49, 6, 4, 58], [5, 37, 42, 6, 48, 61, 59, 64], [10, 60, 41, 4, 56, 70, 64, 63], [63, 60, 41, 4, 10, 57, 64, 64]]\n",
      "[[53, 49, 7, 2, 57, 62, 46, 48], [69, 53, 9, 9, 60, 67, 5, 50], [70, 57, 2, 1, 53, 7, 3, 46], [48, 68, 5, 6, 60, 75, 45, 50], [49, 53, 4, 4, 57, 68, 46, 48], [53, 69, 9, 9, 60, 67, 5, 50], [1, 60, 56, 58, 54, 8, 4, 56], [2, 70, 46, 1, 53, 7, 3, 46], [6, 68, 48, 5, 59, 75, 45, 50], [54, 60, 56, 1, 58, 8, 4, 56], [4, 60, 56, 1, 58, 54, 8, 56], [50, 68, 48, 5, 6, 60, 67, 45], [56, 60, 56, 1, 58, 54, 8, 4]]\n",
      "[[25, 19, 2, 22, 10, 12, 29, 23], [21, 21, 25, 4, 22, 11, 15, 34]]\n",
      "[[12, 29, 23, 3, 21, 15, 25, 35]]\n",
      "[[13, 23, 18, 3, 31, 13, 17, 10], [11, 30, 20, 5, 29, 19, 14, 21]]\n",
      "[[4, 1, 31, 20, 25, 20, 1, 2], [1, 4, 31, 20, 25, 20, 1, 2], [20, 4, 1, 1, 25, 20, 1, 2], [20, 4, 1, 31, 20, 25, 1, 2], [2, 4, 1, 31, 20, 25, 20, 1]]\n"
     ]
    }
   ],
   "source": [
    "# those keypoints which are in vicinity of 2*rho are considered for matching\n",
    "# matching is done using constrained nearest neighbour\n",
    "# choose an edge, select a keypoint, find out keypoints on corresponding patches on other faces within a vicinity of 2*rho, \n",
    "# get euclidean distance in features among all possible pair wise combinations, if the distances come out to be less than Kp are added to the global set of correspondences\n",
    "\n",
    "for edge_index in range(1, len(hull)):\n",
    "    edge_keypoints = keypoints[\"edge\" + str(edge_index)]\n",
    "    matched_keypoints = get_matching_keypoints(edge_keypoints)\n",
    "    if len(matched_keypoints) == 0:\n",
    "        continue\n",
    "    print(matched_keypoints)\n",
    "    # now that we gotta refine these matched_keypoints by doing constraint nearest neighbour search\n"
   ]
  },
  {
   "cell_type": "code",
   "execution_count": null,
   "metadata": {
    "ExecuteTime": {
     "end_time": "2019-05-10T13:56:59.912218Z",
     "start_time": "2019-05-10T13:56:38.716Z"
    }
   },
   "outputs": [],
   "source": [
    "xy_hu_moments = cv2.HuMoments(cv2.moments(patch2[:, :2])).flatten()\n",
    "yz_hu_moments = cv2.HuMoments(cv2.moments(patch2[:, 1:])).flatten()\n",
    "xz_hu_moments = cv2.HuMoments(cv2.moments(patch2[:, ::2])).flatten()\n",
    "hu_moments = np.concatenate([xy_hu_moments, yz_hu_moments, xz_hu_moments])\n",
    "hu_moments.shape\n"
   ]
  },
  {
   "cell_type": "code",
   "execution_count": null,
   "metadata": {
    "ExecuteTime": {
     "end_time": "2019-05-10T13:56:59.912947Z",
     "start_time": "2019-05-10T13:56:38.718Z"
    }
   },
   "outputs": [],
   "source": [
    "def surface_curvature(X,Y,Z):\n",
    "\n",
    "    (lr,lb)=X.shape\n",
    "\n",
    "\n",
    "    #First Derivatives\n",
    "    Xv,Xu=np.gradient(X)\n",
    "    Yv,Yu=np.gradient(Y)\n",
    "    Zv,Zu=np.gradient(Z)\n",
    "\n",
    "    #Second Derivatives\n",
    "    Xuv,Xuu=np.gradient(Xu)\n",
    "    Yuv,Yuu=np.gradient(Yu)\n",
    "    Zuv,Zuu=np.gradient(Zu)   \n",
    "\n",
    "    Xvv,Xuv=np.gradient(Xv)\n",
    "    Yvv,Yuv=np.gradient(Yv)\n",
    "    Zvv,Zuv=np.gradient(Zv) \n",
    "\n",
    "    #2D to 1D conversion \n",
    "    #Reshape to 1D vectors\n",
    "    Xu=np.reshape(Xu,lr*lb)\n",
    "    Yu=np.reshape(Yu,lr*lb)\n",
    "    Zu=np.reshape(Zu,lr*lb)\n",
    "    Xv=np.reshape(Xv,lr*lb)\n",
    "    Yv=np.reshape(Yv,lr*lb)\n",
    "    Zv=np.reshape(Zv,lr*lb)\n",
    "    Xuu=np.reshape(Xuu,lr*lb)\n",
    "    Yuu=np.reshape(Yuu,lr*lb)\n",
    "    Zuu=np.reshape(Zuu,lr*lb)\n",
    "    Xuv=np.reshape(Xuv,lr*lb)\n",
    "    Yuv=np.reshape(Yuv,lr*lb)\n",
    "    Zuv=np.reshape(Zuv,lr*lb)\n",
    "    Xvv=np.reshape(Xvv,lr*lb)\n",
    "    Yvv=np.reshape(Yvv,lr*lb)\n",
    "    Zvv=np.reshape(Zvv,lr*lb)\n",
    "\n",
    "    Xu=np.c_[Xu, Yu, Zu]\n",
    "    Xv=np.c_[Xv, Yv, Zv]\n",
    "    Xuu=np.c_[Xuu, Yuu, Zuu]\n",
    "    Xuv=np.c_[Xuv, Yuv, Zuv]\n",
    "    Xvv=np.c_[Xvv, Yvv, Zvv]\n",
    "\n",
    "    #% First fundamental Coeffecients of the surface (E,F,G)\n",
    "    E=np.einsum('ij,ij->i', Xu, Xu) \n",
    "    F=np.einsum('ij,ij->i', Xu, Xv) \n",
    "    G=np.einsum('ij,ij->i', Xv, Xv) \n",
    "\n",
    "    m=np.cross(Xu,Xv,axisa=1, axisb=1) \n",
    "    p=np.sqrt(np.einsum('ij,ij->i', m, m)) \n",
    "    n=m/np.c_[p,p,p]\n",
    "    # n is the normal\n",
    "    #% Second fundamental Coeffecients of the surface (L,M,N), (e,f,g)\n",
    "    L= np.einsum('ij,ij->i', Xuu, n) #e\n",
    "    M= np.einsum('ij,ij->i', Xuv, n) #f\n",
    "    N= np.einsum('ij,ij->i', Xvv, n) #g\n",
    "\n",
    "    # Alternative formula for gaussian curvature in wiki \n",
    "    # K = det(second fundamental) / det(first fundamental)\n",
    "    #% Gaussian Curvature\n",
    "    K=(L*N-M**2)/(E*G-L**2)\n",
    "    K=np.reshape(K,lr*lb)\n",
    "    #wiki trace of (second fundamental)(first fundamental inverse)\n",
    "    #% Mean Curvature\n",
    "    H = (E*N + G*L - 2*F*M)/((E*G - F**2))\n",
    "    H = np.reshape(H,lr*lb)\n",
    "\n",
    "    #% Principle Curvatures\n",
    "    Pmax = H + np.sqrt(H**2 - K)\n",
    "    Pmin = H - np.sqrt(H**2 - K)\n",
    "    #[Pmax, Pmin]\n",
    "    return [Pmax, Pmin, G, H]\n",
    "\n",
    "\n",
    "def fun(x,y):\n",
    "    return x**2+y**2"
   ]
  },
  {
   "cell_type": "code",
   "execution_count": null,
   "metadata": {
    "ExecuteTime": {
     "end_time": "2019-05-10T13:56:59.913652Z",
     "start_time": "2019-05-10T13:56:38.719Z"
    }
   },
   "outputs": [],
   "source": [
    "x1, y1, z1 = patch1[:, 0], patch1[:, 1], patch1[:, 2]"
   ]
  },
  {
   "cell_type": "code",
   "execution_count": null,
   "metadata": {
    "ExecuteTime": {
     "end_time": "2019-05-10T13:56:59.914311Z",
     "start_time": "2019-05-10T13:56:38.721Z"
    }
   },
   "outputs": [],
   "source": [
    "[pgrid_x,pgrid_y] = scipy.meshgrid(x1, y1)"
   ]
  },
  {
   "cell_type": "code",
   "execution_count": null,
   "metadata": {
    "ExecuteTime": {
     "end_time": "2019-05-10T13:56:59.914934Z",
     "start_time": "2019-05-10T13:56:38.722Z"
    }
   },
   "outputs": [],
   "source": [
    "plt.scatter(pgrid_x, pgrid_y);\n",
    "plt.scatter(x1, y1)"
   ]
  },
  {
   "cell_type": "code",
   "execution_count": null,
   "metadata": {
    "ExecuteTime": {
     "end_time": "2019-05-10T13:56:59.915661Z",
     "start_time": "2019-05-10T13:56:38.723Z"
    }
   },
   "outputs": [],
   "source": [
    "pgrid_z = scipy.interpolate.griddata((patch1[:, 0], patch1[:, 1]), patch1[:, 2], (pgrid_x, pgrid_y), method='cubic')"
   ]
  },
  {
   "cell_type": "code",
   "execution_count": null,
   "metadata": {
    "ExecuteTime": {
     "end_time": "2019-05-10T13:56:59.916238Z",
     "start_time": "2019-05-10T13:56:38.725Z"
    }
   },
   "outputs": [],
   "source": [
    "ipv.figure()\n",
    "ipv.plot_surface(pgrid_x, pgrid_z, pgrid_y)\n",
    "ipv.show()"
   ]
  },
  {
   "cell_type": "code",
   "execution_count": null,
   "metadata": {
    "ExecuteTime": {
     "end_time": "2019-05-10T13:56:59.916921Z",
     "start_time": "2019-05-10T13:56:38.726Z"
    }
   },
   "outputs": [],
   "source": [
    "k1, k2, G, H = surface_curvature(pgrid_x,pgrid_y,pgrid_z)"
   ]
  },
  {
   "cell_type": "code",
   "execution_count": null,
   "metadata": {
    "ExecuteTime": {
     "end_time": "2019-05-10T13:56:59.917552Z",
     "start_time": "2019-05-10T13:56:38.727Z"
    },
    "scrolled": true
   },
   "outputs": [],
   "source": [
    "k1, k2, G, H"
   ]
  },
  {
   "cell_type": "code",
   "execution_count": null,
   "metadata": {
    "ExecuteTime": {
     "end_time": "2019-05-08T07:18:29.720869Z",
     "start_time": "2019-05-08T07:18:29.716618Z"
    }
   },
   "outputs": [],
   "source": []
  },
  {
   "cell_type": "code",
   "execution_count": null,
   "metadata": {
    "ExecuteTime": {
     "end_time": "2019-05-10T13:56:59.918265Z",
     "start_time": "2019-05-10T13:56:38.731Z"
    }
   },
   "outputs": [],
   "source": [
    "for i in range(len(patch1)):\n",
    "    print(k1[i*i])"
   ]
  },
  {
   "cell_type": "code",
   "execution_count": null,
   "metadata": {
    "ExecuteTime": {
     "end_time": "2019-05-10T13:56:59.918880Z",
     "start_time": "2019-05-10T13:56:38.733Z"
    }
   },
   "outputs": [],
   "source": [
    "# Shape index\n",
    "\n",
    "Sa = 1/2 - 1/np.pi * np.arctan((k1+k2)/(k1-k2))\n",
    "Sb = 2/np.pi * np.arctan((k1+k2)/(k1-k2))\n",
    "\n",
    "print(Sa)\n",
    "print(Sb)"
   ]
  },
  {
   "cell_type": "code",
   "execution_count": null,
   "metadata": {
    "ExecuteTime": {
     "end_time": "2019-05-10T13:56:59.919608Z",
     "start_time": "2019-05-10T13:56:38.734Z"
    }
   },
   "outputs": [],
   "source": [
    "curvedness = np.sqrt((k1**2 + k2**2)/2)\n",
    "log_curvedness = 2/np.pi * np.log10(curvedness)\n",
    "willmore_energy = H**2 - G\n",
    "shape_curvedness = Sb * log_curvedness\n",
    "log_difference_map = np.log(G - H + 1) \n"
   ]
  },
  {
   "cell_type": "code",
   "execution_count": null,
   "metadata": {},
   "outputs": [],
   "source": []
  },
  {
   "cell_type": "code",
   "execution_count": null,
   "metadata": {},
   "outputs": [],
   "source": []
  },
  {
   "cell_type": "code",
   "execution_count": null,
   "metadata": {},
   "outputs": [],
   "source": []
  },
  {
   "cell_type": "code",
   "execution_count": null,
   "metadata": {},
   "outputs": [],
   "source": []
  },
  {
   "cell_type": "code",
   "execution_count": null,
   "metadata": {},
   "outputs": [],
   "source": []
  },
  {
   "cell_type": "code",
   "execution_count": null,
   "metadata": {},
   "outputs": [],
   "source": []
  },
  {
   "cell_type": "code",
   "execution_count": null,
   "metadata": {},
   "outputs": [],
   "source": []
  },
  {
   "cell_type": "code",
   "execution_count": null,
   "metadata": {},
   "outputs": [],
   "source": []
  },
  {
   "cell_type": "code",
   "execution_count": null,
   "metadata": {},
   "outputs": [],
   "source": []
  },
  {
   "cell_type": "code",
   "execution_count": null,
   "metadata": {},
   "outputs": [],
   "source": []
  },
  {
   "cell_type": "code",
   "execution_count": null,
   "metadata": {},
   "outputs": [],
   "source": []
  },
  {
   "cell_type": "code",
   "execution_count": null,
   "metadata": {},
   "outputs": [],
   "source": []
  }
 ],
 "metadata": {
  "kernelspec": {
   "display_name": "Python 3",
   "language": "python",
   "name": "python3"
  },
  "language_info": {
   "codemirror_mode": {
    "name": "ipython",
    "version": 3
   },
   "file_extension": ".py",
   "mimetype": "text/x-python",
   "name": "python",
   "nbconvert_exporter": "python",
   "pygments_lexer": "ipython3",
   "version": "3.7.2"
  }
 },
 "nbformat": 4,
 "nbformat_minor": 2
}
