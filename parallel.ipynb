{
 "cells": [
  {
   "cell_type": "markdown",
   "metadata": {},
   "source": [
    "# Dense 3D Face Correspondence"
   ]
  },
  {
   "cell_type": "code",
   "execution_count": 1,
   "metadata": {
    "ExecuteTime": {
     "end_time": "2019-05-11T07:36:20.791752Z",
     "start_time": "2019-05-11T07:36:20.789806Z"
    }
   },
   "outputs": [],
   "source": [
    "# import os\n",
    "# os.environ[\"MKL_NUM_THREADS\"] = \"1\" \n",
    "# os.environ[\"NUMEXPR_NUM_THREADS\"] = \"1\" \n",
    "# os.environ[\"OMP_NUM_THREADS\"] = \"1\" "
   ]
  },
  {
   "cell_type": "code",
   "execution_count": 5,
   "metadata": {
    "ExecuteTime": {
     "end_time": "2019-05-11T10:56:57.164580Z",
     "start_time": "2019-05-11T10:56:57.151432Z"
    }
   },
   "outputs": [],
   "source": [
    "import pdb\n",
    "import numpy as np\n",
    "import re\n",
    "import threading\n",
    "import cv2\n",
    "import ipyvolume as ipv\n",
    "import scipy\n",
    "from math import cos, sin\n",
    "from scipy import meshgrid, interpolate\n",
    "import pdb\n",
    "import matplotlib.pyplot as plt\n",
    "from mpl_toolkits.mplot3d import Axes3D\n",
    "from scipy.spatial import ConvexHull, Delaunay\n",
    "import numpy as np\n",
    "from scipy.interpolate import griddata\n",
    "\n",
    "# THRESHOLDS\n",
    "rho = 0.5\n",
    "eigen_ratio_threshold = 5000"
   ]
  },
  {
   "cell_type": "code",
   "execution_count": 31,
   "metadata": {
    "ExecuteTime": {
     "end_time": "2019-05-11T09:58:49.989853Z",
     "start_time": "2019-05-11T09:58:49.979303Z"
    }
   },
   "outputs": [],
   "source": [
    "'''def read_wrl(file_path,var_name):\n",
    "    holder = []\n",
    "    with open(file_path, \"r\") as vrml:\n",
    "        for line in vrml:\n",
    "            a = line.strip().strip(\",\").split()\n",
    "            if len(a) == 3:\n",
    "                try:\n",
    "                    holder.append(list(map(float, a)))\n",
    "                except:\n",
    "                    pass\n",
    "    x,y,z = zip(*holder)\n",
    "    x = np.array(x)\n",
    "    y = np.array(y)\n",
    "    z = np.array(z)\n",
    "    face_points[var_name] = np.array(holder)'''"
   ]
  },
  {
   "cell_type": "code",
   "execution_count": 32,
   "metadata": {
    "ExecuteTime": {
     "end_time": "2019-05-11T09:58:52.515640Z",
     "start_time": "2019-05-11T09:58:52.237470Z"
    }
   },
   "outputs": [],
   "source": [
    "'''file_paths = {\n",
    "    \"path1\": \"F0001/F0001_AN01WH_F3D.wrl\",\n",
    "    \"path2\": \"F0001/F0001_AN02WH_F3D.wrl\",\n",
    "    \"path3\": \"F0001/F0001_AN03WH_F3D.wrl\",\n",
    "    \"path4\": \"F0001/F0001_AN04WH_F3D.wrl\",\n",
    "    \"path5\": \"F0001/F0001_DI01WH_F3D.wrl\",\n",
    "    \"path6\": \"F0001/F0001_DI02WH_F3D.wrl\",\n",
    "    \"path7\": \"F0001/F0001_DI03WH_F3D.wrl\",\n",
    "    \"path8\": \"F0001/F0001_DI04WH_F3D.wrl\",\n",
    "    \n",
    "}\n",
    "face_points = {} # key = face+index, value = extracted face data\n",
    "for i in range(1, len(file_paths)+1):\n",
    "    thread = threading.Thread(target=read_wrl,args=(file_paths[\"path\" + str(i)],\"face\" + str(i)))\n",
    "    thread.start()\n",
    "    #face_points[\"face\" + str(i)] = read_wrl(file_paths[\"path\" + str(i)])\n",
    "\n",
    "while len(face_points) != len(file_paths):\n",
    "    time.sleep(0.1)'''"
   ]
  },
  {
   "cell_type": "code",
   "execution_count": 33,
   "metadata": {
    "ExecuteTime": {
     "end_time": "2019-05-11T09:59:47.129804Z",
     "start_time": "2019-05-11T09:59:47.125489Z"
    }
   },
   "outputs": [
    {
     "data": {
      "text/plain": [
       "{'face1': array([[  27.4703,  -60.5966,  -23.9859],\n",
       "        [  27.6342,  -58.5174,  -24.2949],\n",
       "        [  25.9556,  -59.2863,  -23.2552],\n",
       "        ...,\n",
       "        [ -57.5708,  -39.7324,  -99.7084],\n",
       "        [ -21.8135, -111.782 ,  -69.8048],\n",
       "        [ -56.8643,  -42.279 ,  -98.5402]]),\n",
       " 'face4': array([[ 43.3909, -66.4114,  31.1063],\n",
       "        [ 43.5612, -64.4194,  30.3593],\n",
       "        [ 41.7755, -65.0309,  31.3583],\n",
       "        ...,\n",
       "        [-56.5893, -44.8446, -24.7909],\n",
       "        [-56.6231, -44.33  , -24.795 ],\n",
       "        [-56.5394, -45.5457, -24.7848]]),\n",
       " 'face5': array([[  55.2013,  -39.1401,   53.0094],\n",
       "        [  55.4291,  -37.2959,   54.43  ],\n",
       "        [  53.4106,  -38.2957,   53.9848],\n",
       "        ...,\n",
       "        [  21.7241, -137.298 ,   33.5786],\n",
       "        [  29.2773, -137.096 ,   33.5565],\n",
       "        [  25.9154, -137.702 ,   33.9256]]),\n",
       " 'face3': array([[ 14.6083 ,  -6.74486,  38.8328 ],\n",
       "        [ 14.6703 ,  -4.50074,  38.2945 ],\n",
       "        [ 12.6999 ,  -5.58541,  38.1367 ],\n",
       "        ...,\n",
       "        [ 86.3475 ,  -5.78857, -18.8811 ],\n",
       "        [ 86.3077 ,  -4.43203, -19.005  ],\n",
       "        [ 86.3268 ,  -2.72787, -19.1584 ]]),\n",
       " 'face7': array([[ 66.0046 , -13.6577 ,   9.70135],\n",
       "        [ 67.3007 , -14.8335 ,   8.49168],\n",
       "        [ 67.3057 , -12.7361 ,   8.25329],\n",
       "        ...,\n",
       "        [-48.5918 , -38.3466 , -20.0988 ],\n",
       "        [-48.8489 , -40.4746 , -20.2125 ],\n",
       "        [-48.6034 , -38.481  , -20.1055 ]]),\n",
       " 'face6': array([[ 55.5763 , -81.3722 ,  39.8566 ],\n",
       "        [ 55.5647 , -79.3438 ,  39.5153 ],\n",
       "        [ 53.9687 , -80.2289 ,  40.458  ],\n",
       "        ...,\n",
       "        [ 78.5411 , -11.2687 ,  10.9648 ],\n",
       "        [ 81.9716 , -18.9332 ,   5.20152],\n",
       "        [ 82.1537 , -18.3214 ,   5.87774]]),\n",
       " 'face2': array([[  17.6965,  -12.3574,  -62.6511],\n",
       "        [  17.8388,  -10.0852,  -62.5031],\n",
       "        [  15.7552,  -11.1752,  -62.8181],\n",
       "        ...,\n",
       "        [  94.4641,  -77.1601, -142.648 ],\n",
       "        [ -37.069 ,  -72.3382, -143.81  ],\n",
       "        [ -37.2398,  -71.7294, -144.194 ]]),\n",
       " 'face8': array([[ 42.9555 ,  -9.01452,  29.9386 ],\n",
       "        [ 42.9887 ,  -7.16817,  30.9879 ],\n",
       "        [ 41.1322 ,  -8.15691,  30.773  ],\n",
       "        ...,\n",
       "        [-52.8928 , -24.3187 , -24.507  ],\n",
       "        [-53.3889 , -22.8588 , -24.4654 ],\n",
       "        [ 80.7059 ,  -4.32019, -12.0316 ]])}"
      ]
     },
     "execution_count": 33,
     "metadata": {},
     "output_type": "execute_result"
    }
   ],
   "source": []
  },
  {
   "cell_type": "code",
   "execution_count": 19,
   "metadata": {
    "ExecuteTime": {
     "end_time": "2019-05-11T10:54:54.941672Z",
     "start_time": "2019-05-11T10:54:54.932315Z"
    }
   },
   "outputs": [
    {
     "data": {
      "text/plain": [
       "\"\\ndef normalize_face(points):\\n    maxind = np.argmax(points[:,2])\\n    nosex = points[maxind,0]\\n    nosey = points[maxind,1]\\n    nosez = points[maxind,2]\\n    points = points - np.array([nosex, nosey, nosez])\\n#     points = points / np.max(points)\\n    return points\\n\\ndef points2grid(points):\\n    x1, y1, z1 = map(np.array, zip(*points))\\n    grid_x, grid_y = np.mgrid[np.amin(x1):np.amax(x1):0.5, np.amin(y1):np.amax(y1):0.5]\\n    grid_z = griddata((x1, y1), z1, (grid_x, grid_y), method='linear')\\n    return [grid_x, grid_y, grid_z]\\n\""
      ]
     },
     "execution_count": 19,
     "metadata": {},
     "output_type": "execute_result"
    }
   ],
   "source": [
    "'''\n",
    "def normalize_face(points):\n",
    "    maxind = np.argmax(points[:,2])\n",
    "    nosex = points[maxind,0]\n",
    "    nosey = points[maxind,1]\n",
    "    nosez = points[maxind,2]\n",
    "    points = points - np.array([nosex, nosey, nosez])\n",
    "#     points = points / np.max(points)\n",
    "    return points\n",
    "\n",
    "def points2grid(points):\n",
    "    x1, y1, z1 = map(np.array, zip(*points))\n",
    "    grid_x, grid_y = np.mgrid[np.amin(x1):np.amax(x1):0.5, np.amin(y1):np.amax(y1):0.5]\n",
    "    grid_z = griddata((x1, y1), z1, (grid_x, grid_y), method='linear')\n",
    "    return [grid_x, grid_y, grid_z]\n",
    "'''"
   ]
  },
  {
   "cell_type": "code",
   "execution_count": 5,
   "metadata": {
    "ExecuteTime": {
     "end_time": "2019-05-11T09:33:54.698430Z",
     "start_time": "2019-05-11T09:33:54.139863Z"
    }
   },
   "outputs": [],
   "source": [
    "# normalizing the faces and interpolating them across a grid\n",
    "#grid_data = {}\n",
    "#for i in range(1, len(file_paths)+1):\n",
    "    # normalization\n",
    " #   face_points[\"face\" + str(i)] = normalize_face(face_points[\"face\" + str(i)])\n",
    "    # grid interpolation of the face data\n",
    "  #  grid_data[\"face\" + str(i)] = points2grid(face_points[\"face\" + str(i)])"
   ]
  },
  {
   "cell_type": "markdown",
   "metadata": {},
   "source": [
    "### Read Each face data, normalize it and then interpolate it parallely"
   ]
  },
  {
   "cell_type": "code",
   "execution_count": 6,
   "metadata": {
    "ExecuteTime": {
     "end_time": "2019-05-11T10:57:30.654209Z",
     "start_time": "2019-05-11T10:57:30.646863Z"
    }
   },
   "outputs": [],
   "source": [
    "#Read each face data, normalize it and get the interpolation it in a parallel fashion\n",
    "def get_data(file_path,var_name):\n",
    "    #global points and grid data structure which will be modified by all threads\n",
    "    global face_points\n",
    "    global grid_data\n",
    "    holder = []\n",
    "    #reading face data from path\n",
    "    with open(file_path, \"r\") as vrml:\n",
    "        for line in vrml:\n",
    "            a = line.strip().strip(\",\").split()\n",
    "            if len(a) == 3:\n",
    "                try:\n",
    "                    holder.append(list(map(float, a)))\n",
    "                except:\n",
    "                    pass\n",
    "    x,y,z = zip(*holder)\n",
    "    x = np.array(x)\n",
    "    y = np.array(y)\n",
    "    z = np.array(z)\n",
    "    holder = np.array(holder)\n",
    "    #normalizing face\n",
    "    maxind = np.argmax(holder[:,2])\n",
    "    nosex = holder[maxind,0]\n",
    "    nosey = holder[maxind,1]\n",
    "    nosez = holder[maxind,2]\n",
    "    holder = holder - np.array([nosex, nosey, nosez])\n",
    "    face_points[var_name] = holder\n",
    "    x1, y1, z1 = map(np.array, zip(*holder))\n",
    "    grid_x, grid_y = np.mgrid[np.amin(x1):np.amax(x1):0.5, np.amin(y1):np.amax(y1):0.5]\n",
    "    grid_z = griddata((x1, y1), z1, (grid_x, grid_y), method='linear')\n",
    "    grid_data[var_name] = [grid_x, grid_y, grid_z]  \n",
    "  \n"
   ]
  },
  {
   "cell_type": "code",
   "execution_count": 7,
   "metadata": {
    "ExecuteTime": {
     "end_time": "2019-05-11T10:57:33.585736Z",
     "start_time": "2019-05-11T10:57:33.330286Z"
    }
   },
   "outputs": [],
   "source": [
    "face_points = {}\n",
    "grid_data = {}\n",
    "file_paths = {\n",
    "    \"path1\": \"F0001/F0001_AN01WH_F3D.wrl\",\n",
    "    \"path2\": \"F0001/F0001_AN02WH_F3D.wrl\",\n",
    "    \"path3\": \"F0001/F0001_AN03WH_F3D.wrl\",\n",
    "    \"path4\": \"F0001/F0001_AN04WH_F3D.wrl\",\n",
    "    \"path5\": \"F0001/F0001_DI01WH_F3D.wrl\",\n",
    "    \"path6\": \"F0001/F0001_DI02WH_F3D.wrl\",\n",
    "    \"path7\": \"F0001/F0001_DI03WH_F3D.wrl\",\n",
    "    \"path8\": \"F0001/F0001_DI04WH_F3D.wrl\",\n",
    "    \n",
    "}\n",
    "\n",
    "for i in range(1,len(file_paths)+1):\n",
    "    thread = threading.Thread(target=get_data,args=(file_paths[\"path\"+str(i)],\"face\"+str(i)))\n",
    "    thread.start()\n",
    "    \n"
   ]
  },
  {
   "cell_type": "code",
   "execution_count": 8,
   "metadata": {
    "ExecuteTime": {
     "end_time": "2019-05-11T10:57:40.183569Z",
     "start_time": "2019-05-11T10:57:40.177756Z"
    }
   },
   "outputs": [
    {
     "data": {
      "text/plain": [
       "{'face5': array([[ 28.3164,  19.3635, -30.6283],\n",
       "        [ 28.5442,  21.2077, -29.2077],\n",
       "        [ 26.5257,  20.2079, -29.6529],\n",
       "        ...,\n",
       "        [ -5.1608, -78.7944, -50.0591],\n",
       "        [  2.3924, -78.5924, -50.0812],\n",
       "        [ -0.9695, -79.1984, -49.7121]]),\n",
       " 'face2': array([[-10.3441,  52.0685, -16.0251],\n",
       "        [-10.2018,  54.3407, -15.8771],\n",
       "        [-12.2854,  53.2507, -16.1921],\n",
       "        ...,\n",
       "        [ 66.4235, -12.7342, -96.022 ],\n",
       "        [-65.1096,  -7.9123, -97.184 ],\n",
       "        [-65.2804,  -7.3035, -97.568 ]]),\n",
       " 'face3': array([[ -0.8147 ,  28.54654, -12.3373 ],\n",
       "        [ -0.7527 ,  30.79066, -12.8756 ],\n",
       "        [ -2.7231 ,  29.70599, -13.0334 ],\n",
       "        ...,\n",
       "        [ 70.9245 ,  29.50283, -70.0512 ],\n",
       "        [ 70.8847 ,  30.85937, -70.1751 ],\n",
       "        [ 70.9038 ,  32.56353, -70.3285 ]]),\n",
       " 'face4': array([[ 35.22987,   4.0784 , -24.4649 ],\n",
       "        [ 35.40017,   6.0704 , -25.2119 ],\n",
       "        [ 33.61447,   5.4589 , -24.2129 ],\n",
       "        ...,\n",
       "        [-64.75033,  25.6452 , -80.3621 ],\n",
       "        [-64.78413,  26.1598 , -80.3662 ],\n",
       "        [-64.70043,  24.9441 , -80.356  ]]),\n",
       " 'face1': array([[  18.63981,  -16.1377 ,  -29.09531],\n",
       "        [  18.80371,  -14.0585 ,  -29.40431],\n",
       "        [  17.12511,  -14.8274 ,  -28.36461],\n",
       "        ...,\n",
       "        [ -66.40129,    4.7265 , -104.81781],\n",
       "        [ -30.64399,  -67.3231 ,  -74.91421],\n",
       "        [ -65.69479,    2.1799 , -103.64961]]),\n",
       " 'face7': array([[ 52.2153 ,  60.4478 , -39.64025],\n",
       "        [ 53.5114 ,  59.272  , -40.84992],\n",
       "        [ 53.5164 ,  61.3694 , -41.08831],\n",
       "        ...,\n",
       "        [-62.3811 ,  35.7589 , -69.4404 ],\n",
       "        [-62.6382 ,  33.6309 , -69.5541 ],\n",
       "        [-62.3927 ,  35.6245 , -69.4471 ]]),\n",
       " 'face6': array([[ 33.3352 ,   1.144  , -28.3504 ],\n",
       "        [ 33.3236 ,   3.1724 , -28.6917 ],\n",
       "        [ 31.7276 ,   2.2873 , -27.749  ],\n",
       "        ...,\n",
       "        [ 56.3    ,  71.2475 , -57.2422 ],\n",
       "        [ 59.7305 ,  63.583  , -63.00548],\n",
       "        [ 59.9126 ,  64.1948 , -62.32926]]),\n",
       " 'face8': array([[ 30.8759 ,  24.85258, -24.312  ],\n",
       "        [ 30.9091 ,  26.69893, -23.2627 ],\n",
       "        [ 29.0526 ,  25.71019, -23.4776 ],\n",
       "        ...,\n",
       "        [-64.9724 ,   9.5484 , -78.7576 ],\n",
       "        [-65.4685 ,  11.0083 , -78.716  ],\n",
       "        [ 68.6263 ,  29.54691, -66.2822 ]])}"
      ]
     },
     "execution_count": 8,
     "metadata": {},
     "output_type": "execute_result"
    }
   ],
   "source": [
    "face_points"
   ]
  },
  {
   "cell_type": "code",
   "execution_count": 9,
   "metadata": {
    "ExecuteTime": {
     "end_time": "2019-05-11T10:57:44.678003Z",
     "start_time": "2019-05-11T10:57:44.653112Z"
    }
   },
   "outputs": [
    {
     "data": {
      "application/vnd.jupyter.widget-view+json": {
       "model_id": "86668be490f741acaa9384a0c334432f",
       "version_major": 2,
       "version_minor": 0
      },
      "text/plain": [
       "VBox(children=(Figure(camera=PerspectiveCamera(fov=46.0, position=(0.0, 0.0, 2.0), quaternion=(0.0, 0.0, 0.0, …"
      ]
     },
     "metadata": {},
     "output_type": "display_data"
    }
   ],
   "source": [
    "# hull plot\n",
    "first_face_id = 3 # face id (number) to plot\n",
    "second_face_id = 7\n",
    "points = face_points[\"face\" + str(first_face_id)]\n",
    "points2 = face_points[\"face\" + str(second_face_id)]\n",
    "ipv.quickscatter(points[:, 0], points[:, 1], points[:, 2], size=1, marker=\"sphere\")\n",
    "ipv.scatter(points2[:, 0], points2[:, 1], points2[:, 2], size=1, marker=\"sphere\", color=\"blue\")\n",
    "ipv.show()"
   ]
  },
  {
   "cell_type": "markdown",
   "metadata": {},
   "source": [
    "## Plot the interpolated faces"
   ]
  },
  {
   "cell_type": "code",
   "execution_count": 10,
   "metadata": {
    "ExecuteTime": {
     "end_time": "2019-05-11T10:57:52.091892Z",
     "start_time": "2019-05-11T10:57:52.060987Z"
    }
   },
   "outputs": [
    {
     "data": {
      "application/vnd.jupyter.widget-view+json": {
       "model_id": "316e915de0a041e09c118237d913cdd9",
       "version_major": 2,
       "version_minor": 0
      },
      "text/plain": [
       "VBox(children=(Figure(camera=PerspectiveCamera(fov=46.0, position=(0.0, 0.0, 2.0), quaternion=(0.0, 0.0, 0.0, …"
      ]
     },
     "metadata": {},
     "output_type": "display_data"
    }
   ],
   "source": [
    "\n",
    "face_id = 8\n",
    "ipv.clear()\n",
    "grid_x, grid_y, grid_z = grid_data[\"face\" + str(face_id)]\n",
    "ipv.plot_mesh(grid_x, grid_y, grid_z, wireframe=False)\n",
    "ipv.show()"
   ]
  },
  {
   "cell_type": "markdown",
   "metadata": {},
   "source": [
    "## Sparse Correspondence Initialization"
   ]
  },
  {
   "cell_type": "markdown",
   "metadata": {},
   "source": [
    "## Seed points sampling using mean 2D convex hull "
   ]
  },
  {
   "cell_type": "code",
   "execution_count": 8,
   "metadata": {
    "ExecuteTime": {
     "end_time": "2019-05-11T09:34:29.395540Z",
     "start_time": "2019-05-11T09:34:25.424743Z"
    }
   },
   "outputs": [],
   "source": [
    "def hull72(points, nosex, nosey, nosez):\n",
    "    newhull = [[nosex, nosey, nosez]]\n",
    "    for theta in range(0, 360, 5):\n",
    "        fx = 200 * cos(theta * np.pi / 180)\n",
    "        fy = 200 * sin(theta * np.pi / 180)\n",
    "        nearest_point = min(zip(points[:, 0], points[:, 1], points[:, 2]), key=lambda p:(p[0] - fx)**2 + (p[1] - fy)**2)\n",
    "        newhull.append(nearest_point)\n",
    "    return newhull\n",
    "\n",
    "def get_hull(points):\n",
    "    maxind = np.argmax(points[:,2])\n",
    "    # coordinates of nose, nosex = x coordinate of nose, similarly for nosey and nosez\n",
    "    nosex = points[maxind,0]\n",
    "    nosey = points[maxind,1]\n",
    "    nosez = points[maxind,2]\n",
    "    hull = np.array(hull72(points, nosex,nosey,nosez))\n",
    "    return hull\n",
    "\n",
    "hull = np.zeros([73, 3])\n",
    "for i in range(1, len(file_paths)+1):\n",
    "    hull += get_hull(face_points[\"face\" + str(i)])\n",
    "hull = hull / len(file_paths)"
   ]
  },
  {
   "cell_type": "markdown",
   "metadata": {},
   "source": [
    "### Plot of extracted seed points"
   ]
  },
  {
   "cell_type": "code",
   "execution_count": 9,
   "metadata": {
    "ExecuteTime": {
     "end_time": "2019-05-11T09:34:37.348963Z",
     "start_time": "2019-05-11T09:34:37.116213Z"
    }
   },
   "outputs": [
    {
     "data": {
      "image/png": "[encoded data removed]",
      "text/plain": [
       "<Figure size 576x576 with 1 Axes>"
      ]
     },
     "metadata": {
      "needs_background": "light"
     },
     "output_type": "display_data"
    }
   ],
   "source": [
    "first_face_index = 7\n",
    "second_face_index = 4\n",
    "points1 = face_points[\"face\" + str(first_face_index)]\n",
    "points2 = face_points[\"face\" + str(second_face_index)]\n",
    "plt.figure(figsize=(8,8))\n",
    "plt.scatter(points1[:,0], points1[:,1], color=\"red\")\n",
    "plt.scatter(points2[:,0], points2[:,1], color=\"orange\")\n",
    "plt.scatter(hull[:,0], hull[:,1])\n",
    "maxind = np.argmax(points1[:,2])\n",
    "nosex = points1[maxind,0]\n",
    "nosey = points1[maxind,1]\n",
    "nosez = points1[maxind,2]\n",
    "plt.plot(nosex,nosey,\"b\")\n",
    "plt.show()"
   ]
  },
  {
   "cell_type": "markdown",
   "metadata": {},
   "source": [
    "## Delaunay Triangulation "
   ]
  },
  {
   "cell_type": "code",
   "execution_count": 10,
   "metadata": {
    "ExecuteTime": {
     "end_time": "2019-05-11T09:34:43.750223Z",
     "start_time": "2019-05-11T09:34:43.740518Z"
    }
   },
   "outputs": [],
   "source": [
    "def do_triangulation(hull):\n",
    "    points2D = np.vstack([hull[:,0],hull[:,1]]).T\n",
    "    tri_hull = Delaunay(points2D) \n",
    "    return tri_hull"
   ]
  },
  {
   "cell_type": "code",
   "execution_count": 11,
   "metadata": {
    "ExecuteTime": {
     "end_time": "2019-05-11T09:34:45.195339Z",
     "start_time": "2019-05-11T09:34:45.193038Z"
    }
   },
   "outputs": [],
   "source": [
    "tri_hull = do_triangulation(hull)"
   ]
  },
  {
   "cell_type": "code",
   "execution_count": 12,
   "metadata": {
    "ExecuteTime": {
     "end_time": "2019-05-11T09:34:46.569436Z",
     "start_time": "2019-05-11T09:34:46.529401Z"
    }
   },
   "outputs": [
    {
     "data": {
      "application/vnd.jupyter.widget-view+json": {
       "model_id": "1212a0af67574dbeb8ca116a3d3a2c68",
       "version_major": 2,
       "version_minor": 0
      },
      "text/plain": [
       "VBox(children=(Figure(camera=PerspectiveCamera(fov=46.0, position=(0.0, 0.0, 2.0), quaternion=(0.0, 0.0, 0.0, …"
      ]
     },
     "metadata": {},
     "output_type": "display_data"
    }
   ],
   "source": [
    "ipv.figure()\n",
    "mesh = ipv.plot_trisurf(hull[:,0], hull[:,1], hull[:,2], triangles=tri_hull.simplices, color='blue')\n",
    "ipv.scatter(hull[:,0], hull[:,1], hull[:,2], marker='sphere', color='red')\n",
    "ipv.show()"
   ]
  },
  {
   "cell_type": "markdown",
   "metadata": {},
   "source": [
    "## Geodesic Patch Extraction"
   ]
  },
  {
   "cell_type": "code",
   "execution_count": 14,
   "metadata": {
    "ExecuteTime": {
     "end_time": "2019-05-11T09:35:12.319405Z",
     "start_time": "2019-05-11T09:35:12.312586Z"
    }
   },
   "outputs": [],
   "source": [
    "def get_patch(points, hull, x1, y1, z1):\n",
    "    patch_width = 5 * rho\n",
    "    def distance(x,y,z,x1,y1,z1,x2,y2,z2):\n",
    "        a = (y2-y1)/(x2-x1)\n",
    "        b = -1\n",
    "        c = y2-x2*(y2-y1)/(x2-x1)\n",
    "        return abs(a*x+b*y+c)/(a**2+b**2)**0.5\n",
    "\n",
    "    patch = []\n",
    "    nosex, nosey, nosez = hull[0]\n",
    "    for x2,y2,z2 in points:\n",
    "        if (y1-nosey)/(y2-nosey+0.0001)>0 and (x1-nosex)/(x2-nosex+0.0001)>0 \\\n",
    "        and distance(x2,y2,z2,x1,y1,z1,nosex,nosey,nosez)<patch_width:\n",
    "            patch.append([x2,y2,z2])\n",
    "    patch = np.array(patch)\n",
    "    return patch"
   ]
  },
  {
   "cell_type": "code",
   "execution_count": 15,
   "metadata": {
    "ExecuteTime": {
     "end_time": "2019-05-11T09:35:22.045241Z",
     "start_time": "2019-05-11T09:35:13.743066Z"
    }
   },
   "outputs": [],
   "source": [
    "def get_patches(hull):\n",
    "    patches = {} # key = edges, values = a list of extracted patches from all faces along that edge \n",
    "    for edge_index in range(1, len(hull)): # skipping the nose point\n",
    "        x1, y1, z1 = hull[edge_index, :]\n",
    "        patch_list = []\n",
    "        for face_index in range(1, len(file_paths)+1): # we have to extract patches along `edge_index` across all faces\n",
    "            patch = get_patch(face_points[\"face\" + str(face_index)], hull, x1, y1, z1)\n",
    "            patch_list.append(patch)\n",
    "        patches[\"edge\" + str(edge_index)] = patch_list\n",
    "    return patches\n",
    "\n",
    "patches = get_patches(hull)"
   ]
  },
  {
   "cell_type": "code",
   "execution_count": 16,
   "metadata": {
    "ExecuteTime": {
     "end_time": "2019-05-11T09:35:28.394776Z",
     "start_time": "2019-05-11T09:35:28.285321Z"
    }
   },
   "outputs": [
    {
     "data": {
      "application/vnd.jupyter.widget-view+json": {
       "model_id": "cde81658b4d3419a949614078a8cc772",
       "version_major": 2,
       "version_minor": 0
      },
      "text/plain": [
       "VBox(children=(Figure(camera=PerspectiveCamera(fov=46.0, position=(0.0, 0.0, 2.0), quaternion=(0.0, 0.0, 0.0, …"
      ]
     },
     "metadata": {},
     "output_type": "display_data"
    }
   ],
   "source": [
    "# randomly selecting a edge, and plotting all patches along that edge across all the faces\n",
    "ipv.clear()\n",
    "edge_index = np.random.choice(range(len(patches)))\n",
    "edge = patches[\"edge\" + str(edge_index)]\n",
    "for i in range(len(edge)):\n",
    "    patch = edge[i]\n",
    "    ipv.scatter(patch[:,0], patch[:,1], patch[:,2], size=1, marker=\"sphere\", color=[\"red\", \"blue\", \"yellow\", \"green\"][i%4])\n",
    "ipv.show()"
   ]
  },
  {
   "cell_type": "markdown",
   "metadata": {},
   "source": [
    "## Keypoint Extraction"
   ]
  },
  {
   "cell_type": "code",
   "execution_count": 17,
   "metadata": {
    "ExecuteTime": {
     "end_time": "2019-05-11T09:35:44.260845Z",
     "start_time": "2019-05-11T09:35:44.254604Z"
    }
   },
   "outputs": [],
   "source": [
    "# takes in a point and the patch it belongs to and decides whether it is a keypoint (ratio of largest two eigenvalues on the covariance matrix of its local surface) or not\n",
    "def is_keypoint(point, points):\n",
    "    threshold = 7 * rho\n",
    "    nhood = points[(np.sum(np.square(points-point),axis=1)) < threshold**2]\n",
    "    try:\n",
    "        nhood = (nhood - np.min(nhood, axis=0)) / (np.max(nhood, axis=0) - np.min(nhood, axis=0))\n",
    "        covmat = np.cov(nhood)\n",
    "        eigvals = np.sort(np.abs(np.linalg.eigvalsh(covmat)))\n",
    "        ratio = eigvals[-1]/(eigvals[-2]+0.0001)\n",
    "        return ratio>30 #eigen_ratio_threshold #/ 5\n",
    "    except Exception as e:\n",
    "        return False\n"
   ]
  },
  {
   "cell_type": "code",
   "execution_count": 18,
   "metadata": {
    "ExecuteTime": {
     "end_time": "2019-05-11T09:35:55.848661Z",
     "start_time": "2019-05-11T09:35:49.066367Z"
    }
   },
   "outputs": [
    {
     "name": "stderr",
     "output_type": "stream",
     "text": [
      "/home/ags/miniconda3/lib/python3.7/site-packages/ipykernel_launcher.py:6: RuntimeWarning: invalid value encountered in true_divide\n",
      "  \n"
     ]
    }
   ],
   "source": [
    "def get_keypoints(patches):\n",
    "    keypoints = {} # key = edge, value = a list of keypoints extracted from the patches along that edge across all faces\n",
    "    for edge_index in range(1, len(patches)+1):\n",
    "        edge_patches = patches[\"edge\" + str(edge_index)]\n",
    "        edge_keypoints = []\n",
    "        for patch in edge_patches:\n",
    "            #print(patch)\n",
    "            patch_keypoints = patch[np.apply_along_axis(is_keypoint, 1, patch, patch)] # keypoints in `patch`\n",
    "            edge_keypoints.append(patch_keypoints)\n",
    "        keypoints[\"edge\" + str(edge_index)] = edge_keypoints \n",
    "    return keypoints\n",
    "\n",
    "keypoints = get_keypoints(patches)"
   ]
  },
  {
   "cell_type": "code",
   "execution_count": 19,
   "metadata": {
    "ExecuteTime": {
     "end_time": "2019-05-11T09:36:03.634569Z",
     "start_time": "2019-05-11T09:36:03.606969Z"
    },
    "scrolled": false
   },
   "outputs": [
    {
     "name": "stdout",
     "output_type": "stream",
     "text": [
      "(1918, 3)\n"
     ]
    },
    {
     "data": {
      "application/vnd.jupyter.widget-view+json": {
       "model_id": "f239c47b212c44998aa5ff3bddc74271",
       "version_major": 2,
       "version_minor": 0
      },
      "text/plain": [
       "VBox(children=(Figure(camera=PerspectiveCamera(fov=46.0, position=(0.0, 0.0, 2.0), quaternion=(0.0, 0.0, 0.0, …"
      ]
     },
     "metadata": {},
     "output_type": "display_data"
    }
   ],
   "source": [
    "# plot keypoints of a face, given the face index\n",
    "face_index = 1\n",
    "face_keypoints = []\n",
    "for edge_index in range(1, len(keypoints)+1):\n",
    "    face_keypoints.extend(keypoints[\"edge\" + str(edge_index)][face_index-1])\n",
    "face_keypoints = np.array(face_keypoints)\n",
    "print(face_keypoints.shape)\n",
    "#print(face_keypoints)\n",
    "points = face_points[\"face\" + str(face_index)]\n",
    "ipv.clear()\n",
    "ipv.scatter(points[:,0], points[:,1], points[:,2], size=1, marker=\"sphere\", color=\"blue\")\n",
    "ipv.scatter(face_keypoints[:, 0], face_keypoints[:,1], face_keypoints[:,2], size=1, marker=\"sphere\", color=\"red\")\n",
    "ipv.show()"
   ]
  },
  {
   "cell_type": "markdown",
   "metadata": {},
   "source": [
    "## Feature Extraction"
   ]
  },
  {
   "cell_type": "code",
   "execution_count": 20,
   "metadata": {
    "ExecuteTime": {
     "end_time": "2019-05-11T09:36:11.446298Z",
     "start_time": "2019-05-11T09:36:11.439671Z"
    }
   },
   "outputs": [],
   "source": [
    "\n",
    "def get_normal(x, y, grid_x, grid_y, grid_z):\n",
    "    '''\n",
    "      3\n",
    "    1   2\n",
    "      4\n",
    "    x, y are coordinates of the point for which the normal has to be calculated\n",
    "    '''\n",
    "    i = (x - grid_x[0, 0]) / (grid_x[1, 0] - grid_x[0, 0])\n",
    "    j = (y - grid_y[0, 0]) / (grid_y[0, 1] - grid_y[0, 0])\n",
    "    i,j = int(round(i)), int(round(j))\n",
    "    if (not 0 <= i < grid_x.shape[0]-1) or (not 0 <= j < grid_y.shape[1]-1):\n",
    "        print(\"out of bounds error\")\n",
    "        #pdb.set_trace()\n",
    "        return \"None\"\n",
    "    point1 = (grid_x[i-1, j], grid_y[i-1, j], grid_z[i-1, j])\n",
    "    point2 = (grid_x[i+1, j], grid_y[i+1, j], grid_z[i+1, j])\n",
    "    point3 = (grid_x[i, j-1], grid_y[i, j-1], grid_z[i, j-1])\n",
    "    point4 = (grid_x[i, j+1], grid_y[i, j+1], grid_z[i, j+1])\n",
    "    a1, a2, a3 = [point2[x] - point1[x] for x in range(3)]\n",
    "    b1, b2, b3 = [point3[x] - point4[x] for x in range(3)]\n",
    "    normal = np.array([a3*b2, a1*b3, -a1*b2])\n",
    "    return normal/np.linalg.norm(normal)\n",
    "\n"
   ]
  },
  {
   "cell_type": "code",
   "execution_count": 21,
   "metadata": {
    "ExecuteTime": {
     "end_time": "2019-05-11T09:36:18.255413Z",
     "start_time": "2019-05-11T09:36:18.185625Z"
    }
   },
   "outputs": [
    {
     "name": "stdout",
     "output_type": "stream",
     "text": [
      "28 197 -53.19630000000001 22.619100000000003\n"
     ]
    },
    {
     "data": {
      "application/vnd.jupyter.widget-view+json": {
       "model_id": "da7792cbe4bd4a4e893d9c128dd32591",
       "version_major": 2,
       "version_minor": 0
      },
      "text/plain": [
       "VBox(children=(Figure(camera=PerspectiveCamera(fov=46.0, position=(0.0, 0.0, 2.0), quaternion=(0.0, 0.0, 0.0, …"
      ]
     },
     "metadata": {},
     "output_type": "display_data"
    }
   ],
   "source": [
    "# test the get_normal function and plot \n",
    "'''If this snippet throws an error, rerun it'''\n",
    "face_id = 8\n",
    "grid_x, grid_y, grid_z = grid_data[\"face\" + str(face_id)]\n",
    "i = np.random.choice(len(grid_x))\n",
    "j = np.random.choice(len(grid_y))\n",
    "x, y = grid_x[i, 0], grid_y[0, j]\n",
    "print(i, j, x, y)\n",
    "uvn = get_normal(x, y, grid_x, grid_y, grid_z)\n",
    "\n",
    "ipv.clear()\n",
    "ipv.plot_mesh(grid_x, grid_y, grid_z, wireframe=False)\n",
    "ipv.quiver(np.array([x, ]), np.array([y,]), np.array([grid_z[i, j]]), np.array([uvn[0]]), np.array([uvn[1]]), np.array([uvn[2]]), color=\"blue\", size=10)\n",
    "ipv.show()"
   ]
  },
  {
   "cell_type": "code",
   "execution_count": null,
   "metadata": {
    "ExecuteTime": {
     "end_time": "2019-05-10T11:46:35.998534Z",
     "start_time": "2019-05-10T11:46:35.928671Z"
    }
   },
   "outputs": [],
   "source": []
  },
  {
   "cell_type": "code",
   "execution_count": 22,
   "metadata": {
    "ExecuteTime": {
     "end_time": "2019-05-11T07:36:43.629565Z",
     "start_time": "2019-05-11T07:36:43.627859Z"
    }
   },
   "outputs": [],
   "source": [
    "# moments = cv2.moments(patch2[:, :2])\n",
    "# central_moments = [moments[key] for key in moments.keys() if key[:2] == \"mu\"]\n",
    "# central_moments = np.array(central_moments)\n",
    "# central_moments"
   ]
  },
  {
   "cell_type": "code",
   "execution_count": 22,
   "metadata": {
    "ExecuteTime": {
     "end_time": "2019-05-11T09:36:30.791291Z",
     "start_time": "2019-05-11T09:36:30.782814Z"
    }
   },
   "outputs": [],
   "source": [
    "def get_keypoint_features(keypoints, face_index):\n",
    "    feature_list = [] # a list to store extracted features of each keypoint\n",
    "    final_keypoints = [] # remove unwanted keypoints, like the ones on edges etc\n",
    "    for point in keypoints:\n",
    "        point_features = []\n",
    "        x, y, z = point\n",
    "        points = face_points[\"face\" + str(face_index)]\n",
    "        grid_x, grid_y, grid_z = grid_data[\"face\" + str(face_index)]\n",
    "        threshold = 5 * rho\n",
    "        nhood = points[(np.sum(np.square(points-point), axis=1)) < threshold**2]\n",
    "        xy_hu_moments = cv2.HuMoments(cv2.moments(nhood[:, :2])).flatten()\n",
    "        yz_hu_moments = cv2.HuMoments(cv2.moments(nhood[:, 1:])).flatten()\n",
    "        xz_hu_moments = cv2.HuMoments(cv2.moments(nhood[:, ::2])).flatten()\n",
    "        hu_moments = np.concatenate([xy_hu_moments, yz_hu_moments, xz_hu_moments])\n",
    "        #print(hu_moments)\n",
    "        #i = (x - grid_x[0, 0]) / (grid_x[1, 0] - grid_x[0, 0])\n",
    "        #j = (y - grid_y[0, 0]) / (grid_y[0, 1] - grid_y[0, 0])\n",
    "        #i, j = int(round(i)), int(round(j))\n",
    "        #start_i, start_j = i - int(5 * rho / (grid_x[1, 0] - grid_x[0, 0])), j - int(5 * rho / (grid_y[0, 1] - grid_y[0, 0]))\n",
    "        #end_i, end_j = i + int(5 * rho / (grid_x[1, 0] - grid_x[0, 0])), j + int(5 * rho / (grid_y[0, 1] - grid_y[0, 0]))\n",
    "        #nhood = points[start_i: end_i, start_j: end_j] \n",
    "        #nhood_x = grid_x[start_i:end_i, start_j:end_j]\n",
    "        #nhood_y = grid_y[start_i:end_i, start_j:end_j]\n",
    "        #nhood_z = grid_z[start_i:end_i, start_j:end_j]\n",
    "        normal = get_normal(x, y, grid_x, grid_y, grid_z)\n",
    "        if normal == \"None\": # array comparision raises ambiguity error, so None passed as string\n",
    "            continue\n",
    "        final_keypoints.append(point)\n",
    "        point_features.extend(np.array([x, y, z])) # spatial location\n",
    "        point_features.extend(normal)\n",
    "        point_features.extend(hu_moments)\n",
    "        point_features = np.array(point_features)\n",
    "        \n",
    "        feature_list.append(point_features)\n",
    "    final_keypoints = np.array(final_keypoints)\n",
    "    return final_keypoints, feature_list"
   ]
  },
  {
   "cell_type": "code",
   "execution_count": 23,
   "metadata": {
    "ExecuteTime": {
     "end_time": "2019-05-11T09:36:41.010336Z",
     "start_time": "2019-05-11T09:36:37.492289Z"
    }
   },
   "outputs": [
    {
     "name": "stderr",
     "output_type": "stream",
     "text": [
      "/home/ags/miniconda3/lib/python3.7/site-packages/ipykernel_launcher.py:26: FutureWarning: elementwise comparison failed; returning scalar instead, but in the future will perform elementwise comparison\n"
     ]
    },
    {
     "name": "stdout",
     "output_type": "stream",
     "text": [
      "out of bounds error\n",
      "out of bounds error\n",
      "out of bounds error\n"
     ]
    }
   ],
   "source": [
    "def get_features(keypoints):\n",
    "    features = {} # key = edge + edge_index, value = list of features for each keypoint across all the faces\n",
    "    for edge_index in range(1, len(keypoints)+1):\n",
    "        edgewise_keypoint_features = [] # store features of keypoints for a given edge_index across all faces\n",
    "        for face_index in range(1, len(file_paths)+1):\n",
    "            edge_keypoints = keypoints[\"edge\" + str(edge_index)][face_index-1]\n",
    "            final_keypoints, keypoint_features = get_keypoint_features(edge_keypoints, face_index)\n",
    "            keypoints[\"edge\" + str(edge_index)][face_index-1] = final_keypoints # update the keypoint, remove unwanted keypoints like those on the edge etc\n",
    "            edgewise_keypoint_features.append(keypoint_features)\n",
    "        features[\"edge\" + str(edge_index)] = edgewise_keypoint_features\n",
    "    return features\n",
    "\n",
    "features = get_features(keypoints)"
   ]
  },
  {
   "cell_type": "markdown",
   "metadata": {
    "ExecuteTime": {
     "end_time": "2019-05-10T11:46:51.337463Z",
     "start_time": "2019-05-10T11:46:51.334837Z"
    }
   },
   "source": []
  },
  {
   "cell_type": "code",
   "execution_count": 24,
   "metadata": {
    "ExecuteTime": {
     "end_time": "2019-05-11T09:39:16.162597Z",
     "start_time": "2019-05-11T09:39:16.153437Z"
    }
   },
   "outputs": [],
   "source": [
    "def get_keypoint_under_2rho(keypoints, point):\n",
    "    \"\"\"return the index of the keypoint in `keypoints` which is closest to `point` if that distance is less than 2 * rho, else return None\"\"\"\n",
    "    try:\n",
    "        distance = np.sqrt(np.sum(np.square(keypoints-point), axis=1))\n",
    "        if (distance < 3*rho).any():\n",
    "            min_dist_index = np.argmin(distance)\n",
    "            return min_dist_index\n",
    "    except Exception as e: # keypoints is [], gotta return None\n",
    "        pass\n",
    "    return None\n",
    "\n",
    "def get_matching_keypoints(edge_keypoints, edge_features, edge_index):\n",
    "    # check if a bunch of keypoints across the patches (across all faces) are withing 2*rho\n",
    "    # first get all the keypoints in a list\n",
    "    matching_keypoints_list = []\n",
    "    for face_index1 in range(len(edge_keypoints)): # take a patch along the edge among the faces\n",
    "        for point_index, point in enumerate(edge_keypoints[face_index1]): # take a keypoint in that patch, we have to find corresponding keypoints in each other patche along this edge\n",
    "            matched_keypoint_indices = [] # to store indices of matched keypoints across the patches\n",
    "            for face_index2 in range(len(edge_keypoints)): # find if matching keypoints exist across the patches along that edge across all faces\n",
    "                if face_index2 == face_index1: \n",
    "                    matched_keypoint_indices.append(point_index)\n",
    "                    continue\n",
    "                matched_keypoint = get_keypoint_under_2rho(edge_keypoints[face_index2], point)\n",
    "                if matched_keypoint:\n",
    "                    #if edge_index == 36: pdb.set_trace()I#\n",
    "                    matched_keypoint_indices.append(matched_keypoint)\n",
    "                else: # no keypoint was matched in the above patch (face_index2), gotta start search on other keypoint from face_index1\n",
    "                    break\n",
    "                        \n",
    "            if len(matched_keypoint_indices) == len(edge_keypoints): # there's a corresponding keypoint for each patch across all faces\n",
    "                 matching_keypoints_list.append(matched_keypoint_indices)\n",
    "    if len(matching_keypoints_list) == 0:\n",
    "        return []\n",
    "    # now we have those keypoints which are in vicinity of 2*rho, let's compute euclidean distance of their feature vectors\n",
    "    Kq = 2\n",
    "    final_matched_keypoints = []\n",
    "    for matched_keypoints in matching_keypoints_list: # select first list of matching keypoints\n",
    "        # get the indices, get their corresponding features, compute euclidean distance\n",
    "        try:\n",
    "            features = np.array([edge_features[face_index][idx] for face_index, idx in zip(range(len(edge_features)), matched_keypoints)])\n",
    "            euc_dist_under_kq = lambda feature, features: np.sqrt(np.sum(np.square(features - feature), axis=1)) < Kq\n",
    "            if np.apply_along_axis(euc_dist_under_kq, 1, features, features).all() == True:\n",
    "                # we have got a set of matching keypoints, get their mean coordinates\n",
    "                matched_coords = [edge_keypoints[face_index][idx] for face_index, idx in zip(range(len(edge_features)), matched_keypoints)]\n",
    "                final_matched_keypoints.append(np.mean(matched_coords, axis=0))\n",
    "        except:\n",
    "            pdb.set_trace()\n",
    "    return final_matched_keypoints\n",
    "\n"
   ]
  },
  {
   "cell_type": "code",
   "execution_count": 25,
   "metadata": {
    "ExecuteTime": {
     "end_time": "2019-05-11T09:39:46.231052Z",
     "start_time": "2019-05-11T09:39:45.979978Z"
    }
   },
   "outputs": [
    {
     "name": "stdout",
     "output_type": "stream",
     "text": [
      "Iteration completed\n",
      "2 new keypoints found\n",
      "[[-9.07440588  0.8437375  -4.63839525]\n",
      " [-1.65064375 -6.3524375  -3.1287075 ]]\n"
     ]
    }
   ],
   "source": [
    "# those keypoints which are in vicinity of 2*rho are considered for matching\n",
    "# matching is done using constrained nearest neighbour\n",
    "# choose an edge, select a keypoint, find out keypoints on corresponding patches on other faces within a vicinity of 2*rho, \n",
    "# get euclidean distance in features among all possible pair wise combinations, if the distances come out to be less than Kp are added to the global set of correspondences\n",
    "def keypoint_matching_process(keypoints, features):\n",
    "    final_mean_keypoints = []\n",
    "    for edge_index in range(1, len(keypoints)):\n",
    "        edge_keypoints = keypoints[\"edge\" + str(edge_index)]\n",
    "        edge_features = features[\"edge\" + str(edge_index)]\n",
    "        matched_keypoints = get_matching_keypoints(edge_keypoints, edge_features, edge_index)\n",
    "        if len(matched_keypoints) == 0:\n",
    "            continue\n",
    "        #print(matched_keypoints)\n",
    "        final_mean_keypoints.extend(matched_keypoints)\n",
    "    #final_mean_keypoints = list(set(final_mean_keypoints))\n",
    "\n",
    "    final_mean_keypoints = np.array(final_mean_keypoints)\n",
    "    final_mean_keypoints = np.unique(final_mean_keypoints, axis=0)\n",
    "    return final_mean_keypoints\n",
    "\n",
    "final_mean_keypoints = keypoint_matching_process(keypoints, features)\n",
    "print(\"Iteration completed\")\n",
    "print(len(final_mean_keypoints), \"new keypoints found\")\n",
    "print(final_mean_keypoints)"
   ]
  },
  {
   "cell_type": "code",
   "execution_count": 99,
   "metadata": {
    "ExecuteTime": {
     "end_time": "2019-05-11T08:54:10.716676Z",
     "start_time": "2019-05-11T08:54:10.714010Z"
    }
   },
   "outputs": [],
   "source": [
    "updated_hull = np.concatenate((hull, final_mean_keypoints), axis=0)"
   ]
  },
  {
   "cell_type": "code",
   "execution_count": 26,
   "metadata": {
    "ExecuteTime": {
     "end_time": "2019-05-11T09:39:56.096284Z",
     "start_time": "2019-05-11T09:39:55.864052Z"
    }
   },
   "outputs": [
    {
     "data": {
      "image/png": "[encoded data removed]",
      "text/plain": [
       "<Figure size 576x576 with 1 Axes>"
      ]
     },
     "metadata": {
      "needs_background": "light"
     },
     "output_type": "display_data"
    }
   ],
   "source": [
    "first_face_index = 7\n",
    "second_face_index = 4\n",
    "points1 = face_points[\"face\" + str(first_face_index)]\n",
    "points2 = face_points[\"face\" + str(second_face_index)]\n",
    "plt.figure(figsize=(8,8))\n",
    "plt.scatter(points1[:,0], points1[:,1], color=\"red\")\n",
    "plt.scatter(points2[:,0], points2[:,1], color=\"orange\")\n",
    "#plt.scatter(updated_hull[:,0], updated_hull[:,1])\n",
    "\n",
    "plt.scatter(hull[:,0], hull[:,1])\n",
    "plt.scatter(final_mean_keypoints[:, 0], final_mean_keypoints[:, 1], color=\"yellow\")\n",
    "maxind = np.argmax(points1[:,2])\n",
    "nosex = points1[maxind,0]\n",
    "nosey = points1[maxind,1]\n",
    "nosez = points1[maxind,2]\n",
    "plt.plot(nosex,nosey,\"b\")\n",
    "plt.show()"
   ]
  },
  {
   "cell_type": "code",
   "execution_count": 27,
   "metadata": {
    "ExecuteTime": {
     "end_time": "2019-05-11T09:40:03.607772Z",
     "start_time": "2019-05-11T09:40:03.564454Z"
    }
   },
   "outputs": [
    {
     "data": {
      "application/vnd.jupyter.widget-view+json": {
       "model_id": "926052991f2f4a0aab1edfef344b2899",
       "version_major": 2,
       "version_minor": 0
      },
      "text/plain": [
       "VBox(children=(Figure(camera=PerspectiveCamera(fov=46.0, position=(0.0, 0.0, 2.0), quaternion=(0.0, 0.0, 0.0, …"
      ]
     },
     "metadata": {},
     "output_type": "display_data"
    }
   ],
   "source": [
    "ipv.clear()\n",
    "ipv.scatter(points[:,0], points[:,1], points[:,2], size=1, marker=\"sphere\", color=\"blue\")\n",
    "ipv.scatter(final_mean_keypoints[:, 0], final_mean_keypoints[:,1], final_mean_keypoints[:,2], size=2, marker=\"sphere\", color=\"red\")\n",
    "ipv.show()"
   ]
  },
  {
   "cell_type": "code",
   "execution_count": null,
   "metadata": {},
   "outputs": [],
   "source": []
  },
  {
   "cell_type": "code",
   "execution_count": 28,
   "metadata": {
    "ExecuteTime": {
     "end_time": "2019-05-11T09:40:11.297237Z",
     "start_time": "2019-05-11T09:40:11.237079Z"
    }
   },
   "outputs": [
    {
     "ename": "NameError",
     "evalue": "name 'patch2' is not defined",
     "output_type": "error",
     "traceback": [
      "\u001b[0;31m---------------------------------------------------------------------------\u001b[0m",
      "\u001b[0;31mNameError\u001b[0m                                 Traceback (most recent call last)",
      "\u001b[0;32m<ipython-input-28-e8084fea2faa>\u001b[0m in \u001b[0;36m<module>\u001b[0;34m\u001b[0m\n\u001b[0;32m----> 1\u001b[0;31m \u001b[0mxy_hu_moments\u001b[0m \u001b[0;34m=\u001b[0m \u001b[0mcv2\u001b[0m\u001b[0;34m.\u001b[0m\u001b[0mHuMoments\u001b[0m\u001b[0;34m(\u001b[0m\u001b[0mcv2\u001b[0m\u001b[0;34m.\u001b[0m\u001b[0mmoments\u001b[0m\u001b[0;34m(\u001b[0m\u001b[0mpatch2\u001b[0m\u001b[0;34m[\u001b[0m\u001b[0;34m:\u001b[0m\u001b[0;34m,\u001b[0m \u001b[0;34m:\u001b[0m\u001b[0;36m2\u001b[0m\u001b[0;34m]\u001b[0m\u001b[0;34m)\u001b[0m\u001b[0;34m)\u001b[0m\u001b[0;34m.\u001b[0m\u001b[0mflatten\u001b[0m\u001b[0;34m(\u001b[0m\u001b[0;34m)\u001b[0m\u001b[0;34m\u001b[0m\u001b[0;34m\u001b[0m\u001b[0m\n\u001b[0m\u001b[1;32m      2\u001b[0m \u001b[0myz_hu_moments\u001b[0m \u001b[0;34m=\u001b[0m \u001b[0mcv2\u001b[0m\u001b[0;34m.\u001b[0m\u001b[0mHuMoments\u001b[0m\u001b[0;34m(\u001b[0m\u001b[0mcv2\u001b[0m\u001b[0;34m.\u001b[0m\u001b[0mmoments\u001b[0m\u001b[0;34m(\u001b[0m\u001b[0mpatch2\u001b[0m\u001b[0;34m[\u001b[0m\u001b[0;34m:\u001b[0m\u001b[0;34m,\u001b[0m \u001b[0;36m1\u001b[0m\u001b[0;34m:\u001b[0m\u001b[0;34m]\u001b[0m\u001b[0;34m)\u001b[0m\u001b[0;34m)\u001b[0m\u001b[0;34m.\u001b[0m\u001b[0mflatten\u001b[0m\u001b[0;34m(\u001b[0m\u001b[0;34m)\u001b[0m\u001b[0;34m\u001b[0m\u001b[0;34m\u001b[0m\u001b[0m\n\u001b[1;32m      3\u001b[0m \u001b[0mxz_hu_moments\u001b[0m \u001b[0;34m=\u001b[0m \u001b[0mcv2\u001b[0m\u001b[0;34m.\u001b[0m\u001b[0mHuMoments\u001b[0m\u001b[0;34m(\u001b[0m\u001b[0mcv2\u001b[0m\u001b[0;34m.\u001b[0m\u001b[0mmoments\u001b[0m\u001b[0;34m(\u001b[0m\u001b[0mpatch2\u001b[0m\u001b[0;34m[\u001b[0m\u001b[0;34m:\u001b[0m\u001b[0;34m,\u001b[0m \u001b[0;34m:\u001b[0m\u001b[0;34m:\u001b[0m\u001b[0;36m2\u001b[0m\u001b[0;34m]\u001b[0m\u001b[0;34m)\u001b[0m\u001b[0;34m)\u001b[0m\u001b[0;34m.\u001b[0m\u001b[0mflatten\u001b[0m\u001b[0;34m(\u001b[0m\u001b[0;34m)\u001b[0m\u001b[0;34m\u001b[0m\u001b[0;34m\u001b[0m\u001b[0m\n\u001b[1;32m      4\u001b[0m \u001b[0mhu_moments\u001b[0m \u001b[0;34m=\u001b[0m \u001b[0mnp\u001b[0m\u001b[0;34m.\u001b[0m\u001b[0mconcatenate\u001b[0m\u001b[0;34m(\u001b[0m\u001b[0;34m[\u001b[0m\u001b[0mxy_hu_moments\u001b[0m\u001b[0;34m,\u001b[0m \u001b[0myz_hu_moments\u001b[0m\u001b[0;34m,\u001b[0m \u001b[0mxz_hu_moments\u001b[0m\u001b[0;34m]\u001b[0m\u001b[0;34m)\u001b[0m\u001b[0;34m\u001b[0m\u001b[0;34m\u001b[0m\u001b[0m\n\u001b[1;32m      5\u001b[0m \u001b[0mhu_moments\u001b[0m\u001b[0;34m.\u001b[0m\u001b[0mshape\u001b[0m\u001b[0;34m\u001b[0m\u001b[0;34m\u001b[0m\u001b[0m\n",
      "\u001b[0;31mNameError\u001b[0m: name 'patch2' is not defined"
     ]
    }
   ],
   "source": [
    "xy_hu_moments = cv2.HuMoments(cv2.moments(patch2[:, :2])).flatten()\n",
    "yz_hu_moments = cv2.HuMoments(cv2.moments(patch2[:, 1:])).flatten()\n",
    "xz_hu_moments = cv2.HuMoments(cv2.moments(patch2[:, ::2])).flatten()\n",
    "hu_moments = np.concatenate([xy_hu_moments, yz_hu_moments, xz_hu_moments])\n",
    "hu_moments.shape\n"
   ]
  },
  {
   "cell_type": "code",
   "execution_count": null,
   "metadata": {
    "ExecuteTime": {
     "end_time": "2019-05-10T13:56:59.912947Z",
     "start_time": "2019-05-10T13:56:38.718Z"
    }
   },
   "outputs": [],
   "source": [
    "def surface_curvature(X,Y,Z):\n",
    "\n",
    "    (lr,lb)=X.shape\n",
    "\n",
    "\n",
    "    #First Derivatives\n",
    "    Xv,Xu=np.gradient(X)\n",
    "    Yv,Yu=np.gradient(Y)\n",
    "    Zv,Zu=np.gradient(Z)\n",
    "\n",
    "    #Second Derivatives\n",
    "    Xuv,Xuu=np.gradient(Xu)\n",
    "    Yuv,Yuu=np.gradient(Yu)\n",
    "    Zuv,Zuu=np.gradient(Zu)   \n",
    "\n",
    "    Xvv,Xuv=np.gradient(Xv)\n",
    "    Yvv,Yuv=np.gradient(Yv)\n",
    "    Zvv,Zuv=np.gradient(Zv) \n",
    "\n",
    "    #2D to 1D conversion \n",
    "    #Reshape to 1D vectors\n",
    "    Xu=np.reshape(Xu,lr*lb)\n",
    "    Yu=np.reshape(Yu,lr*lb)\n",
    "    Zu=np.reshape(Zu,lr*lb)\n",
    "    Xv=np.reshape(Xv,lr*lb)\n",
    "    Yv=np.reshape(Yv,lr*lb)\n",
    "    Zv=np.reshape(Zv,lr*lb)\n",
    "    Xuu=np.reshape(Xuu,lr*lb)\n",
    "    Yuu=np.reshape(Yuu,lr*lb)\n",
    "    Zuu=np.reshape(Zuu,lr*lb)\n",
    "    Xuv=np.reshape(Xuv,lr*lb)\n",
    "    Yuv=np.reshape(Yuv,lr*lb)\n",
    "    Zuv=np.reshape(Zuv,lr*lb)\n",
    "    Xvv=np.reshape(Xvv,lr*lb)\n",
    "    Yvv=np.reshape(Yvv,lr*lb)\n",
    "    Zvv=np.reshape(Zvv,lr*lb)\n",
    "\n",
    "    Xu=np.c_[Xu, Yu, Zu]\n",
    "    Xv=np.c_[Xv, Yv, Zv]\n",
    "    Xuu=np.c_[Xuu, Yuu, Zuu]\n",
    "    Xuv=np.c_[Xuv, Yuv, Zuv]\n",
    "    Xvv=np.c_[Xvv, Yvv, Zvv]\n",
    "\n",
    "    #% First fundamental Coeffecients of the surface (E,F,G)\n",
    "    E=np.einsum('ij,ij->i', Xu, Xu) \n",
    "    F=np.einsum('ij,ij->i', Xu, Xv) \n",
    "    G=np.einsum('ij,ij->i', Xv, Xv) \n",
    "\n",
    "    m=np.cross(Xu,Xv,axisa=1, axisb=1) \n",
    "    p=np.sqrt(np.einsum('ij,ij->i', m, m)) \n",
    "    n=m/np.c_[p,p,p]\n",
    "    # n is the normal\n",
    "    #% Second fundamental Coeffecients of the surface (L,M,N), (e,f,g)\n",
    "    L= np.einsum('ij,ij->i', Xuu, n) #e\n",
    "    M= np.einsum('ij,ij->i', Xuv, n) #f\n",
    "    N= np.einsum('ij,ij->i', Xvv, n) #g\n",
    "\n",
    "    # Alternative formula for gaussian curvature in wiki \n",
    "    # K = det(second fundamental) / det(first fundamental)\n",
    "    #% Gaussian Curvature\n",
    "    K=(L*N-M**2)/(E*G-L**2)\n",
    "    K=np.reshape(K,lr*lb)\n",
    "    #wiki trace of (second fundamental)(first fundamental inverse)\n",
    "    #% Mean Curvature\n",
    "    H = (E*N + G*L - 2*F*M)/((E*G - F**2))\n",
    "    H = np.reshape(H,lr*lb)\n",
    "\n",
    "    #% Principle Curvatures\n",
    "    Pmax = H + np.sqrt(H**2 - K)\n",
    "    Pmin = H - np.sqrt(H**2 - K)\n",
    "    #[Pmax, Pmin]\n",
    "    return [Pmax, Pmin, G, H]\n",
    "\n",
    "\n",
    "def fun(x,y):\n",
    "    return x**2+y**2"
   ]
  },
  {
   "cell_type": "code",
   "execution_count": null,
   "metadata": {
    "ExecuteTime": {
     "end_time": "2019-05-10T13:56:59.913652Z",
     "start_time": "2019-05-10T13:56:38.719Z"
    }
   },
   "outputs": [],
   "source": [
    "x1, y1, z1 = patch1[:, 0], patch1[:, 1], patch1[:, 2]"
   ]
  },
  {
   "cell_type": "code",
   "execution_count": null,
   "metadata": {
    "ExecuteTime": {
     "end_time": "2019-05-10T13:56:59.914311Z",
     "start_time": "2019-05-10T13:56:38.721Z"
    }
   },
   "outputs": [],
   "source": [
    "[pgrid_x,pgrid_y] = scipy.meshgrid(x1, y1)"
   ]
  },
  {
   "cell_type": "code",
   "execution_count": null,
   "metadata": {
    "ExecuteTime": {
     "end_time": "2019-05-10T13:56:59.914934Z",
     "start_time": "2019-05-10T13:56:38.722Z"
    }
   },
   "outputs": [],
   "source": [
    "plt.scatter(pgrid_x, pgrid_y);\n",
    "plt.scatter(x1, y1)"
   ]
  },
  {
   "cell_type": "code",
   "execution_count": null,
   "metadata": {
    "ExecuteTime": {
     "end_time": "2019-05-10T13:56:59.915661Z",
     "start_time": "2019-05-10T13:56:38.723Z"
    }
   },
   "outputs": [],
   "source": [
    "pgrid_z = scipy.interpolate.griddata((patch1[:, 0], patch1[:, 1]), patch1[:, 2], (pgrid_x, pgrid_y), method='cubic')"
   ]
  },
  {
   "cell_type": "code",
   "execution_count": null,
   "metadata": {
    "ExecuteTime": {
     "end_time": "2019-05-10T13:56:59.916238Z",
     "start_time": "2019-05-10T13:56:38.725Z"
    }
   },
   "outputs": [],
   "source": [
    "ipv.figure()\n",
    "ipv.plot_surface(pgrid_x, pgrid_z, pgrid_y)\n",
    "ipv.show()"
   ]
  },
  {
   "cell_type": "code",
   "execution_count": null,
   "metadata": {
    "ExecuteTime": {
     "end_time": "2019-05-10T13:56:59.916921Z",
     "start_time": "2019-05-10T13:56:38.726Z"
    }
   },
   "outputs": [],
   "source": [
    "k1, k2, G, H = surface_curvature(pgrid_x,pgrid_y,pgrid_z)"
   ]
  },
  {
   "cell_type": "code",
   "execution_count": null,
   "metadata": {
    "ExecuteTime": {
     "end_time": "2019-05-10T13:56:59.917552Z",
     "start_time": "2019-05-10T13:56:38.727Z"
    },
    "scrolled": true
   },
   "outputs": [],
   "source": [
    "k1, k2, G, H"
   ]
  },
  {
   "cell_type": "code",
   "execution_count": null,
   "metadata": {
    "ExecuteTime": {
     "end_time": "2019-05-08T07:18:29.720869Z",
     "start_time": "2019-05-08T07:18:29.716618Z"
    }
   },
   "outputs": [],
   "source": []
  },
  {
   "cell_type": "code",
   "execution_count": null,
   "metadata": {
    "ExecuteTime": {
     "end_time": "2019-05-10T13:56:59.918265Z",
     "start_time": "2019-05-10T13:56:38.731Z"
    }
   },
   "outputs": [],
   "source": [
    "for i in range(len(patch1)):\n",
    "    print(k1[i*i])"
   ]
  },
  {
   "cell_type": "code",
   "execution_count": null,
   "metadata": {
    "ExecuteTime": {
     "end_time": "2019-05-10T13:56:59.918880Z",
     "start_time": "2019-05-10T13:56:38.733Z"
    }
   },
   "outputs": [],
   "source": [
    "# Shape index\n",
    "\n",
    "Sa = 1/2 - 1/np.pi * np.arctan((k1+k2)/(k1-k2))\n",
    "Sb = 2/np.pi * np.arctan((k1+k2)/(k1-k2))\n",
    "\n",
    "print(Sa)\n",
    "print(Sb)"
   ]
  },
  {
   "cell_type": "code",
   "execution_count": null,
   "metadata": {
    "ExecuteTime": {
     "end_time": "2019-05-10T13:56:59.919608Z",
     "start_time": "2019-05-10T13:56:38.734Z"
    }
   },
   "outputs": [],
   "source": [
    "curvedness = np.sqrt((k1**2 + k2**2)/2)\n",
    "log_curvedness = 2/np.pi * np.log10(curvedness)\n",
    "willmore_energy = H**2 - G\n",
    "shape_curvedness = Sb * log_curvedness\n",
    "log_difference_map = np.log(G - H + 1) \n"
   ]
  },
  {
   "cell_type": "code",
   "execution_count": null,
   "metadata": {},
   "outputs": [],
   "source": []
  },
  {
   "cell_type": "code",
   "execution_count": null,
   "metadata": {},
   "outputs": [],
   "source": []
  },
  {
   "cell_type": "code",
   "execution_count": null,
   "metadata": {},
   "outputs": [],
   "source": []
  },
  {
   "cell_type": "code",
   "execution_count": null,
   "metadata": {},
   "outputs": [],
   "source": []
  },
  {
   "cell_type": "code",
   "execution_count": null,
   "metadata": {},
   "outputs": [],
   "source": []
  },
  {
   "cell_type": "code",
   "execution_count": null,
   "metadata": {},
   "outputs": [],
   "source": []
  },
  {
   "cell_type": "code",
   "execution_count": null,
   "metadata": {},
   "outputs": [],
   "source": []
  },
  {
   "cell_type": "code",
   "execution_count": null,
   "metadata": {},
   "outputs": [],
   "source": []
  },
  {
   "cell_type": "code",
   "execution_count": null,
   "metadata": {},
   "outputs": [],
   "source": []
  },
  {
   "cell_type": "code",
   "execution_count": null,
   "metadata": {},
   "outputs": [],
   "source": []
  },
  {
   "cell_type": "code",
   "execution_count": null,
   "metadata": {},
   "outputs": [],
   "source": []
  },
  {
   "cell_type": "code",
   "execution_count": null,
   "metadata": {},
   "outputs": [],
   "source": []
  }
 ],
 "metadata": {
  "kernelspec": {
   "display_name": "Python 3",
   "language": "python",
   "name": "python3"
  },
  "language_info": {
   "codemirror_mode": {
    "name": "ipython",
    "version": 3
   },
   "file_extension": ".py",
   "mimetype": "text/x-python",
   "name": "python",
   "nbconvert_exporter": "python",
   "pygments_lexer": "ipython3",
   "version": "3.7.2"
  }
 },
 "nbformat": 4,
 "nbformat_minor": 2
}
