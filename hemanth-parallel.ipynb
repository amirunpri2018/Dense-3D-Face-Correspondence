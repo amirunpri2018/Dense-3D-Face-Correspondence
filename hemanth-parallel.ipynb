{
 "cells": [
  {
   "cell_type": "markdown",
   "metadata": {},
   "source": [
    "# Dense 3D Face Correspondence"
   ]
  },
  {
   "cell_type": "code",
   "execution_count": 5,
   "metadata": {
    "ExecuteTime": {
     "end_time": "2019-05-09T10:44:51.201074Z",
     "start_time": "2019-05-09T10:44:51.196792Z"
    }
   },
   "outputs": [],
   "source": [
    "import os\n",
    "os.environ[\"MKL_NUM_THREADS\"] = \"1\" \n",
    "os.environ[\"NUMEXPR_NUM_THREADS\"] = \"1\" \n",
    "os.environ[\"OMP_NUM_THREADS\"] = \"1\" "
   ]
  },
  {
   "cell_type": "code",
   "execution_count": 6,
   "metadata": {
    "ExecuteTime": {
     "end_time": "2019-05-09T10:44:52.115564Z",
     "start_time": "2019-05-09T10:44:52.112710Z"
    }
   },
   "outputs": [],
   "source": [
    "\n",
    "import numpy as np\n",
    "import re\n",
    "import threading\n",
    "import cv2\n",
    "import ipyvolume as ipv\n",
    "import scipy\n",
    "from math import cos, sin\n",
    "from scipy import meshgrid, interpolate\n",
    "import pdb\n",
    "import matplotlib.pyplot as plt\n",
    "from mpl_toolkits.mplot3d import Axes3D\n",
    "from scipy.spatial import ConvexHull, Delaunay\n",
    "\n",
    "# THRESHOLDS\n",
    "rho = 0.5\n",
    "eigen_ratio_threshold = 5000"
   ]
  },
  {
   "cell_type": "markdown",
   "metadata": {},
   "source": [
    "## Read each face data parallely"
   ]
  },
  {
   "cell_type": "code",
   "execution_count": 4,
   "metadata": {
    "ExecuteTime": {
     "end_time": "2019-05-09T10:44:48.276787Z",
     "start_time": "2019-05-09T10:44:48.273210Z"
    }
   },
   "outputs": [],
   "source": [
    "def read_wrl(file_path, var_name):\n",
    "    global points\n",
    "    holder = []\n",
    "    with open(file_path, \"r\") as vrml:\n",
    "        for line in vrml:\n",
    "            a = line.strip().strip(\",\").split()\n",
    "            if len(a) == 3:\n",
    "                try:\n",
    "                    holder.append(list(map(float, a)))\n",
    "                except:\n",
    "                    pass\n",
    "    x,y,z = zip(*holder)\n",
    "    x = np.array(x)\n",
    "    y = np.array(y)\n",
    "    z = np.array(z)\n",
    "    points[var_name] = np.array(holder)\n",
    "\n"
   ]
  },
  {
   "cell_type": "code",
   "execution_count": 4,
   "metadata": {
    "ExecuteTime": {
     "end_time": "2019-05-09T08:57:34.769662Z",
     "start_time": "2019-05-09T08:57:34.737715Z"
    }
   },
   "outputs": [],
   "source": [
    "file_path1 = \"F0001/F0001_AN01WH_F3D.wrl\"\n",
    "file_path2 = \"F0001/F0001_DI03WH_F3D.wrl\"\n",
    "points = {}\n",
    "\n",
    "thread1 = threading.Thread(target=read_wrl, args=(file_path1, \"points1\"))\n",
    "thread2 = threading.Thread(target=read_wrl, args=(file_path2, \"points2\"))\n",
    "thread1.start() \n",
    "thread2.start() \n"
   ]
  },
  {
   "cell_type": "code",
   "execution_count": 5,
   "metadata": {
    "ExecuteTime": {
     "end_time": "2019-05-09T08:57:34.790225Z",
     "start_time": "2019-05-09T08:57:34.777239Z"
    }
   },
   "outputs": [
    {
     "data": {
      "text/plain": [
       "{}"
      ]
     },
     "execution_count": 5,
     "metadata": {},
     "output_type": "execute_result"
    }
   ],
   "source": [
    "points"
   ]
  },
  {
   "cell_type": "code",
   "execution_count": 16,
   "metadata": {
    "ExecuteTime": {
     "end_time": "2019-05-09T10:57:44.515159Z",
     "start_time": "2019-05-09T10:57:28.617354Z"
    }
   },
   "outputs": [
    {
     "name": "stdout",
     "output_type": "stream",
     "text": [
      "195 ms ± 6.06 ms per loop (mean ± std. dev. of 7 runs, 10 loops each)\n"
     ]
    }
   ],
   "source": [
    "%%timeit\n",
    "file_paths = {\n",
    "    \"path1\": \"F0001/F0001_AN01WH_F3D.wrl\",\n",
    "    \"path2\": \"F0001/F0001_AN02WH_F3D.wrl\",\n",
    "    \"path3\": \"F0001/F0001_AN03WH_F3D.wrl\",\n",
    "    \"path4\": \"F0001/F0001_AN04WH_F3D.wrl\",\n",
    "    \"path5\": \"F0001/F0001_DI01WH_F3D.wrl\",\n",
    "    \"path6\": \"F0001/F0001_DI02WH_F3D.wrl\",\n",
    "    \"path7\": \"F0001/F0001_DI03WH_F3D.wrl\",\n",
    "    \"path8\": \"F0001/F0001_DI04WH_F3D.wrl\",\n",
    "}\n",
    "points = {}\n",
    "for i in range(1, len(file_paths)+1):\n",
    "    thread = threading.Thread(target=read_wrl, args=(file_paths[\"path\" + str(i)], \"face\" + str(i)))\n",
    "    thread.start()\n"
   ]
  },
  {
   "cell_type": "code",
   "execution_count": 11,
   "metadata": {
    "ExecuteTime": {
     "end_time": "2019-05-09T10:56:56.959233Z",
     "start_time": "2019-05-09T10:56:56.944917Z"
    }
   },
   "outputs": [
    {
     "data": {
      "text/plain": [
       "{'face4': array([[ 43.3909, -66.4114,  31.1063],\n",
       "        [ 43.5612, -64.4194,  30.3593],\n",
       "        [ 41.7755, -65.0309,  31.3583],\n",
       "        ...,\n",
       "        [-56.5893, -44.8446, -24.7909],\n",
       "        [-56.6231, -44.33  , -24.795 ],\n",
       "        [-56.5394, -45.5457, -24.7848]]),\n",
       " 'face7': array([[ 66.0046 , -13.6577 ,   9.70135],\n",
       "        [ 67.3007 , -14.8335 ,   8.49168],\n",
       "        [ 67.3057 , -12.7361 ,   8.25329],\n",
       "        ...,\n",
       "        [-48.5918 , -38.3466 , -20.0988 ],\n",
       "        [-48.8489 , -40.4746 , -20.2125 ],\n",
       "        [-48.6034 , -38.481  , -20.1055 ]]),\n",
       " 'face1': array([[  27.4703,  -60.5966,  -23.9859],\n",
       "        [  27.6342,  -58.5174,  -24.2949],\n",
       "        [  25.9556,  -59.2863,  -23.2552],\n",
       "        ...,\n",
       "        [ -57.5708,  -39.7324,  -99.7084],\n",
       "        [ -21.8135, -111.782 ,  -69.8048],\n",
       "        [ -56.8643,  -42.279 ,  -98.5402]]),\n",
       " 'face5': array([[  55.2013,  -39.1401,   53.0094],\n",
       "        [  55.4291,  -37.2959,   54.43  ],\n",
       "        [  53.4106,  -38.2957,   53.9848],\n",
       "        ...,\n",
       "        [  21.7241, -137.298 ,   33.5786],\n",
       "        [  29.2773, -137.096 ,   33.5565],\n",
       "        [  25.9154, -137.702 ,   33.9256]]),\n",
       " 'face2': array([[  17.6965,  -12.3574,  -62.6511],\n",
       "        [  17.8388,  -10.0852,  -62.5031],\n",
       "        [  15.7552,  -11.1752,  -62.8181],\n",
       "        ...,\n",
       "        [  94.4641,  -77.1601, -142.648 ],\n",
       "        [ -37.069 ,  -72.3382, -143.81  ],\n",
       "        [ -37.2398,  -71.7294, -144.194 ]]),\n",
       " 'face8': array([[ 42.9555 ,  -9.01452,  29.9386 ],\n",
       "        [ 42.9887 ,  -7.16817,  30.9879 ],\n",
       "        [ 41.1322 ,  -8.15691,  30.773  ],\n",
       "        ...,\n",
       "        [-52.8928 , -24.3187 , -24.507  ],\n",
       "        [-53.3889 , -22.8588 , -24.4654 ],\n",
       "        [ 80.7059 ,  -4.32019, -12.0316 ]]),\n",
       " 'face3': array([[ 14.6083 ,  -6.74486,  38.8328 ],\n",
       "        [ 14.6703 ,  -4.50074,  38.2945 ],\n",
       "        [ 12.6999 ,  -5.58541,  38.1367 ],\n",
       "        ...,\n",
       "        [ 86.3475 ,  -5.78857, -18.8811 ],\n",
       "        [ 86.3077 ,  -4.43203, -19.005  ],\n",
       "        [ 86.3268 ,  -2.72787, -19.1584 ]]),\n",
       " 'face6': array([[ 55.5763 , -81.3722 ,  39.8566 ],\n",
       "        [ 55.5647 , -79.3438 ,  39.5153 ],\n",
       "        [ 53.9687 , -80.2289 ,  40.458  ],\n",
       "        ...,\n",
       "        [ 78.5411 , -11.2687 ,  10.9648 ],\n",
       "        [ 81.9716 , -18.9332 ,   5.20152],\n",
       "        [ 82.1537 , -18.3214 ,   5.87774]])}"
      ]
     },
     "execution_count": 11,
     "metadata": {},
     "output_type": "execute_result"
    }
   ],
   "source": [
    "points"
   ]
  },
  {
   "cell_type": "code",
   "execution_count": 6,
   "metadata": {
    "ExecuteTime": {
     "end_time": "2019-05-09T08:57:35.803691Z",
     "start_time": "2019-05-09T08:57:34.800456Z"
    }
   },
   "outputs": [],
   "source": [
    "import time\n",
    "time.sleep(1)\n",
    "points1 = points['points1']\n",
    "points2 = points['points2']"
   ]
  },
  {
   "cell_type": "code",
   "execution_count": 7,
   "metadata": {
    "ExecuteTime": {
     "end_time": "2019-05-09T08:57:35.834795Z",
     "start_time": "2019-05-09T08:57:35.804751Z"
    }
   },
   "outputs": [],
   "source": [
    "def normalize_face(points):\n",
    "    points\n",
    "    maxind = np.argmax(points[:,2])\n",
    "    nosex = points[maxind,0]\n",
    "    nosey = points[maxind,1]\n",
    "    nosez = points[maxind,2]\n",
    "    points = points - np.array([nosex, nosey, nosez])\n",
    "#     points = points / np.max(points)\n",
    "    return points\n",
    "\n",
    "points1 = normalize_face(points1)\n",
    "points2 = normalize_face(points2)\n",
    "x1, y1, z1 = map(np.array, zip(*points1))\n",
    "x2, y2, z2 = map(np.array, zip(*points2))"
   ]
  },
  {
   "cell_type": "code",
   "execution_count": 8,
   "metadata": {
    "ExecuteTime": {
     "end_time": "2019-05-09T08:57:35.837991Z",
     "start_time": "2019-05-09T08:57:35.835900Z"
    }
   },
   "outputs": [
    {
     "data": {
      "text/plain": [
       "((7968, 3),)"
      ]
     },
     "execution_count": 8,
     "metadata": {},
     "output_type": "execute_result"
    }
   ],
   "source": [
    "points1.shape,"
   ]
  },
  {
   "cell_type": "code",
   "execution_count": 9,
   "metadata": {
    "ExecuteTime": {
     "end_time": "2019-05-09T08:57:35.882589Z",
     "start_time": "2019-05-09T08:57:35.838874Z"
    }
   },
   "outputs": [
    {
     "data": {
      "application/vnd.jupyter.widget-view+json": {
       "model_id": "0630af4428d044f7bb57d209f0d1f3d1",
       "version_major": 2,
       "version_minor": 0
      },
      "text/plain": [
       "VBox(children=(Figure(camera=PerspectiveCamera(fov=46.0, position=(0.0, 0.0, 2.0), quaternion=(0.0, 0.0, 0.0, …"
      ]
     },
     "metadata": {},
     "output_type": "display_data"
    }
   ],
   "source": [
    "ipv.quickscatter(points1[:, 0], points1[:, 1], points1[:, 2], size=1, marker=\"sphere\")\n",
    "ipv.scatter(points2[:, 0], points2[:, 1], points2[:, 2], size=1, marker=\"sphere\", color=\"blue\")\n",
    "ipv.show()"
   ]
  },
  {
   "cell_type": "code",
   "execution_count": null,
   "metadata": {},
   "outputs": [],
   "source": []
  },
  {
   "cell_type": "code",
   "execution_count": 10,
   "metadata": {
    "ExecuteTime": {
     "end_time": "2019-05-09T08:57:35.990602Z",
     "start_time": "2019-05-09T08:57:35.884081Z"
    }
   },
   "outputs": [],
   "source": [
    "import numpy as np\n",
    "from scipy.interpolate import griddata\n",
    "\n",
    "minx, maxx = np.amin(x1), np.amax(x1)\n",
    "miny, maxy = np.amin(y1), np.amax(y1)\n",
    "#extent = (minx, maxx, miny, maxy)\n",
    "grid_x, grid_y = np.mgrid[minx:maxx:0.5, miny:maxy:0.5]\n",
    "\n",
    "zi = griddata((x1,y1),z1,(grid_x, grid_y),method='linear')\n"
   ]
  },
  {
   "cell_type": "code",
   "execution_count": 11,
   "metadata": {
    "ExecuteTime": {
     "end_time": "2019-05-09T08:57:36.041613Z",
     "start_time": "2019-05-09T08:57:35.991656Z"
    }
   },
   "outputs": [
    {
     "data": {
      "application/vnd.jupyter.widget-view+json": {
       "model_id": "8235cfced6cd4e37b3c6499eac324ed1",
       "version_major": 2,
       "version_minor": 0
      },
      "text/plain": [
       "VBox(children=(Figure(camera=PerspectiveCamera(fov=46.0, position=(0.0, 0.0, 2.0), quaternion=(0.0, 0.0, 0.0, …"
      ]
     },
     "metadata": {},
     "output_type": "display_data"
    }
   ],
   "source": [
    "\n",
    "ipv.clear()\n",
    "ipv.plot_mesh(grid_x, grid_y, zi, wireframe=False)\n",
    "ipv.show()"
   ]
  },
  {
   "cell_type": "markdown",
   "metadata": {},
   "source": [
    "## Sparse Correspondence Initialization\n",
    "\n",
    "We initialize the correspondences by first automatically establishing a sparse set of seed points. We restrict these seed points to those that lie on the roughly ellipse-shaped 2D convex hull of the face, i.e., the 2D-hull when the 3D mesh is projected into the x - y plane. We sample these points at regular angular intervals of d 1⁄4 p=36 (see Fig. 3), where the angle d is measured at the nose tip. There is of course no guarantee that in the finite resolution mesh of the face there will be a point at an exact\n",
    "multiple of p=36, but for each face we choose the nearest point. This yields a set of 72 3D seed points for each 3D face in the dataset which are used in the first iteration of the triangulation and densification process, as described in the next section."
   ]
  },
  {
   "cell_type": "code",
   "execution_count": 12,
   "metadata": {
    "ExecuteTime": {
     "end_time": "2019-05-09T08:57:36.044374Z",
     "start_time": "2019-05-09T08:57:36.042787Z"
    }
   },
   "outputs": [],
   "source": [
    "# plt.figure(figsize=(10,10))\n",
    "# plt.scatter(x,y)\n",
    "# hull = ConvexHull(points[:,:2])\n",
    "# maxind = np.argmax(points[:,2])\n",
    "# hullx = [points[maxind,0]]\n",
    "# hully = [points[maxind,1]]\n",
    "# hullz = [points[maxind,2]]\n",
    "# plt.plot(points[maxind, 0], points[maxind, 1],\"ro\")\n",
    "# for simplex in hull.simplices:\n",
    "#     plt.plot(points[simplex, 0], points[simplex, 1], 'ro')\n",
    "#     hullx.append(x[simplex[0]])\n",
    "#     hullx.append(x[simplex[1]])\n",
    "#     hully.append(y[simplex[0]])\n",
    "#     hully.append(y[simplex[1]])\n",
    "#     hullz.append(z[simplex[0]])\n",
    "#     hullz.append(z[simplex[1]])\n",
    "# plt.show()"
   ]
  },
  {
   "cell_type": "code",
   "execution_count": 13,
   "metadata": {
    "ExecuteTime": {
     "end_time": "2019-05-09T08:57:37.076307Z",
     "start_time": "2019-05-09T08:57:36.045256Z"
    }
   },
   "outputs": [],
   "source": [
    "def hull72(points,nosex,nosey,nosez):\n",
    "    newhull = [[nosex,nosey,nosez]]\n",
    "    for theta in range(0,360,5):\n",
    "        fx = 200*cos(theta * np.pi/180)\n",
    "        fy = 200*sin(theta * np.pi/180)\n",
    "        \n",
    "        nearest_point = min(zip(points[:,0],points[:,1],points[:,2]), key=lambda p:(p[0]-fx)**2+(p[1]-fy)**2)\n",
    "#         print(nearest_point, fx, fy)\n",
    "        newhull.append(nearest_point)\n",
    "    return newhull\n",
    "\n",
    "def get_hull(points):\n",
    "    maxind = np.argmax(points[:,2])\n",
    "    nosex = points[maxind,0]\n",
    "    nosey = points[maxind,1]\n",
    "    nosez = points[maxind,2]\n",
    "    hull = np.array(hull72(points, nosex,nosey,nosez))\n",
    "    return hull\n",
    "\n",
    "hull1 = get_hull(points1)\n",
    "hull2 = get_hull(points2)\n",
    "hull = (hull1 + hull2) /2\n",
    "\n",
    "\n"
   ]
  },
  {
   "cell_type": "code",
   "execution_count": 14,
   "metadata": {
    "ExecuteTime": {
     "end_time": "2019-05-09T08:57:37.306674Z",
     "start_time": "2019-05-09T08:57:37.077247Z"
    }
   },
   "outputs": [
    {
     "data": {
      "image/png": "[encoded data removed]",
      "text/plain": [
       "<Figure size 576x576 with 1 Axes>"
      ]
     },
     "metadata": {
      "needs_background": "light"
     },
     "output_type": "display_data"
    }
   ],
   "source": [
    "\n",
    "plt.figure(figsize=(8,8))\n",
    "plt.scatter(points1[:,0], points1[:,1], color=\"red\")\n",
    "plt.scatter(points2[:,0], points2[:,1], color=\"orange\")\n",
    "\n",
    "plt.scatter(hull[:,0], hull[:,1])\n",
    "maxind = np.argmax(points1[:,2])\n",
    "nosex = points1[maxind,0]\n",
    "nosey = points1[maxind,1]\n",
    "nosez = points1[maxind,2]\n",
    "plt.plot(nosex,nosey,\"b\")\n",
    "plt.show()\n"
   ]
  },
  {
   "cell_type": "markdown",
   "metadata": {},
   "source": [
    "## Triangulation "
   ]
  },
  {
   "cell_type": "code",
   "execution_count": 15,
   "metadata": {
    "ExecuteTime": {
     "end_time": "2019-05-09T08:57:37.310721Z",
     "start_time": "2019-05-09T08:57:37.307561Z"
    }
   },
   "outputs": [],
   "source": [
    "def delaunay_triangulation(hull):\n",
    "    points2D=np.vstack([hull[:,0],hull[:,1]]).T\n",
    "    tri_hull = Delaunay(points2D)\n",
    "    ipv.figure()\n",
    "    mesh = ipv.plot_trisurf(hull[:,0], hull[:,1], hull[:,2], triangles=tri_hull.simplices, color='blue')\n",
    "    ipv.scatter(hull[:,0], hull[:,1], hull[:,2], marker='sphere', color='red')\n",
    "    ipv.show()\n",
    "    return tri_hull"
   ]
  },
  {
   "cell_type": "code",
   "execution_count": 16,
   "metadata": {
    "ExecuteTime": {
     "end_time": "2019-05-09T08:57:37.346165Z",
     "start_time": "2019-05-09T08:57:37.311796Z"
    }
   },
   "outputs": [
    {
     "data": {
      "application/vnd.jupyter.widget-view+json": {
       "model_id": "48b568488041425e82a7dce070757afb",
       "version_major": 2,
       "version_minor": 0
      },
      "text/plain": [
       "VBox(children=(Figure(camera=PerspectiveCamera(fov=46.0, position=(0.0, 0.0, 2.0), quaternion=(0.0, 0.0, 0.0, …"
      ]
     },
     "metadata": {},
     "output_type": "display_data"
    }
   ],
   "source": [
    "tri_hull = delaunay_triangulation(hull)"
   ]
  },
  {
   "cell_type": "markdown",
   "metadata": {},
   "source": [
    "## Geodesic Patch Extraction"
   ]
  },
  {
   "cell_type": "code",
   "execution_count": 17,
   "metadata": {
    "ExecuteTime": {
     "end_time": "2019-05-09T08:57:37.351542Z",
     "start_time": "2019-05-09T08:57:37.347235Z"
    }
   },
   "outputs": [],
   "source": [
    "def get_patch(points, hull, x1, y1, z1):\n",
    "    patch_width = 5 * rho\n",
    "    def distance(x,y,z,x1,y1,z1,x2,y2,z2):\n",
    "        a = (y2-y1)/(x2-x1)\n",
    "        b = -1\n",
    "        c = y2-x2*(y2-y1)/(x2-x1)\n",
    "        return abs(a*x+b*y+c)/(a**2+b**2)**0.5\n",
    "\n",
    "    patch = []\n",
    "    nosex, nosey, nosez = hull[0]\n",
    "    for x2,y2,z2 in points:\n",
    "        if (y1-nosey)/(y2-nosey+0.0001)>0 and (x1-nosex)/(x2-nosex+0.0001)>0 \\\n",
    "        and distance(x2,y2,z2,x1,y1,z1,nosex,nosey,nosez)<patch_width:\n",
    "            patch.append([x2,y2,z2])\n",
    "    patch = np.array(patch)\n",
    "    return patch"
   ]
  },
  {
   "cell_type": "code",
   "execution_count": 18,
   "metadata": {
    "ExecuteTime": {
     "end_time": "2019-05-09T08:57:37.377414Z",
     "start_time": "2019-05-09T08:57:37.352468Z"
    }
   },
   "outputs": [],
   "source": [
    "x1, y1, z1 = hull[70, :]\n",
    "patch1 = get_patch(points1, hull, x1, y1, z1)\n"
   ]
  },
  {
   "cell_type": "code",
   "execution_count": 19,
   "metadata": {
    "ExecuteTime": {
     "end_time": "2019-05-09T08:57:37.412171Z",
     "start_time": "2019-05-09T08:57:37.379954Z"
    }
   },
   "outputs": [
    {
     "data": {
      "application/vnd.jupyter.widget-view+json": {
       "model_id": "fbf557da39174094a6f143779ed667ee",
       "version_major": 2,
       "version_minor": 0
      },
      "text/plain": [
       "VBox(children=(Figure(camera=PerspectiveCamera(fov=46.0, position=(0.0, 0.0, 2.0), quaternion=(0.0, 0.0, 0.0, …"
      ]
     },
     "metadata": {},
     "output_type": "display_data"
    }
   ],
   "source": [
    "ipv.clear()\n",
    "ipv.quickscatter(points1[:,0],points1[:,1],points1[:,2], size=1, marker=\"sphere\", color=\"red\")\n",
    "ipv.scatter(patch1[:,0], patch1[:,1], patch1[:,2], size=1, marker=\"sphere\", color=\"blue\")\n",
    "ipv.show()"
   ]
  },
  {
   "cell_type": "code",
   "execution_count": 20,
   "metadata": {
    "ExecuteTime": {
     "end_time": "2019-05-09T08:57:37.427842Z",
     "start_time": "2019-05-09T08:57:37.413407Z"
    }
   },
   "outputs": [],
   "source": [
    "patch2 = get_patch(points2, hull, x1, y1, z1)"
   ]
  },
  {
   "cell_type": "code",
   "execution_count": 21,
   "metadata": {
    "ExecuteTime": {
     "end_time": "2019-05-09T08:57:37.463574Z",
     "start_time": "2019-05-09T08:57:37.428859Z"
    },
    "scrolled": false
   },
   "outputs": [
    {
     "data": {
      "application/vnd.jupyter.widget-view+json": {
       "model_id": "3fcd82c1fea44284a45f1fe70228fe3f",
       "version_major": 2,
       "version_minor": 0
      },
      "text/plain": [
       "VBox(children=(Figure(camera=PerspectiveCamera(fov=46.0, position=(0.0, 0.0, 2.0), quaternion=(0.0, 0.0, 0.0, …"
      ]
     },
     "metadata": {},
     "output_type": "display_data"
    }
   ],
   "source": [
    "ipv.quickscatter(patch1[:,0], patch1[:,1], patch1[:,2], size=2, marker=\"sphere\", color=\"red\")\n",
    "ipv.scatter(patch2[:,0],patch2[:,1],patch2[:,2], size=2, marker=\"sphere\", color=\"blue\")\n",
    "ipv.show()"
   ]
  },
  {
   "cell_type": "markdown",
   "metadata": {},
   "source": [
    "## Keypoint Extraction"
   ]
  },
  {
   "cell_type": "code",
   "execution_count": 22,
   "metadata": {
    "ExecuteTime": {
     "end_time": "2019-05-09T08:57:37.504655Z",
     "start_time": "2019-05-09T08:57:37.464627Z"
    }
   },
   "outputs": [
    {
     "data": {
      "application/vnd.jupyter.widget-view+json": {
       "model_id": "dddcf3b6709d412ea060a38d069aa56b",
       "version_major": 2,
       "version_minor": 0
      },
      "text/plain": [
       "VBox(children=(Figure(camera=PerspectiveCamera(fov=46.0, position=(0.0, 0.0, 2.0), quaternion=(0.0, 0.0, 0.0, …"
      ]
     },
     "metadata": {},
     "output_type": "display_data"
    }
   ],
   "source": [
    "def is_keypoint(point, points):\n",
    "    threshold = 7 * rho\n",
    "    nhood = points[(np.sum(np.square(points-point),axis=1)) < threshold**2]\n",
    "    try:\n",
    "        nhood = (nhood - np.min(nhood, axis=0)) / (np.max(nhood, axis=0) - np.min(nhood, axis=0))\n",
    "        covmat = np.cov(nhood)\n",
    "        eigvals = np.sort(np.abs(np.linalg.eigvalsh(covmat)))\n",
    "        ratio = eigvals[-1]/(eigvals[-2]+0.0001)\n",
    "        return ratio>30 #eigen_ratio_threshold #/ 5\n",
    "    except Exception as e:\n",
    "        return False\n",
    "\n",
    "ipv.clear()\n",
    "\n",
    "ipv.scatter(points2[:,0],points2[:,1],points2[:,2], size=1, marker=\"sphere\", color=\"blue\")\n",
    "keypoints = patch2[np.apply_along_axis(is_keypoint, 1, patch2, patch2)]\n",
    "# print(keypoints)\n",
    "ipv.scatter(keypoints[:,0],keypoints[:,1],keypoints[:,2], size=2, marker=\"sphere\", color=\"red\")\n",
    "ipv.show()"
   ]
  },
  {
   "cell_type": "code",
   "execution_count": 23,
   "metadata": {
    "ExecuteTime": {
     "end_time": "2019-05-09T08:57:37.509628Z",
     "start_time": "2019-05-09T08:57:37.505587Z"
    }
   },
   "outputs": [],
   "source": [
    "def get_keypoints_from_face(points, plot=False):\n",
    "    all_keypoints = []\n",
    "    for idx in range(1, len(hull)-1):\n",
    "        x1, y1, z1 = hull[idx, :]\n",
    "        patch = get_patch(points, hull, x1, y1, z1)\n",
    "        keypoints = list(patch[np.apply_along_axis(is_keypoint, 1, patch, patch)])\n",
    "        all_keypoints.extend(keypoints)\n",
    "    all_keypoints = np.array(all_keypoints)\n",
    "    if plot:\n",
    "        ipv.clear()\n",
    "        ipv.scatter(points[:,0],points[:,1],points[:,2], size=1, marker=\"sphere\", color=\"blue\")\n",
    "        print(\"Number of keypoints: \", all_keypoints.shape)\n",
    "        ipv.scatter(all_keypoints[:, 0], all_keypoints[:, 1], all_keypoints[:, 2], size=1, marker=\"sphere\", color=\"red\")\n",
    "        ipv.show()\n",
    "    return all_keypoints"
   ]
  },
  {
   "cell_type": "code",
   "execution_count": 24,
   "metadata": {
    "ExecuteTime": {
     "end_time": "2019-05-09T08:57:39.633723Z",
     "start_time": "2019-05-09T08:57:37.510535Z"
    }
   },
   "outputs": [
    {
     "name": "stderr",
     "output_type": "stream",
     "text": [
      "/home/ags/miniconda3/lib/python3.7/site-packages/ipykernel_launcher.py:5: RuntimeWarning: invalid value encountered in true_divide\n",
      "  \"\"\"\n"
     ]
    },
    {
     "name": "stdout",
     "output_type": "stream",
     "text": [
      "Number of keypoints:  (1882, 3)\n"
     ]
    },
    {
     "data": {
      "application/vnd.jupyter.widget-view+json": {
       "model_id": "08200f120ef34177a7a03b0e2ec3266a",
       "version_major": 2,
       "version_minor": 0
      },
      "text/plain": [
       "VBox(children=(Figure(camera=PerspectiveCamera(fov=46.0, position=(0.0, 0.0, 2.0), quaternion=(0.0, 0.0, 0.0, …"
      ]
     },
     "metadata": {},
     "output_type": "display_data"
    }
   ],
   "source": [
    "all_keypoints = get_keypoints_from_face(points1,plot=True)"
   ]
  },
  {
   "cell_type": "code",
   "execution_count": 25,
   "metadata": {
    "ExecuteTime": {
     "end_time": "2019-05-09T08:57:41.473678Z",
     "start_time": "2019-05-09T08:57:39.634674Z"
    }
   },
   "outputs": [
    {
     "name": "stderr",
     "output_type": "stream",
     "text": [
      "/home/ags/miniconda3/lib/python3.7/site-packages/ipykernel_launcher.py:5: RuntimeWarning: invalid value encountered in true_divide\n",
      "  \"\"\"\n"
     ]
    },
    {
     "name": "stdout",
     "output_type": "stream",
     "text": [
      "Number of keypoints:  (1894, 3)\n"
     ]
    },
    {
     "data": {
      "application/vnd.jupyter.widget-view+json": {
       "model_id": "853548d78539488a83ebdbc3322ad2a9",
       "version_major": 2,
       "version_minor": 0
      },
      "text/plain": [
       "VBox(children=(Figure(camera=PerspectiveCamera(fov=46.0, position=(0.0, 0.0, 2.0), quaternion=(0.0, 0.0, 0.0, …"
      ]
     },
     "metadata": {},
     "output_type": "display_data"
    }
   ],
   "source": [
    "\n",
    "all_keypoints = get_keypoints_from_face(points2,plot=True)"
   ]
  },
  {
   "cell_type": "markdown",
   "metadata": {},
   "source": [
    "## Feature Extraction"
   ]
  },
  {
   "cell_type": "code",
   "execution_count": 26,
   "metadata": {
    "ExecuteTime": {
     "end_time": "2019-05-09T08:57:41.480550Z",
     "start_time": "2019-05-09T08:57:41.474584Z"
    }
   },
   "outputs": [],
   "source": [
    "\n",
    "def get_normal(x, y, grid_x, grid_y, grid_z):\n",
    "    '''\n",
    "      3\n",
    "    1   2\n",
    "      4\n",
    "    '''\n",
    "    i = (x - grid_x[0, 0]) / (grid_x[1, 0] - grid_x[0, 0])\n",
    "    j = (y - grid_y[0, 0]) / (grid_y[0, 1] - grid_y[0, 0])\n",
    "    i,j = int(round(i)), int(round(j))\n",
    "    print(i, j)\n",
    "    if (not 0 <= i < grid_x.shape[0]) or (not 0 <= j < grid_y.shape[1]):\n",
    "        raise \"shape error\"\n",
    "    print(i,j)\n",
    "    point1 = (grid_x[i-1, j], grid_y[i-1, j], grid_z[i-1, j])\n",
    "    point2 = (grid_x[i+1, j], grid_y[i+1, j], grid_z[i+1, j])\n",
    "    point3 = (grid_x[i, j-1], grid_y[i, j-1], grid_z[i, j-1])\n",
    "    point4 = (grid_x[i, j+1], grid_y[i, j+1], grid_z[i, j+1])\n",
    "    a1, a2, a3 = [point2[x] - point1[x] for x in range(3)]\n",
    "    b1, b2, b3 = [point3[x] - point4[x] for x in range(3)]\n",
    "    normal = np.array([a3*b2, a1*b3, -a1*b2])\n",
    "    return normal/np.linalg.norm(normal)\n",
    "\n"
   ]
  },
  {
   "cell_type": "code",
   "execution_count": 27,
   "metadata": {
    "ExecuteTime": {
     "end_time": "2019-05-09T08:57:41.525949Z",
     "start_time": "2019-05-09T08:57:41.481555Z"
    }
   },
   "outputs": [
    {
     "name": "stdout",
     "output_type": "stream",
     "text": [
      "269 190\n",
      "269 190\n",
      "-52.12757172054859\n",
      "[0.78798213 0.05816463 0.61294457]\n"
     ]
    },
    {
     "data": {
      "application/vnd.jupyter.widget-view+json": {
       "model_id": "c36102a2603e4d5b9cb8e486a0fbc396",
       "version_major": 2,
       "version_minor": 0
      },
      "text/plain": [
       "VBox(children=(Figure(camera=PerspectiveCamera(fov=46.0, position=(0.0, 0.0, 2.0), quaternion=(0.0, 0.0, 0.0, …"
      ]
     },
     "metadata": {},
     "output_type": "display_data"
    },
    {
     "name": "stdout",
     "output_type": "stream",
     "text": [
      "[40]\n"
     ]
    }
   ],
   "source": [
    "\n",
    "ipv.clear()\n",
    "ipv.plot_mesh(grid_x, grid_y, zi, wireframe=False)\n",
    "\n",
    "uvn = get_normal(60, 20, grid_x,grid_y,zi)\n",
    "print(zi[269, 190])\n",
    "print(uvn)\n",
    "ipv.quiver(np.array([60.]), np.array([20.]), np.array([zi[269, 190]]), np.array([uvn[0]]), np.array([uvn[1]]), np.array([uvn[2]]), color=\"blue\", size=10)\n",
    "#ipv.scatter(np.array([10, ]), np.array([10, ]), np.array([10, ]), color=\"blue\", size=5)\n",
    "#ipv.quickquiver(np.array([-1.0]), np.array([0.25817214]), np.array( [0.42129626]), np.array([uvn[0]]), np.array([uvn[1]]), np.array([uvn[2]]), size=50)\n",
    "\n",
    "ipv.show()\n",
    "print(np.array([40]))"
   ]
  },
  {
   "cell_type": "code",
   "execution_count": 28,
   "metadata": {
    "ExecuteTime": {
     "end_time": "2019-05-09T08:57:41.530535Z",
     "start_time": "2019-05-09T08:57:41.526907Z"
    }
   },
   "outputs": [
    {
     "data": {
      "text/plain": [
       "(21,)"
      ]
     },
     "execution_count": 28,
     "metadata": {},
     "output_type": "execute_result"
    }
   ],
   "source": [
    "xy_hu_moments = cv2.HuMoments(cv2.moments(patch2[:, :2])).flatten()\n",
    "yz_hu_moments = cv2.HuMoments(cv2.moments(patch2[:, 1:])).flatten()\n",
    "xz_hu_moments = cv2.HuMoments(cv2.moments(patch2[:, ::2])).flatten()\n",
    "hu_moments = np.concatenate([xy_hu_moments, yz_hu_moments, xz_hu_moments])\n",
    "hu_moments.shape\n"
   ]
  },
  {
   "cell_type": "code",
   "execution_count": 29,
   "metadata": {
    "ExecuteTime": {
     "end_time": "2019-05-09T08:57:41.541158Z",
     "start_time": "2019-05-09T08:57:41.531557Z"
    }
   },
   "outputs": [
    {
     "data": {
      "text/plain": [
       "array([ 4.46832228e-01,  1.99841678e-01,  5.53289084e-05,  5.54389571e-05,\n",
       "        3.07042250e-09,  2.47826630e-05,  4.60688698e-12, -3.35959618e-01,\n",
       "        1.12816197e-01,  1.03715467e-03,  1.03752708e-03,  1.07626923e-06,\n",
       "       -3.48485850e-04,  5.08091445e-11,  1.41937453e+00,  2.51229635e+00,\n",
       "        4.17397159e+00,  1.85485717e+00,  4.89527342e+00,  2.79582917e+00,\n",
       "       -1.63493979e+00])"
      ]
     },
     "execution_count": 29,
     "metadata": {},
     "output_type": "execute_result"
    }
   ],
   "source": [
    "hu_moments"
   ]
  },
  {
   "cell_type": "code",
   "execution_count": 30,
   "metadata": {
    "ExecuteTime": {
     "end_time": "2019-05-09T08:57:41.552176Z",
     "start_time": "2019-05-09T08:57:41.542040Z"
    }
   },
   "outputs": [
    {
     "data": {
      "text/plain": [
       "array([-9.57519989e+02, -6.82944274e+02,  4.18942554e+06, -1.43659468e+03,\n",
       "       -1.02464087e+03,  1.52444158e+04, -3.86080528e+06])"
      ]
     },
     "execution_count": 30,
     "metadata": {},
     "output_type": "execute_result"
    }
   ],
   "source": [
    "moments = cv2.moments(patch2[:, :2])\n",
    "central_moments = [moments[key] for key in moments.keys() if key[:2] == \"mu\"]\n",
    "central_moments = np.array(central_moments)\n",
    "central_moments"
   ]
  },
  {
   "cell_type": "code",
   "execution_count": 31,
   "metadata": {
    "ExecuteTime": {
     "end_time": "2019-05-09T08:57:41.584231Z",
     "start_time": "2019-05-09T08:57:41.553054Z"
    }
   },
   "outputs": [
    {
     "name": "stdout",
     "output_type": "stream",
     "text": [
      "(132, 132) (132, 132) (132, 132)\n"
     ]
    },
    {
     "data": {
      "application/vnd.jupyter.widget-view+json": {
       "model_id": "d71d32f47ccc4757a9403fbe1fcc1e47",
       "version_major": 2,
       "version_minor": 0
      },
      "text/plain": [
       "VBox(children=(Figure(camera=PerspectiveCamera(fov=46.0, position=(0.0, 0.0, 2.0), quaternion=(0.0, 0.0, 0.0, …"
      ]
     },
     "metadata": {},
     "output_type": "display_data"
    }
   ],
   "source": [
    "def points2meshgrid(points):\n",
    "    [X, Y] = meshgrid(points[:,0], points[:,1])\n",
    "    Z = interpolate.griddata((patch1[:, 0], patch1[:, 1]), patch1[:, 2], (X, Y), method='cubic')\n",
    "    print(X.shape, Y.shape, Z.shape)\n",
    "    ipv.figure()\n",
    "    ipv.scatter(points[:,0],points[:,1],points[:,2])\n",
    "#     ipv.scatter(X.reshape(-1), Y.reshape(-1), Z.reshape(-1), color=\"orange\")\n",
    "    ipv.show()\n",
    "    \n",
    "points2meshgrid(patch1)"
   ]
  },
  {
   "cell_type": "code",
   "execution_count": 32,
   "metadata": {
    "ExecuteTime": {
     "end_time": "2019-05-09T08:57:41.594928Z",
     "start_time": "2019-05-09T08:57:41.585247Z"
    }
   },
   "outputs": [],
   "source": [
    "def surface_curvature(X,Y,Z):\n",
    "\n",
    "    (lr,lb)=X.shape\n",
    "\n",
    "\n",
    "    #First Derivatives\n",
    "    Xv,Xu=np.gradient(X)\n",
    "    Yv,Yu=np.gradient(Y)\n",
    "    Zv,Zu=np.gradient(Z)\n",
    "\n",
    "    #Second Derivatives\n",
    "    Xuv,Xuu=np.gradient(Xu)\n",
    "    Yuv,Yuu=np.gradient(Yu)\n",
    "    Zuv,Zuu=np.gradient(Zu)   \n",
    "\n",
    "    Xvv,Xuv=np.gradient(Xv)\n",
    "    Yvv,Yuv=np.gradient(Yv)\n",
    "    Zvv,Zuv=np.gradient(Zv) \n",
    "\n",
    "    #2D to 1D conversion \n",
    "    #Reshape to 1D vectors\n",
    "    Xu=np.reshape(Xu,lr*lb)\n",
    "    Yu=np.reshape(Yu,lr*lb)\n",
    "    Zu=np.reshape(Zu,lr*lb)\n",
    "    Xv=np.reshape(Xv,lr*lb)\n",
    "    Yv=np.reshape(Yv,lr*lb)\n",
    "    Zv=np.reshape(Zv,lr*lb)\n",
    "    Xuu=np.reshape(Xuu,lr*lb)\n",
    "    Yuu=np.reshape(Yuu,lr*lb)\n",
    "    Zuu=np.reshape(Zuu,lr*lb)\n",
    "    Xuv=np.reshape(Xuv,lr*lb)\n",
    "    Yuv=np.reshape(Yuv,lr*lb)\n",
    "    Zuv=np.reshape(Zuv,lr*lb)\n",
    "    Xvv=np.reshape(Xvv,lr*lb)\n",
    "    Yvv=np.reshape(Yvv,lr*lb)\n",
    "    Zvv=np.reshape(Zvv,lr*lb)\n",
    "\n",
    "    Xu=np.c_[Xu, Yu, Zu]\n",
    "    Xv=np.c_[Xv, Yv, Zv]\n",
    "    Xuu=np.c_[Xuu, Yuu, Zuu]\n",
    "    Xuv=np.c_[Xuv, Yuv, Zuv]\n",
    "    Xvv=np.c_[Xvv, Yvv, Zvv]\n",
    "\n",
    "    #% First fundamental Coeffecients of the surface (E,F,G)\n",
    "    E=np.einsum('ij,ij->i', Xu, Xu) \n",
    "    F=np.einsum('ij,ij->i', Xu, Xv) \n",
    "    G=np.einsum('ij,ij->i', Xv, Xv) \n",
    "\n",
    "    m=np.cross(Xu,Xv,axisa=1, axisb=1) \n",
    "    p=np.sqrt(np.einsum('ij,ij->i', m, m)) \n",
    "    n=m/np.c_[p,p,p]\n",
    "    # n is the normal\n",
    "    #% Second fundamental Coeffecients of the surface (L,M,N), (e,f,g)\n",
    "    L= np.einsum('ij,ij->i', Xuu, n) #e\n",
    "    M= np.einsum('ij,ij->i', Xuv, n) #f\n",
    "    N= np.einsum('ij,ij->i', Xvv, n) #g\n",
    "\n",
    "    # Alternative formula for gaussian curvature in wiki \n",
    "    # K = det(second fundamental) / det(first fundamental)\n",
    "    #% Gaussian Curvature\n",
    "    K=(L*N-M**2)/(E*G-L**2)\n",
    "    K=np.reshape(K,lr*lb)\n",
    "    #wiki trace of (second fundamental)(first fundamental inverse)\n",
    "    #% Mean Curvature\n",
    "    H = (E*N + G*L - 2*F*M)/((E*G - F**2))\n",
    "    H = np.reshape(H,lr*lb)\n",
    "\n",
    "    #% Principle Curvatures\n",
    "    Pmax = H + np.sqrt(H**2 - K)\n",
    "    Pmin = H - np.sqrt(H**2 - K)\n",
    "    #[Pmax, Pmin]\n",
    "    return [Pmax, Pmin, G, H]\n",
    "\n",
    "\n",
    "def fun(x,y):\n",
    "    return x**2+y**2"
   ]
  },
  {
   "cell_type": "code",
   "execution_count": 33,
   "metadata": {
    "ExecuteTime": {
     "end_time": "2019-05-09T08:57:41.606150Z",
     "start_time": "2019-05-09T08:57:41.595901Z"
    }
   },
   "outputs": [],
   "source": [
    "x1, y1, z1 = patch1[:, 0], patch1[:, 1], patch1[:, 2]"
   ]
  },
  {
   "cell_type": "code",
   "execution_count": 34,
   "metadata": {
    "ExecuteTime": {
     "end_time": "2019-05-09T08:57:41.623231Z",
     "start_time": "2019-05-09T08:57:41.606965Z"
    }
   },
   "outputs": [],
   "source": [
    "[pgrid_x,pgrid_y] = scipy.meshgrid(x1, y1)"
   ]
  },
  {
   "cell_type": "code",
   "execution_count": 35,
   "metadata": {
    "ExecuteTime": {
     "end_time": "2019-05-09T08:57:41.876315Z",
     "start_time": "2019-05-09T08:57:41.624061Z"
    }
   },
   "outputs": [
    {
     "data": {
      "text/plain": [
       "<matplotlib.collections.PathCollection at 0x7fe93ad36198>"
      ]
     },
     "execution_count": 35,
     "metadata": {},
     "output_type": "execute_result"
    },
    {
     "data": {
      "image/png": "[encoded data removed]",
      "text/plain": [
       "<Figure size 432x288 with 1 Axes>"
      ]
     },
     "metadata": {
      "needs_background": "light"
     },
     "output_type": "display_data"
    }
   ],
   "source": [
    "plt.scatter(pgrid_x, pgrid_y);\n",
    "plt.scatter(x1, y1)"
   ]
  },
  {
   "cell_type": "code",
   "execution_count": 36,
   "metadata": {
    "ExecuteTime": {
     "end_time": "2019-05-09T08:57:41.883711Z",
     "start_time": "2019-05-09T08:57:41.877386Z"
    }
   },
   "outputs": [],
   "source": [
    "pgrid_z = scipy.interpolate.griddata((patch1[:, 0], patch1[:, 1]), patch1[:, 2], (pgrid_x, pgrid_y), method='cubic')"
   ]
  },
  {
   "cell_type": "code",
   "execution_count": 37,
   "metadata": {
    "ExecuteTime": {
     "end_time": "2019-05-09T08:57:42.203966Z",
     "start_time": "2019-05-09T08:57:41.884611Z"
    }
   },
   "outputs": [
    {
     "name": "stderr",
     "output_type": "stream",
     "text": [
      "/home/ags/miniconda3/lib/python3.7/site-packages/numpy/core/fromnumeric.py:83: RuntimeWarning: invalid value encountered in reduce\n",
      "  return ufunc.reduce(obj, axis, dtype, out, **passkwargs)\n"
     ]
    },
    {
     "data": {
      "image/png": "[encoded data removed]",
      "text/plain": [
       "<Figure size 432x288 with 1 Axes>"
      ]
     },
     "metadata": {
      "needs_background": "light"
     },
     "output_type": "display_data"
    }
   ],
   "source": [
    "fig = plt.figure()\n",
    "ax = Axes3D(fig)\n",
    "ax.plot_surface(pgrid_x,pgrid_y,pgrid_z)\n",
    "plt.show()"
   ]
  },
  {
   "cell_type": "code",
   "execution_count": 38,
   "metadata": {
    "ExecuteTime": {
     "end_time": "2019-05-09T08:57:42.224886Z",
     "start_time": "2019-05-09T08:57:42.204828Z"
    }
   },
   "outputs": [
    {
     "data": {
      "application/vnd.jupyter.widget-view+json": {
       "model_id": "8d12f49a4ec44c01bf4f153cf0e499e8",
       "version_major": 2,
       "version_minor": 0
      },
      "text/plain": [
       "VBox(children=(Figure(camera=PerspectiveCamera(fov=46.0, position=(0.0, 0.0, 2.0), quaternion=(0.0, 0.0, 0.0, …"
      ]
     },
     "metadata": {},
     "output_type": "display_data"
    }
   ],
   "source": [
    "ipv.figure()\n",
    "ipv.plot_surface(pgrid_x, pgrid_z, pgrid_y)\n",
    "ipv.show()"
   ]
  },
  {
   "cell_type": "code",
   "execution_count": 39,
   "metadata": {
    "ExecuteTime": {
     "end_time": "2019-05-09T08:57:42.232017Z",
     "start_time": "2019-05-09T08:57:42.225861Z"
    }
   },
   "outputs": [
    {
     "name": "stderr",
     "output_type": "stream",
     "text": [
      "/home/ags/miniconda3/lib/python3.7/site-packages/ipykernel_launcher.py:69: RuntimeWarning: invalid value encountered in sqrt\n",
      "/home/ags/miniconda3/lib/python3.7/site-packages/ipykernel_launcher.py:70: RuntimeWarning: invalid value encountered in sqrt\n"
     ]
    }
   ],
   "source": [
    "k1, k2, G, H = surface_curvature(pgrid_x,pgrid_y,pgrid_z)"
   ]
  },
  {
   "cell_type": "code",
   "execution_count": 40,
   "metadata": {
    "ExecuteTime": {
     "end_time": "2019-05-09T08:57:42.239297Z",
     "start_time": "2019-05-09T08:57:42.232973Z"
    },
    "scrolled": true
   },
   "outputs": [
    {
     "data": {
      "text/plain": [
       "(array([nan, nan, nan, ..., nan, nan, nan]),\n",
       " array([nan, nan, nan, ..., nan, nan, nan]),\n",
       " array([        nan,  0.17418816,         nan, ..., 81.78032115,\n",
       "                nan, 75.26359347]),\n",
       " array([nan, nan, nan, ..., nan, nan, nan]))"
      ]
     },
     "execution_count": 40,
     "metadata": {},
     "output_type": "execute_result"
    }
   ],
   "source": [
    "k1, k2, G, H"
   ]
  },
  {
   "cell_type": "code",
   "execution_count": null,
   "metadata": {
    "ExecuteTime": {
     "end_time": "2019-05-08T07:18:29.720869Z",
     "start_time": "2019-05-08T07:18:29.716618Z"
    }
   },
   "outputs": [],
   "source": []
  },
  {
   "cell_type": "code",
   "execution_count": 41,
   "metadata": {
    "ExecuteTime": {
     "end_time": "2019-05-09T08:57:42.272467Z",
     "start_time": "2019-05-09T08:57:42.240162Z"
    }
   },
   "outputs": [
    {
     "name": "stdout",
     "output_type": "stream",
     "text": [
      "nan\n",
      "nan\n",
      "nan\n",
      "nan\n",
      "nan\n",
      "nan\n",
      "0.048781641187741545\n",
      "nan\n",
      "nan\n",
      "nan\n",
      "1.504569882221884\n",
      "nan\n",
      "nan\n",
      "nan\n",
      "nan\n",
      "nan\n",
      "nan\n",
      "nan\n",
      "nan\n",
      "nan\n",
      "nan\n",
      "nan\n",
      "nan\n",
      "0.014603650254780928\n",
      "nan\n",
      "nan\n",
      "nan\n",
      "nan\n",
      "nan\n",
      "nan\n",
      "nan\n",
      "nan\n",
      "nan\n",
      "nan\n",
      "nan\n",
      "nan\n",
      "nan\n",
      "nan\n",
      "nan\n",
      "nan\n",
      "nan\n",
      "nan\n",
      "nan\n",
      "nan\n",
      "nan\n",
      "nan\n",
      "nan\n",
      "nan\n",
      "nan\n",
      "0.04661671443542394\n",
      "nan\n",
      "nan\n",
      "nan\n",
      "nan\n",
      "nan\n",
      "nan\n",
      "nan\n",
      "nan\n",
      "nan\n",
      "nan\n",
      "nan\n",
      "nan\n",
      "nan\n",
      "nan\n",
      "nan\n",
      "nan\n",
      "nan\n",
      "nan\n",
      "nan\n",
      "nan\n",
      "nan\n",
      "nan\n",
      "nan\n",
      "nan\n",
      "nan\n",
      "nan\n",
      "nan\n",
      "nan\n",
      "nan\n",
      "nan\n",
      "nan\n",
      "nan\n",
      "nan\n",
      "nan\n",
      "nan\n",
      "nan\n",
      "nan\n",
      "nan\n",
      "nan\n",
      "nan\n",
      "nan\n",
      "nan\n",
      "nan\n",
      "nan\n",
      "nan\n",
      "nan\n",
      "nan\n",
      "nan\n",
      "nan\n",
      "nan\n",
      "nan\n",
      "nan\n",
      "nan\n",
      "nan\n",
      "nan\n",
      "nan\n",
      "nan\n",
      "nan\n",
      "nan\n",
      "nan\n",
      "nan\n",
      "nan\n",
      "nan\n",
      "-0.0027540640601607796\n",
      "nan\n",
      "nan\n",
      "62.08805730340325\n",
      "nan\n",
      "nan\n",
      "nan\n",
      "nan\n",
      "nan\n",
      "0.1299623247956001\n",
      "nan\n",
      "nan\n",
      "nan\n",
      "nan\n",
      "nan\n",
      "nan\n",
      "nan\n",
      "nan\n",
      "nan\n"
     ]
    }
   ],
   "source": [
    "for i in range(len(patch1)):\n",
    "    print(k1[i*i])"
   ]
  },
  {
   "cell_type": "code",
   "execution_count": 42,
   "metadata": {
    "ExecuteTime": {
     "end_time": "2019-05-09T08:57:42.284414Z",
     "start_time": "2019-05-09T08:57:42.273763Z"
    }
   },
   "outputs": [
    {
     "name": "stdout",
     "output_type": "stream",
     "text": [
      "[nan nan nan ... nan nan nan]\n",
      "[nan nan nan ... nan nan nan]\n"
     ]
    }
   ],
   "source": [
    "# Shape index\n",
    "\n",
    "Sa = 1/2 - 1/np.pi * np.arctan((k1+k2)/(k1-k2))\n",
    "Sb = 2/np.pi * np.arctan((k1+k2)/(k1-k2))\n",
    "\n",
    "print(Sa)\n",
    "print(Sb)"
   ]
  },
  {
   "cell_type": "code",
   "execution_count": 43,
   "metadata": {
    "ExecuteTime": {
     "end_time": "2019-05-09T08:57:42.293951Z",
     "start_time": "2019-05-09T08:57:42.285324Z"
    }
   },
   "outputs": [
    {
     "name": "stderr",
     "output_type": "stream",
     "text": [
      "/home/ags/miniconda3/lib/python3.7/site-packages/ipykernel_launcher.py:5: RuntimeWarning: invalid value encountered in log\n",
      "  \"\"\"\n"
     ]
    }
   ],
   "source": [
    "curvedness = np.sqrt((k1**2 + k2**2)/2)\n",
    "log_curvedness = 2/np.pi * np.log10(curvedness)\n",
    "willmore_energy = H**2 - G\n",
    "shape_curvedness = Sb * log_curvedness\n",
    "log_difference_map = np.log(G - H + 1) \n"
   ]
  },
  {
   "cell_type": "code",
   "execution_count": null,
   "metadata": {},
   "outputs": [],
   "source": []
  },
  {
   "cell_type": "code",
   "execution_count": null,
   "metadata": {},
   "outputs": [],
   "source": []
  },
  {
   "cell_type": "code",
   "execution_count": null,
   "metadata": {},
   "outputs": [],
   "source": []
  },
  {
   "cell_type": "code",
   "execution_count": null,
   "metadata": {},
   "outputs": [],
   "source": []
  },
  {
   "cell_type": "code",
   "execution_count": null,
   "metadata": {},
   "outputs": [],
   "source": []
  },
  {
   "cell_type": "code",
   "execution_count": null,
   "metadata": {},
   "outputs": [],
   "source": []
  },
  {
   "cell_type": "code",
   "execution_count": null,
   "metadata": {},
   "outputs": [],
   "source": []
  },
  {
   "cell_type": "code",
   "execution_count": null,
   "metadata": {},
   "outputs": [],
   "source": []
  },
  {
   "cell_type": "code",
   "execution_count": null,
   "metadata": {},
   "outputs": [],
   "source": []
  },
  {
   "cell_type": "code",
   "execution_count": null,
   "metadata": {},
   "outputs": [],
   "source": []
  },
  {
   "cell_type": "code",
   "execution_count": null,
   "metadata": {},
   "outputs": [],
   "source": []
  }
 ],
 "metadata": {
  "kernelspec": {
   "display_name": "Python 3",
   "language": "python",
   "name": "python3"
  },
  "language_info": {
   "codemirror_mode": {
    "name": "ipython",
    "version": 3
   },
   "file_extension": ".py",
   "mimetype": "text/x-python",
   "name": "python",
   "nbconvert_exporter": "python",
   "pygments_lexer": "ipython3",
   "version": "3.7.2"
  }
 },
 "nbformat": 4,
 "nbformat_minor": 2
}
