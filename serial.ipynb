{
 "cells": [
  {
   "cell_type": "markdown",
   "metadata": {},
   "source": [
    "# Dense 3D Face Correspondence"
   ]
  },
  {
   "cell_type": "code",
   "execution_count": 1,
   "metadata": {
    "ExecuteTime": {
     "end_time": "2019-05-12T06:48:51.895425Z",
     "start_time": "2019-05-12T06:48:51.893387Z"
    }
   },
   "outputs": [],
   "source": [
    "# import os\n",
    "# os.environ[\"MKL_NUM_THREADS\"] = \"1\" \n",
    "# os.environ[\"NUMEXPR_NUM_THREADS\"] = \"1\" \n",
    "# os.environ[\"OMP_NUM_THREADS\"] = \"1\" "
   ]
  },
  {
   "cell_type": "code",
   "execution_count": 2,
   "metadata": {
    "ExecuteTime": {
     "end_time": "2019-05-12T06:48:52.244313Z",
     "start_time": "2019-05-12T06:48:51.898258Z"
    }
   },
   "outputs": [],
   "source": [
    "import pdb\n",
    "import numpy as np\n",
    "import re\n",
    "import threading\n",
    "import warnings\n",
    "import cv2\n",
    "import ipyvolume as ipv\n",
    "import scipy\n",
    "from math import cos, sin\n",
    "from scipy import meshgrid, interpolate\n",
    "import pdb\n",
    "import matplotlib.pyplot as plt\n",
    "from mpl_toolkits.mplot3d import Axes3D\n",
    "from scipy.spatial import ConvexHull, Delaunay\n",
    "import numpy as np\n",
    "from scipy.interpolate import griddata\n",
    "from collections import defaultdict\n",
    "\n",
    "# THRESHOLDS\n",
    "rho = 0.5\n",
    "eigen_ratio_threshold = 5000"
   ]
  },
  {
   "cell_type": "markdown",
   "metadata": {},
   "source": [
    "## Read each face data"
   ]
  },
  {
   "cell_type": "code",
   "execution_count": 3,
   "metadata": {
    "ExecuteTime": {
     "end_time": "2019-05-12T06:48:52.249791Z",
     "start_time": "2019-05-12T06:48:52.245846Z"
    }
   },
   "outputs": [],
   "source": [
    "def read_wrl(file_path):\n",
    "    holder = []\n",
    "    with open(file_path, \"r\") as vrml:\n",
    "        for line in vrml:\n",
    "            a = line.strip().strip(\",\").split()\n",
    "            if len(a) == 3:\n",
    "                try:\n",
    "                    holder.append(list(map(float, a)))\n",
    "                except:\n",
    "                    pass\n",
    "    x,y,z = zip(*holder)\n",
    "    x = np.array(x)\n",
    "    y = np.array(y)\n",
    "    z = np.array(z)\n",
    "    return np.array(holder)"
   ]
  },
  {
   "cell_type": "code",
   "execution_count": 4,
   "metadata": {
    "ExecuteTime": {
     "end_time": "2019-05-12T06:48:52.547579Z",
     "start_time": "2019-05-12T06:48:52.250877Z"
    }
   },
   "outputs": [],
   "source": [
    "file_paths = {\n",
    "    \"path1\": \"F0001/F0001_AN01WH_F3D.wrl\",\n",
    "    \"path2\": \"F0001/F0001_AN02WH_F3D.wrl\",\n",
    "    \"path3\": \"F0001/F0001_AN03WH_F3D.wrl\",\n",
    "    \"path4\": \"F0001/F0001_AN04WH_F3D.wrl\",\n",
    "    \"path5\": \"F0001/F0001_DI01WH_F3D.wrl\",\n",
    "    \"path6\": \"F0001/F0001_DI02WH_F3D.wrl\",\n",
    "    \"path7\": \"F0001/F0001_DI03WH_F3D.wrl\",\n",
    "    \"path8\": \"F0001/F0001_DI04WH_F3D.wrl\",\n",
    "}\n",
    "face_points = {} # key = face+index, value = extracted face data\n",
    "for i in range(1, len(file_paths)+1):\n",
    "    face_points[\"face\" + str(i)] = read_wrl(file_paths[\"path\" + str(i)])"
   ]
  },
  {
   "cell_type": "markdown",
   "metadata": {},
   "source": [
    "## Normalizing faces and Interpolation"
   ]
  },
  {
   "cell_type": "code",
   "execution_count": 5,
   "metadata": {
    "ExecuteTime": {
     "end_time": "2019-05-12T06:48:52.553884Z",
     "start_time": "2019-05-12T06:48:52.549396Z"
    }
   },
   "outputs": [],
   "source": [
    "\n",
    "def normalize_face(points):\n",
    "    maxind = np.argmax(points[:,2])\n",
    "    nosex = points[maxind,0]\n",
    "    nosey = points[maxind,1]\n",
    "    nosez = points[maxind,2]\n",
    "    points = points - np.array([nosex, nosey, nosez])\n",
    "#     points = points / np.max(points)\n",
    "    return points\n",
    "\n",
    "def points2grid(points):\n",
    "    x1, y1, z1 = map(np.array, zip(*points))\n",
    "    grid_x, grid_y = np.mgrid[np.amin(x1):np.amax(x1):0.5, np.amin(y1):np.amax(y1):0.5]\n",
    "    grid_z = griddata((x1, y1), z1, (grid_x, grid_y), method='linear')\n",
    "    return [grid_x, grid_y, grid_z]\n"
   ]
  },
  {
   "cell_type": "code",
   "execution_count": 6,
   "metadata": {
    "ExecuteTime": {
     "end_time": "2019-05-12T06:48:53.129664Z",
     "start_time": "2019-05-12T06:48:52.556154Z"
    }
   },
   "outputs": [],
   "source": [
    "# normalizing the faces and interpolating them across a grid\n",
    "grid_data = {}\n",
    "for i in range(1, len(file_paths)+1):\n",
    "    # normalization\n",
    "    face_points[\"face\" + str(i)] = normalize_face(face_points[\"face\" + str(i)])\n",
    "    # grid interpolation of the face data\n",
    "    grid_data[\"face\" + str(i)] = points2grid(face_points[\"face\" + str(i)])"
   ]
  },
  {
   "cell_type": "code",
   "execution_count": 7,
   "metadata": {
    "ExecuteTime": {
     "end_time": "2019-05-12T06:48:53.156969Z",
     "start_time": "2019-05-12T06:48:53.130569Z"
    }
   },
   "outputs": [
    {
     "data": {
      "application/vnd.jupyter.widget-view+json": {
       "model_id": "0629bb2c07e74e078088225cad6ffb2a",
       "version_major": 2,
       "version_minor": 0
      },
      "text/plain": [
       "VBox(children=(Figure(camera=PerspectiveCamera(fov=46.0, position=(0.0, 0.0, 2.0), quaternion=(0.0, 0.0, 0.0, …"
      ]
     },
     "metadata": {},
     "output_type": "display_data"
    }
   ],
   "source": [
    "# hull plot\n",
    "first_face_id = 3 # face id (number) to plot\n",
    "second_face_id = 7\n",
    "points = face_points[\"face\" + str(first_face_id)]\n",
    "points2 = face_points[\"face\" + str(second_face_id)]\n",
    "ipv.quickscatter(points[:, 0], points[:, 1], points[:, 2], size=1, marker=\"sphere\")\n",
    "ipv.scatter(points2[:, 0], points2[:, 1], points2[:, 2], size=1, marker=\"sphere\", color=\"blue\")\n",
    "ipv.show()"
   ]
  },
  {
   "cell_type": "markdown",
   "metadata": {},
   "source": [
    "## Plot the interpolated faces"
   ]
  },
  {
   "cell_type": "code",
   "execution_count": 8,
   "metadata": {
    "ExecuteTime": {
     "end_time": "2019-05-12T06:48:53.188581Z",
     "start_time": "2019-05-12T06:48:53.157877Z"
    }
   },
   "outputs": [
    {
     "data": {
      "application/vnd.jupyter.widget-view+json": {
       "model_id": "9c59ba35dd294edab4981cd8139ca922",
       "version_major": 2,
       "version_minor": 0
      },
      "text/plain": [
       "VBox(children=(Figure(camera=PerspectiveCamera(fov=46.0, position=(0.0, 0.0, 2.0), quaternion=(0.0, 0.0, 0.0, …"
      ]
     },
     "metadata": {},
     "output_type": "display_data"
    }
   ],
   "source": [
    "\n",
    "face_id = 8\n",
    "ipv.clear()\n",
    "grid_x, grid_y, grid_z = grid_data[\"face\" + str(face_id)]\n",
    "ipv.plot_mesh(grid_x, grid_y, grid_z, wireframe=False)\n",
    "ipv.show()"
   ]
  },
  {
   "cell_type": "markdown",
   "metadata": {},
   "source": [
    "## Sparse Correspondence Initialization"
   ]
  },
  {
   "cell_type": "markdown",
   "metadata": {},
   "source": [
    "## Seed points sampling using mean 2D convex hull "
   ]
  },
  {
   "cell_type": "code",
   "execution_count": 9,
   "metadata": {
    "ExecuteTime": {
     "end_time": "2019-05-12T06:48:57.397240Z",
     "start_time": "2019-05-12T06:48:53.189570Z"
    }
   },
   "outputs": [],
   "source": [
    "def hull72(points, nosex, nosey, nosez):\n",
    "    newhull = [[nosex, nosey, nosez]]\n",
    "    for theta in range(0, 360, 5):\n",
    "        fx = 200 * cos(theta * np.pi / 180)\n",
    "        fy = 200 * sin(theta * np.pi / 180)\n",
    "        nearest_point = min(zip(points[:, 0], points[:, 1], points[:, 2]), key=lambda p:(p[0] - fx)**2 + (p[1] - fy)**2)\n",
    "        newhull.append(nearest_point)\n",
    "    return newhull\n",
    "\n",
    "def get_hull(points):\n",
    "    maxind = np.argmax(points[:,2])\n",
    "    # coordinates of nose, nosex = x coordinate of nose, similarly for nosey and nosez\n",
    "    nosex = points[maxind,0]\n",
    "    nosey = points[maxind,1]\n",
    "    nosez = points[maxind,2]\n",
    "    hull = np.array(hull72(points, nosex,nosey,nosez))\n",
    "    return hull\n",
    "\n",
    "hull = np.zeros([73, 3])\n",
    "for i in range(1, len(file_paths)+1):\n",
    "    hull += get_hull(face_points[\"face\" + str(i)])\n",
    "hull = hull / len(file_paths)"
   ]
  },
  {
   "cell_type": "markdown",
   "metadata": {},
   "source": [
    "### Plot of extracted seed points"
   ]
  },
  {
   "cell_type": "code",
   "execution_count": 10,
   "metadata": {
    "ExecuteTime": {
     "end_time": "2019-05-12T06:48:57.625486Z",
     "start_time": "2019-05-12T06:48:57.398673Z"
    }
   },
   "outputs": [
    {
     "data": {
      "image/png": "[encoded data removed]",
      "text/plain": [
       "<Figure size 576x576 with 1 Axes>"
      ]
     },
     "metadata": {
      "needs_background": "light"
     },
     "output_type": "display_data"
    }
   ],
   "source": [
    "first_face_index = 7\n",
    "second_face_index = 4\n",
    "points1 = face_points[\"face\" + str(first_face_index)]\n",
    "points2 = face_points[\"face\" + str(second_face_index)]\n",
    "plt.figure(figsize=(8,8))\n",
    "plt.scatter(points1[:,0], points1[:,1], color=\"red\")\n",
    "plt.scatter(points2[:,0], points2[:,1], color=\"orange\")\n",
    "plt.scatter(hull[:,0], hull[:,1])\n",
    "maxind = np.argmax(points1[:,2])\n",
    "nosex = points1[maxind,0]\n",
    "nosey = points1[maxind,1]\n",
    "nosez = points1[maxind,2]\n",
    "plt.plot(nosex,nosey,\"b\")\n",
    "plt.show()"
   ]
  },
  {
   "cell_type": "markdown",
   "metadata": {},
   "source": [
    "## Delaunay Triangulation "
   ]
  },
  {
   "cell_type": "code",
   "execution_count": 11,
   "metadata": {
    "ExecuteTime": {
     "end_time": "2019-05-12T06:48:57.628426Z",
     "start_time": "2019-05-12T06:48:57.626440Z"
    }
   },
   "outputs": [],
   "source": [
    "def triangulation(hull):\n",
    "    points2D = np.vstack([hull[:,0],hull[:,1]]).T\n",
    "    tri_hull = Delaunay(points2D) \n",
    "    return tri_hull"
   ]
  },
  {
   "cell_type": "code",
   "execution_count": 12,
   "metadata": {
    "ExecuteTime": {
     "end_time": "2019-05-12T06:48:57.639619Z",
     "start_time": "2019-05-12T06:48:57.629372Z"
    }
   },
   "outputs": [],
   "source": [
    "tri_hull = triangulation(hull)"
   ]
  },
  {
   "cell_type": "code",
   "execution_count": 13,
   "metadata": {
    "ExecuteTime": {
     "end_time": "2019-05-12T06:48:57.672489Z",
     "start_time": "2019-05-12T06:48:57.640612Z"
    }
   },
   "outputs": [
    {
     "data": {
      "application/vnd.jupyter.widget-view+json": {
       "model_id": "d10ffb9bcd4046efa06126881dcc10e7",
       "version_major": 2,
       "version_minor": 0
      },
      "text/plain": [
       "VBox(children=(Figure(camera=PerspectiveCamera(fov=46.0, position=(0.0, 0.0, 2.0), quaternion=(0.0, 0.0, 0.0, …"
      ]
     },
     "metadata": {},
     "output_type": "display_data"
    }
   ],
   "source": [
    "\n",
    "#tri_hull = triangulation(hull)\n",
    "ipv.figure()\n",
    "mesh = ipv.plot_trisurf(hull[:,0], hull[:,1], hull[:,2], triangles=tri_hull.simplices, color='blue')\n",
    "ipv.scatter(hull[:,0], hull[:,1], hull[:,2], marker='sphere', color='red')\n",
    "ipv.show()"
   ]
  },
  {
   "cell_type": "markdown",
   "metadata": {},
   "source": [
    "## Geodesic Patch Extraction"
   ]
  },
  {
   "cell_type": "code",
   "execution_count": 14,
   "metadata": {
    "ExecuteTime": {
     "end_time": "2019-05-12T06:48:57.679684Z",
     "start_time": "2019-05-12T06:48:57.673540Z"
    }
   },
   "outputs": [],
   "source": [
    "#def get_patch(points, hull, x1, y1, z1):\n",
    "#    patch_width = 5 * rho\n",
    "#    def distance(x,y,z,x1,y1,z1,x2,y2,z2):\n",
    "#        a = (y2-y1)/(x2-x1)\n",
    "#        b = -1\n",
    "#        c = y2-x2*(y2-y1)/(x2-x1)\n",
    "#        return abs(a*x+b*y+c)/(a**2+b**2)**0.5\n",
    "#\n",
    "#    patch = []\n",
    "#    nosex, nosey, nosez = hull[0]\n",
    "#    for x2,y2,z2 in points:\n",
    "#        if (y1-nosey)/(y2-nosey+0.0001)>0 and (x1-nosex)/(x2-nosex+0.0001)>0 \\\n",
    "#        and distance(x2,y2,z2,x1,y1,z1,nosex,nosey,nosez)<patch_width:\n",
    "#            patch.append([x2,y2,z2])\n",
    "#    patch = np.array(patch)\n",
    "#    return patch\n",
    "\n",
    "def get_all_patches_from_face(points, hull, triangles):\n",
    "    from itertools import combinations\n",
    "    \n",
    "    patch_width = 5 * rho\n",
    "    def distance(x,y,z,x1,y1,z1,x2,y2,z2):\n",
    "        a = (y2-y1)/(x2-x1)\n",
    "        b = -1\n",
    "        c = y2-x2*(y2-y1)/(x2-x1)\n",
    "        return abs(a*x+b*y+c)/(a**2+b**2)**0.5\n",
    "    \n",
    "    patches = []\n",
    "    for t1,t2 in combinations(triangles,r=2): #pairwise triangles\n",
    "        if len(set(t1)&set(t2))==2:           #triangles with a common edge\n",
    "            patch = []\n",
    "            a_ind, b_ind = list(set(t1)&set(t2))\n",
    "            x1, y1, z1 = hull[a_ind,:]\n",
    "            x2, y2, z2 = hull[b_ind,:]\n",
    "            for x,y,z in points: #loop over all points to find patch points\n",
    "                if (x-x1/2-x2/2)**2+(y-y1/2-y2/2)**2<(x1/2-x2/2)**2+(y1/2-y2/2)**2 and distance(x,y,z,x1,y1,z1,x2,y2,z2)<patch_width:\n",
    "                    patch.append([x,y,z])\n",
    "            if len(patch)==0: \n",
    "                #print(\"ALERT: NO PATCH FOR AN EDGE!!!!\")\n",
    "                pass\n",
    "            patches.append(np.array(patch))\n",
    "    return patches\n"
   ]
  },
  {
   "cell_type": "code",
   "execution_count": 15,
   "metadata": {
    "ExecuteTime": {
     "end_time": "2019-05-12T06:49:15.730748Z",
     "start_time": "2019-05-12T06:48:57.680551Z"
    }
   },
   "outputs": [],
   "source": [
    "def get_patches(hull, triangles):\n",
    "    #pdb.set_trace()\n",
    "    patches = defaultdict(list) # key = edges, values = a list of extracted patches from all faces along that edge \n",
    "    for face_index in range(1, len(file_paths)+1):\n",
    "        all_patches = get_all_patches_from_face(face_points[\"face\"+str(face_index)], hull, triangles)\n",
    "        #print(len(all_patches))\n",
    "        # the patches are organised in following way because the original get_patches function was modified after the whole serial code was written\n",
    "        try:\n",
    "            for edge_index in range(len(all_patches)):\n",
    "                patches[\"edge\" + str(edge_index)].append(all_patches[edge_index])\n",
    "        except:\n",
    "            pdb.set_trace()\n",
    "    return patches\n",
    "#hull= correspondence_set\n",
    "patches = get_patches(hull, tri_hull.simplices)\n"
   ]
  },
  {
   "cell_type": "code",
   "execution_count": 16,
   "metadata": {
    "ExecuteTime": {
     "end_time": "2019-05-12T06:49:15.807837Z",
     "start_time": "2019-05-12T06:49:15.731749Z"
    }
   },
   "outputs": [
    {
     "data": {
      "application/vnd.jupyter.widget-view+json": {
       "model_id": "9667195382144cf48a9691150419f535",
       "version_major": 2,
       "version_minor": 0
      },
      "text/plain": [
       "VBox(children=(Figure(camera=PerspectiveCamera(fov=46.0, position=(0.0, 0.0, 2.0), quaternion=(0.0, 0.0, 0.0, …"
      ]
     },
     "metadata": {},
     "output_type": "display_data"
    }
   ],
   "source": [
    "# randomly selecting a edge, and plotting all patches along that edge across all the faces\n",
    "ipv.clear()\n",
    "edge_index = np.random.choice(range(len(patches)))\n",
    "edge = patches[\"edge\" + str(edge_index)]\n",
    "for i in range(len(edge)):\n",
    "    patch = edge[i]\n",
    "    ipv.scatter(patch[:,0], patch[:,1], patch[:,2], size=1, marker=\"sphere\", color=[\"red\", \"blue\", \"yellow\", \"green\"][i%4])\n",
    "ipv.show()"
   ]
  },
  {
   "cell_type": "markdown",
   "metadata": {},
   "source": [
    "## Keypoint Extraction"
   ]
  },
  {
   "cell_type": "code",
   "execution_count": 17,
   "metadata": {
    "ExecuteTime": {
     "end_time": "2019-05-12T06:49:15.812577Z",
     "start_time": "2019-05-12T06:49:15.809171Z"
    }
   },
   "outputs": [],
   "source": [
    "# takes in a point and the patch it belongs to and decides whether it is a keypoint (ratio of largest two eigenvalues on the covariance matrix of its local surface) or not\n",
    "def is_keypoint(point, points):\n",
    "    threshold = 7 * rho\n",
    "    nhood = points[(np.sum(np.square(points-point),axis=1)) < threshold**2]\n",
    "    try:\n",
    "        nhood = (nhood - np.min(nhood, axis=0)) / (np.max(nhood, axis=0) - np.min(nhood, axis=0))\n",
    "        covmat = np.cov(nhood)\n",
    "        eigvals = np.sort(np.abs(np.linalg.eigvalsh(covmat)))\n",
    "        ratio = eigvals[-1]/(eigvals[-2]+0.0001)\n",
    "        return ratio>30 #eigen_ratio_threshold #/ 5\n",
    "    except Exception as e:\n",
    "        return False\n"
   ]
  },
  {
   "cell_type": "code",
   "execution_count": 18,
   "metadata": {
    "ExecuteTime": {
     "end_time": "2019-05-12T06:49:21.177035Z",
     "start_time": "2019-05-12T06:49:15.813409Z"
    }
   },
   "outputs": [
    {
     "name": "stderr",
     "output_type": "stream",
     "text": [
      "/home/ags/miniconda3/lib/python3.7/site-packages/ipykernel_launcher.py:6: RuntimeWarning: invalid value encountered in true_divide\n",
      "  \n"
     ]
    }
   ],
   "source": [
    "def get_keypoints(patches):\n",
    "    keypoints = {} # key = edge, value = a list of keypoints extracted from the patches along that edge across all faces\n",
    "    for edge_index in range(1, len(patches)+1):\n",
    "        edge_patches = patches[\"edge\" + str(edge_index)]\n",
    "        edge_keypoints = []\n",
    "        for patch in edge_patches:\n",
    "            #print(patch.shape)\n",
    "            if patch.shape[0]:\n",
    "                patch_keypoints = patch[np.apply_along_axis(is_keypoint, 1, patch, patch)] # keypoints in `patch`\n",
    "            else:\n",
    "                patch_keypoints = []\n",
    "            edge_keypoints.append(patch_keypoints)\n",
    "        keypoints[\"edge\" + str(edge_index)] = edge_keypoints \n",
    "    return keypoints\n",
    "\n",
    "keypoints = get_keypoints(patches)"
   ]
  },
  {
   "cell_type": "code",
   "execution_count": 19,
   "metadata": {
    "ExecuteTime": {
     "end_time": "2019-05-12T06:49:21.206110Z",
     "start_time": "2019-05-12T06:49:21.179896Z"
    }
   },
   "outputs": [
    {
     "name": "stdout",
     "output_type": "stream",
     "text": [
      "(1435, 3)\n"
     ]
    },
    {
     "data": {
      "application/vnd.jupyter.widget-view+json": {
       "model_id": "a8a8825836104dc8971f6eace94d7ecb",
       "version_major": 2,
       "version_minor": 0
      },
      "text/plain": [
       "VBox(children=(Figure(camera=PerspectiveCamera(fov=46.0, position=(0.0, 0.0, 2.0), quaternion=(0.0, 0.0, 0.0, …"
      ]
     },
     "metadata": {},
     "output_type": "display_data"
    }
   ],
   "source": [
    "# plot keypoints of a face, given the face index\n",
    "face_index = 1\n",
    "face_keypoints = []\n",
    "for edge_index in range(1, len(keypoints)+1):\n",
    "    try:\n",
    "        face_keypoints.extend(keypoints[\"edge\" + str(edge_index)][face_index-1])\n",
    "    except: # not every edge has a patch and hence keypoints, indexing an empty array will give error \n",
    "        pass\n",
    "face_keypoints = np.array(face_keypoints)\n",
    "print(face_keypoints.shape)\n",
    "#print(face_keypoints)\n",
    "points = face_points[\"face\" + str(face_index)]\n",
    "ipv.clear()\n",
    "ipv.scatter(points[:,0], points[:,1], points[:,2], size=1, marker=\"sphere\", color=\"blue\")\n",
    "ipv.scatter(face_keypoints[:, 0], face_keypoints[:,1], face_keypoints[:,2], size=1, marker=\"sphere\", color=\"red\")\n",
    "ipv.show()"
   ]
  },
  {
   "cell_type": "markdown",
   "metadata": {},
   "source": [
    "## Feature Extraction"
   ]
  },
  {
   "cell_type": "code",
   "execution_count": 20,
   "metadata": {
    "ExecuteTime": {
     "end_time": "2019-05-12T06:49:21.213601Z",
     "start_time": "2019-05-12T06:49:21.207796Z"
    }
   },
   "outputs": [],
   "source": [
    "\n",
    "def get_normal(x, y, grid_x, grid_y, grid_z):\n",
    "    '''\n",
    "      3\n",
    "    1   2\n",
    "      4\n",
    "    x, y are coordinates of the point for which the normal has to be calculated\n",
    "    '''\n",
    "    i = (x - grid_x[0, 0]) / (grid_x[1, 0] - grid_x[0, 0])\n",
    "    j = (y - grid_y[0, 0]) / (grid_y[0, 1] - grid_y[0, 0])\n",
    "    i,j = int(round(i)), int(round(j))\n",
    "    if (not 0 <= i < grid_x.shape[0]-1) or (not 0 <= j < grid_y.shape[1]-1):\n",
    "        warnings.warn(\"out of bounds error\")\n",
    "        #pdb.set_trace()\n",
    "        return \"None\"\n",
    "    point1 = (grid_x[i-1, j], grid_y[i-1, j], grid_z[i-1, j])\n",
    "    point2 = (grid_x[i+1, j], grid_y[i+1, j], grid_z[i+1, j])\n",
    "    point3 = (grid_x[i, j-1], grid_y[i, j-1], grid_z[i, j-1])\n",
    "    point4 = (grid_x[i, j+1], grid_y[i, j+1], grid_z[i, j+1])\n",
    "    a1, a2, a3 = [point2[x] - point1[x] for x in range(3)]\n",
    "    b1, b2, b3 = [point3[x] - point4[x] for x in range(3)]\n",
    "    normal = np.array([a3*b2, a1*b3, -a1*b2])\n",
    "    return normal/np.linalg.norm(normal)\n",
    "\n"
   ]
  },
  {
   "cell_type": "code",
   "execution_count": 22,
   "metadata": {
    "ExecuteTime": {
     "end_time": "2019-05-12T06:50:06.395507Z",
     "start_time": "2019-05-12T06:50:06.349763Z"
    }
   },
   "outputs": [
    {
     "name": "stdout",
     "output_type": "stream",
     "text": [
      "124 117 -5.196300000000008 -17.380899999999997\n"
     ]
    },
    {
     "data": {
      "application/vnd.jupyter.widget-view+json": {
       "model_id": "6d9d09cb429b489bb93d3021069f7bd9",
       "version_major": 2,
       "version_minor": 0
      },
      "text/plain": [
       "VBox(children=(Figure(camera=PerspectiveCamera(fov=46.0, position=(0.0, 0.0, 2.0), quaternion=(0.0, 0.0, 0.0, …"
      ]
     },
     "metadata": {},
     "output_type": "display_data"
    }
   ],
   "source": [
    "# test the get_normal function and plot \n",
    "'''If this snippet throws an error, rerun it'''\n",
    "face_id = 8\n",
    "grid_x, grid_y, grid_z = grid_data[\"face\" + str(face_id)]\n",
    "i = np.random.choice(len(grid_x))\n",
    "j = np.random.choice(len(grid_y))\n",
    "x, y = grid_x[i, 0], grid_y[0, j]\n",
    "print(i, j, x, y)\n",
    "uvn = get_normal(x, y, grid_x, grid_y, grid_z)\n",
    "\n",
    "ipv.clear()\n",
    "ipv.plot_mesh(grid_x, grid_y, grid_z, wireframe=False)\n",
    "ipv.quiver(np.array([x, ]), np.array([y,]), np.array([grid_z[i, j]]), np.array([uvn[0]]), np.array([uvn[1]]), np.array([uvn[2]]), color=\"blue\", size=10)\n",
    "ipv.show()"
   ]
  },
  {
   "cell_type": "code",
   "execution_count": null,
   "metadata": {
    "ExecuteTime": {
     "end_time": "2019-05-10T11:46:35.998534Z",
     "start_time": "2019-05-10T11:46:35.928671Z"
    }
   },
   "outputs": [],
   "source": []
  },
  {
   "cell_type": "code",
   "execution_count": null,
   "metadata": {
    "ExecuteTime": {
     "end_time": "2019-05-12T06:49:21.321915Z",
     "start_time": "2019-05-12T06:48:51.987Z"
    }
   },
   "outputs": [],
   "source": [
    "# moments = cv2.moments(patch2[:, :2])\n",
    "# central_moments = [moments[key] for key in moments.keys() if key[:2] == \"mu\"]\n",
    "# central_moments = np.array(central_moments)\n",
    "# central_moments"
   ]
  },
  {
   "cell_type": "code",
   "execution_count": 23,
   "metadata": {
    "ExecuteTime": {
     "end_time": "2019-05-12T06:50:11.690548Z",
     "start_time": "2019-05-12T06:50:11.677663Z"
    }
   },
   "outputs": [],
   "source": [
    "def get_keypoint_features(keypoints, face_index):\n",
    "    feature_list = [] # a list to store extracted features of each keypoint\n",
    "    final_keypoints = [] # remove unwanted keypoints, like the ones on edges etc\n",
    "    for point in keypoints:\n",
    "        point_features = []\n",
    "        x, y, z = point\n",
    "        points = face_points[\"face\" + str(face_index)]\n",
    "        grid_x, grid_y, grid_z = grid_data[\"face\" + str(face_index)]\n",
    "        threshold = 5 * rho\n",
    "        nhood = points[(np.sum(np.square(points-point), axis=1)) < threshold**2]\n",
    "        xy_hu_moments = cv2.HuMoments(cv2.moments(nhood[:, :2])).flatten()\n",
    "        yz_hu_moments = cv2.HuMoments(cv2.moments(nhood[:, 1:])).flatten()\n",
    "        xz_hu_moments = cv2.HuMoments(cv2.moments(nhood[:, ::2])).flatten()\n",
    "        hu_moments = np.concatenate([xy_hu_moments, yz_hu_moments, xz_hu_moments])\n",
    "        #print(hu_moments)\n",
    "        #i = (x - grid_x[0, 0]) / (grid_x[1, 0] - grid_x[0, 0])\n",
    "        #j = (y - grid_y[0, 0]) / (grid_y[0, 1] - grid_y[0, 0])\n",
    "        #i, j = int(round(i)), int(round(j))\n",
    "        #start_i, start_j = i - int(5 * rho / (grid_x[1, 0] - grid_x[0, 0])), j - int(5 * rho / (grid_y[0, 1] - grid_y[0, 0]))\n",
    "        #end_i, end_j = i + int(5 * rho / (grid_x[1, 0] - grid_x[0, 0])), j + int(5 * rho / (grid_y[0, 1] - grid_y[0, 0]))\n",
    "        #nhood = points[start_i: end_i, start_j: end_j] \n",
    "        #nhood_x = grid_x[start_i:end_i, start_j:end_j]\n",
    "        #nhood_y = grid_y[start_i:end_i, start_j:end_j]\n",
    "        #nhood_z = grid_z[start_i:end_i, start_j:end_j]\n",
    "        normal = get_normal(x, y, grid_x, grid_y, grid_z)\n",
    "        if normal == \"None\": # array comparision raises ambiguity error, so None passed as string\n",
    "            continue\n",
    "        final_keypoints.append(point)\n",
    "        point_features.extend(np.array([x, y, z])) # spatial location\n",
    "        point_features.extend(normal)\n",
    "        point_features.extend(hu_moments)\n",
    "        point_features = np.array(point_features)\n",
    "        \n",
    "        feature_list.append(point_features)\n",
    "    final_keypoints = np.array(final_keypoints)\n",
    "    return final_keypoints, feature_list"
   ]
  },
  {
   "cell_type": "code",
   "execution_count": 24,
   "metadata": {
    "ExecuteTime": {
     "end_time": "2019-05-12T06:50:15.827062Z",
     "start_time": "2019-05-12T06:50:13.010560Z"
    }
   },
   "outputs": [
    {
     "name": "stderr",
     "output_type": "stream",
     "text": [
      "/home/ags/miniconda3/lib/python3.7/site-packages/ipykernel_launcher.py:26: FutureWarning: elementwise comparison failed; returning scalar instead, but in the future will perform elementwise comparison\n",
      "/home/ags/miniconda3/lib/python3.7/site-packages/ipykernel_launcher.py:13: UserWarning: out of bounds error\n",
      "  del sys.path[0]\n"
     ]
    }
   ],
   "source": [
    "def get_features(keypoints):\n",
    "    features = {} # key = edge + edge_index, value = list of features for each keypoint across all the faces\n",
    "    for edge_index in range(1, len(keypoints)+1):\n",
    "        edgewise_keypoint_features = [] # store features of keypoints for a given edge_index across all faces\n",
    "        for face_index in range(1, len(file_paths)+1):\n",
    "            try:\n",
    "                edge_keypoints = keypoints[\"edge\" + str(edge_index)][face_index-1]\n",
    "                final_keypoints, keypoint_features = get_keypoint_features(edge_keypoints, face_index)\n",
    "                keypoints[\"edge\" + str(edge_index)][face_index-1] = final_keypoints # update the keypoint, remove unwanted keypoints like those on the edge etc\n",
    "            except: # for no keypoints, no features\n",
    "                keypoint_features = []\n",
    "            edgewise_keypoint_features.append(keypoint_features)\n",
    "        features[\"edge\" + str(edge_index)] = edgewise_keypoint_features\n",
    "    return features\n",
    "\n",
    "features = get_features(keypoints)"
   ]
  },
  {
   "cell_type": "markdown",
   "metadata": {
    "ExecuteTime": {
     "end_time": "2019-05-10T11:46:51.337463Z",
     "start_time": "2019-05-10T11:46:51.334837Z"
    }
   },
   "source": [
    "## Keypoint matching"
   ]
  },
  {
   "cell_type": "code",
   "execution_count": 36,
   "metadata": {
    "ExecuteTime": {
     "end_time": "2019-05-12T07:04:33.270534Z",
     "start_time": "2019-05-12T07:04:33.249507Z"
    }
   },
   "outputs": [],
   "source": [
    "def get_keypoint_under_2rho(keypoints, point):\n",
    "    \"\"\"return the index of the keypoint in `keypoints` which is closest to `point` if that distance is less than 2 * rho, else return None\"\"\"\n",
    "    try:\n",
    "        distance = np.sqrt(np.sum(np.square(keypoints-point), axis=1))\n",
    "        if (distance < 5*rho).any():\n",
    "            min_dist_index = np.argmin(distance)\n",
    "            return min_dist_index\n",
    "    except Exception as e: # keypoints is [], gotta return None\n",
    "        pass\n",
    "    return None\n",
    "\n",
    "def get_matching_keypoints(edge_keypoints, edge_features, edge_index):\n",
    "    # check if a bunch of keypoints across the patches (across all faces) are withing 2*rho\n",
    "    # first get all the keypoints in a list\n",
    "    matching_keypoints_list = []\n",
    "    for face_index1 in range(len(edge_keypoints)): # take a patch along the edge among the faces\n",
    "        for point_index, point in enumerate(edge_keypoints[face_index1]): # take a keypoint in that patch, we have to find corresponding keypoints in each other patche along this edge\n",
    "            matched_keypoint_indices = [] # to store indices of matched keypoints across the patches\n",
    "            for face_index2 in range(len(edge_keypoints)): # find if matching keypoints exist across the patches along that edge across all faces\n",
    "                if face_index2 == face_index1: \n",
    "                    matched_keypoint_indices.append(point_index)\n",
    "                    continue\n",
    "                matched_keypoint = get_keypoint_under_2rho(edge_keypoints[face_index2], point)\n",
    "                if matched_keypoint:\n",
    "                    #if edge_index == 36: pdb.set_trace()I#\n",
    "                    matched_keypoint_indices.append(matched_keypoint)\n",
    "                else: # no keypoint was matched in the above patch (face_index2), gotta start search on other keypoint from face_index1\n",
    "                    break\n",
    "                        \n",
    "            if len(matched_keypoint_indices) == len(edge_keypoints): # there's a corresponding keypoint for each patch across all faces\n",
    "                 matching_keypoints_list.append(matched_keypoint_indices)\n",
    "    if len(matching_keypoints_list) == 0:\n",
    "        return []\n",
    "    # now we have those keypoints which are in vicinity of 2*rho, let's compute euclidean distance of their feature vectors\n",
    "    Kq = 10\n",
    "    final_matched_keypoints = []\n",
    "    for matched_keypoints in matching_keypoints_list: # select first list of matching keypoints\n",
    "        # get the indices, get their corresponding features, compute euclidean distance\n",
    "        try:\n",
    "            features = np.array([edge_features[face_index][idx] for face_index, idx in zip(range(len(edge_features)), matched_keypoints)])\n",
    "            euc_dist_under_kq = lambda feature, features: np.sqrt(np.sum(np.square(features - feature), axis=1)) < Kq\n",
    "            if np.apply_along_axis(euc_dist_under_kq, 1, features, features).all() == True:\n",
    "                # we have got a set of matching keypoints, get their mean coordinates\n",
    "                matched_coords = [edge_keypoints[face_index][idx] for face_index, idx in zip(range(len(edge_features)), matched_keypoints)]\n",
    "                final_matched_keypoints.append(np.mean(matched_coords, axis=0))\n",
    "        except:\n",
    "            pdb.set_trace()\n",
    "    return final_matched_keypoints\n",
    "\n"
   ]
  },
  {
   "cell_type": "code",
   "execution_count": 37,
   "metadata": {
    "ExecuteTime": {
     "end_time": "2019-05-12T07:04:34.529749Z",
     "start_time": "2019-05-12T07:04:34.210848Z"
    }
   },
   "outputs": [
    {
     "name": "stdout",
     "output_type": "stream",
     "text": [
      "[[-2.16530043e+01 -1.58229750e+01 -3.12710263e+01]\n",
      " [-2.14854043e+01 -1.56415500e+01 -3.11643637e+01]\n",
      " [-2.13333955e+01 -1.54482000e+01 -3.10634262e+01]\n",
      " [-2.12003039e+01 -1.52284750e+01 -3.09789887e+01]\n",
      " [-2.00536938e+01 -1.18858375e+01 -3.04073388e+01]\n",
      " [-1.93395625e+01  4.26343263e+01 -2.28629012e+01]\n",
      " [-1.81898650e+01 -8.45348750e+00 -2.91961637e+01]\n",
      " [-1.79109187e+01 -9.90700000e+00 -2.91431013e+01]\n",
      " [-1.78797525e+01 -7.58726250e+00 -2.89468013e+01]\n",
      " [-1.78037275e+01 -8.21022500e+00 -2.90304887e+01]\n",
      " [-1.77955750e+01 -9.22955000e+00 -2.90741012e+01]\n",
      " [-1.76387338e+01 -8.04191250e+00 -2.89153887e+01]\n",
      " [-1.76078013e+01 -8.30296250e+00 -2.88834137e+01]\n",
      " [-1.75533675e+01 -9.61853750e+00 -2.88947513e+01]\n",
      " [-1.74826013e+01 -7.86097500e+00 -2.88061887e+01]\n",
      " [-1.72924800e+01 -1.34312000e+01 -2.83697388e+01]\n",
      " [-1.66123377e+01 -1.45473875e+01 -2.76183137e+01]\n",
      " [-1.65503652e+01 -1.39488375e+01 -2.77077012e+01]\n",
      " [-1.64830139e+01 -1.34451375e+01 -2.77346263e+01]\n",
      " [-1.64560027e+01 -1.43415250e+01 -2.75570262e+01]\n",
      " [-1.61165727e+01 -1.36629125e+01 -2.74169513e+01]\n",
      " [-1.59568977e+01 -1.34660000e+01 -2.73263137e+01]\n",
      " [-1.58485175e+01 -1.42732375e+01 -2.70738012e+01]\n",
      " [-1.58340970e+01 -1.68166500e+01 -2.64703887e+01]\n",
      " [-1.53796937e+01 -1.33123375e+01 -2.69135263e+01]\n",
      " [-1.49755972e+01 -1.31484625e+01 -2.66291513e+01]\n",
      " [-1.41228293e+01 -1.64606500e+01 -2.51958013e+01]\n",
      " [-1.39213345e+01 -1.66011500e+01 -2.51085013e+01]\n",
      " [-1.37483720e+01 -1.64101125e+01 -2.50247013e+01]\n",
      " [-1.37233095e+01 -1.66655000e+01 -2.49326888e+01]\n",
      " [-1.32576271e+01 -6.56150000e-01 -1.28392062e+01]\n",
      " [-1.31862817e+01  5.06175000e-01 -1.26300125e+01]\n",
      " [-1.31850164e+01 -1.58527625e+01 -2.45686762e+01]\n",
      " [-1.31709534e+01 -8.55375000e-01 -1.26791000e+01]\n",
      " [-1.30393109e+01 -7.36612500e-01 -1.24093250e+01]\n",
      " [-1.29146070e+01 -7.23437500e-01 -1.21804875e+01]\n",
      " [-1.28276070e+01 -6.54537500e-01 -1.20117750e+01]\n",
      " [-1.27169345e+01 -5.99675000e-01 -1.17559662e+01]\n",
      " [-1.27104195e+01 -5.43162500e-01 -1.17781875e+01]\n",
      " [-1.26769671e+01 -1.50014625e+01 -2.44955387e+01]\n",
      " [-1.26027982e+01  1.01300000e+00 -1.16510062e+01]\n",
      " [-1.25997470e+01 -4.88300000e-01 -1.15223787e+01]\n",
      " [-1.25647684e+01 -1.52064000e+01 -2.43722762e+01]\n",
      " [-1.24183987e+01  2.68487500e+00 -1.14304225e+01]\n",
      " [-1.23611046e+01 -1.50950500e+01 -2.41677637e+01]\n",
      " [-1.23272934e+01 -1.55582125e+01 -2.40433512e+01]\n",
      " [-1.22632108e+01  2.30375000e-01 -1.07726912e+01]\n",
      " [-1.22221220e+01  8.94125000e-01 -1.06987062e+01]\n",
      " [-1.20724134e+01 -1.53739625e+01 -2.38547012e+01]\n",
      " [-1.19575419e+01 -7.18375000e-02 -1.01651537e+01]\n",
      " [-1.19469107e+01  5.96237500e-01 -1.00454663e+01]\n",
      " [-1.19316982e+01  3.15375000e-01 -1.00087538e+01]\n",
      " [-1.17870669e+01  5.72000000e-01 -9.82457875e+00]\n",
      " [-1.17706354e+01  1.61812500e+00 -9.71004375e+00]\n",
      " [-1.16902020e+01  2.98962500e-01 -9.46993500e+00]\n",
      " [-1.16852657e+01  6.26550000e-01 -9.57561000e+00]\n",
      " [-1.16618057e+01 -2.26312500e-01 -9.52041625e+00]\n",
      " [-1.15965234e+01  2.59823750e+00 -9.46073125e+00]\n",
      " [-1.14121842e+01  1.76416250e+00 -8.86738125e+00]\n",
      " [-1.10719157e+01 -8.98750000e-02 -8.41202250e+00]\n",
      " [-1.09584669e+01 -3.72375000e-02 -8.15618500e+00]\n",
      " [-1.08606544e+01  1.20650000e-01 -7.90383500e+00]\n",
      " [-1.05097600e+01 -1.51521375e+01 -2.28607887e+01]\n",
      " [-1.04082913e+01 -1.57218875e+01 -2.27932137e+01]\n",
      " [-1.01003238e+01 -1.53490375e+01 -2.25710887e+01]\n",
      " [-1.00960887e+01  1.88313750e+00 -6.27485625e+00]\n",
      " [-1.00638888e+01 -1.56055750e+01 -2.25026137e+01]\n",
      " [-9.89903012e+00  1.65135000e+00 -5.91312500e+00]\n",
      " [-9.88658512e+00  2.11907500e+00 -5.89555000e+00]\n",
      " [-9.86316250e+00 -1.44065000e+01 -2.24677262e+01]\n",
      " [-9.82412512e+00 -1.40363375e+01 -2.25165387e+01]\n",
      " [-9.71141263e+00 -1.42220625e+01 -2.23479637e+01]\n",
      " [-9.65703638e+00  2.35756250e+00 -5.62405000e+00]\n",
      " [-9.40153537e+00  2.39613750e+00 -5.20597500e+00]\n",
      " [-9.27830350e+00  1.28160000e+00 -4.87815000e+00]\n",
      " [-9.16611600e+00  1.08081250e+00 -4.74672500e+00]\n",
      " [-9.01755688e+00  1.08240000e+00 -4.52854750e+00]\n",
      " [-9.00140125e+00  2.24578750e+00 -4.56814750e+00]\n",
      " [-8.83725687e+00  1.12706250e+00 -4.35953500e+00]\n",
      " [-8.83514338e+00  3.24712500e-01 -4.39652025e+00]\n",
      " [-8.76531837e+00  7.29600000e-01 -4.30777025e+00]\n",
      " [-8.64439337e+00  6.77850000e-01 -4.14324525e+00]\n",
      " [-8.62431837e+00  8.48012500e-01 -4.09803750e+00]\n",
      " [-8.16864325e+00  4.60637500e-01 -3.56217500e+00]\n",
      " [-8.01737200e+00  2.56062500e-01 -3.46561250e+00]\n",
      " [-8.01480450e+00  3.82550000e-01 -3.40081250e+00]\n",
      " [-8.00414388e+00  3.30396175e+01 -2.16478387e+01]\n",
      " [-7.84362950e+00  1.53237500e-01 -3.31075000e+00]\n",
      " [-7.81156950e+00 -3.12062500e-01 -3.39971250e+00]\n",
      " [-7.36491375e+00  3.42353869e+01 -2.03437387e+01]\n",
      " [-7.31065450e+00 -8.13375000e-02 -2.90726250e+00]\n",
      " [-4.98918000e+00 -6.03787500e-01 -1.50947625e+00]\n",
      " [-8.23233750e-01 -5.76346250e+00 -2.49739625e+00]]\n"
     ]
    }
   ],
   "source": [
    "# those keypoints which are in vicinity of 2*rho are considered for matching\n",
    "# matching is done using constrained nearest neighbour\n",
    "# choose an edge, select a keypoint, find out keypoints on corresponding patches on other faces within a vicinity of 2*rho, \n",
    "# get euclidean distance in features among all possible pair wise combinations, if the distances come out to be less than Kp are added to the global set of correspondences\n",
    "def keypoint_matching_process(keypoints, features):\n",
    "    final_mean_keypoints = []\n",
    "    for edge_index in range(1, len(keypoints)):\n",
    "        edge_keypoints = keypoints[\"edge\" + str(edge_index)]\n",
    "        edge_features = features[\"edge\" + str(edge_index)]\n",
    "        matched_keypoints = get_matching_keypoints(edge_keypoints, edge_features, edge_index)\n",
    "        if len(matched_keypoints) == 0:\n",
    "            continue\n",
    "        #print(matched_keypoints)\n",
    "        final_mean_keypoints.extend(matched_keypoints)\n",
    "    #final_mean_keypoints = list(set(final_mean_keypoints))\n",
    "\n",
    "    final_mean_keypoints = np.array(final_mean_keypoints)\n",
    "    final_mean_keypoints = np.unique(final_mean_keypoints, axis=0)\n",
    "    return final_mean_keypoints\n",
    "\n",
    "final_mean_keypoints = keypoint_matching_process(keypoints, features)\n",
    "#print(\"Iteration completed\")\n",
    "#print(len(final_mean_keypoints), \"new keypoints found\")\n",
    "print(final_mean_keypoints)"
   ]
  },
  {
   "cell_type": "code",
   "execution_count": 38,
   "metadata": {
    "ExecuteTime": {
     "end_time": "2019-05-12T07:04:41.634493Z",
     "start_time": "2019-05-12T07:04:41.630757Z"
    }
   },
   "outputs": [],
   "source": [
    "updated_hull = np.concatenate((hull, final_mean_keypoints), axis=0)"
   ]
  },
  {
   "cell_type": "code",
   "execution_count": 39,
   "metadata": {
    "ExecuteTime": {
     "end_time": "2019-05-12T07:04:42.365290Z",
     "start_time": "2019-05-12T07:04:42.131180Z"
    }
   },
   "outputs": [
    {
     "data": {
      "image/png": "[encoded data removed]",
      "text/plain": [
       "<Figure size 576x576 with 1 Axes>"
      ]
     },
     "metadata": {
      "needs_background": "light"
     },
     "output_type": "display_data"
    }
   ],
   "source": [
    "first_face_index = 7\n",
    "second_face_index = 4\n",
    "points1 = face_points[\"face\" + str(first_face_index)]\n",
    "points2 = face_points[\"face\" + str(second_face_index)]\n",
    "plt.figure(figsize=(8,8))\n",
    "plt.scatter(points1[:,0], points1[:,1], color=\"red\")\n",
    "plt.scatter(points2[:,0], points2[:,1], color=\"orange\")\n",
    "#plt.scatter(updated_hull[:,0], updated_hull[:,1])\n",
    "\n",
    "plt.scatter(hull[:,0], hull[:,1])\n",
    "plt.scatter(final_mean_keypoints[:, 0], final_mean_keypoints[:, 1], color=\"yellow\")\n",
    "maxind = np.argmax(points1[:,2])\n",
    "nosex = points1[maxind,0]\n",
    "nosey = points1[maxind,1]\n",
    "nosez = points1[maxind,2]\n",
    "plt.plot(nosex,nosey,\"b\")\n",
    "plt.show()"
   ]
  },
  {
   "cell_type": "code",
   "execution_count": 40,
   "metadata": {
    "ExecuteTime": {
     "end_time": "2019-05-12T07:04:45.479579Z",
     "start_time": "2019-05-12T07:04:45.450157Z"
    }
   },
   "outputs": [
    {
     "data": {
      "application/vnd.jupyter.widget-view+json": {
       "model_id": "be40adfdcac44f7faff0c3065e3fe8fd",
       "version_major": 2,
       "version_minor": 0
      },
      "text/plain": [
       "VBox(children=(Figure(camera=PerspectiveCamera(fov=46.0, position=(0.0, 0.0, 2.0), quaternion=(0.0, 0.0, 0.0, …"
      ]
     },
     "metadata": {},
     "output_type": "display_data"
    }
   ],
   "source": [
    "ipv.clear()\n",
    "ipv.scatter(points[:,0], points[:,1], points[:,2], size=1, marker=\"sphere\", color=\"blue\")\n",
    "ipv.scatter(final_mean_keypoints[:, 0], final_mean_keypoints[:,1], final_mean_keypoints[:,2], size=2, marker=\"sphere\", color=\"red\")\n",
    "ipv.show()"
   ]
  },
  {
   "cell_type": "code",
   "execution_count": 41,
   "metadata": {
    "ExecuteTime": {
     "end_time": "2019-05-12T07:04:49.684034Z",
     "start_time": "2019-05-12T07:04:49.625507Z"
    }
   },
   "outputs": [
    {
     "data": {
      "application/vnd.jupyter.widget-view+json": {
       "model_id": "ba364b02fbe54baf95c824d280cf70a6",
       "version_major": 2,
       "version_minor": 0
      },
      "text/plain": [
       "VBox(children=(Figure(camera=PerspectiveCamera(fov=46.0, position=(0.0, 0.0, 2.0), quaternion=(0.0, 0.0, 0.0, …"
      ]
     },
     "metadata": {},
     "output_type": "display_data"
    }
   ],
   "source": [
    "updated_tri_hull = triangulation(updated_hull)\n",
    "ipv.figure()\n",
    "mesh = ipv.plot_trisurf(updated_hull[:,0], updated_hull[:,1], updated_hull[:,2], triangles=updated_tri_hull.simplices, color='blue')\n",
    "ipv.scatter(updated_hull[:,0], updated_hull[:,1], updated_hull[:,2], marker='sphere', color='red')\n",
    "ipv.show()"
   ]
  },
  {
   "cell_type": "code",
   "execution_count": 31,
   "metadata": {
    "ExecuteTime": {
     "end_time": "2019-05-12T06:51:26.306280Z",
     "start_time": "2019-05-12T06:50:49.969712Z"
    }
   },
   "outputs": [],
   "source": [
    "updated_patches = get_patches(updated_hull, updated_tri_hull.simplices)"
   ]
  },
  {
   "cell_type": "code",
   "execution_count": 42,
   "metadata": {
    "ExecuteTime": {
     "end_time": "2019-05-12T07:04:54.860903Z",
     "start_time": "2019-05-12T07:04:54.857442Z"
    }
   },
   "outputs": [],
   "source": [
    "num_iterations = 10\n",
    "correspondence_set = hull"
   ]
  },
  {
   "cell_type": "code",
   "execution_count": null,
   "metadata": {
    "ExecuteTime": {
     "start_time": "2019-05-12T07:04:55.521Z"
    }
   },
   "outputs": [
    {
     "name": "stdout",
     "output_type": "stream",
     "text": [
      "Starting iteration:  0\n",
      "Starting Delaunay triangulation............done\n",
      "starting geodesic patch extraction............Done\n",
      "Starting keypoint extraction............"
     ]
    },
    {
     "name": "stderr",
     "output_type": "stream",
     "text": [
      "/home/ags/miniconda3/lib/python3.7/site-packages/ipykernel_launcher.py:6: RuntimeWarning: invalid value encountered in true_divide\n",
      "  \n"
     ]
    },
    {
     "name": "stdout",
     "output_type": "stream",
     "text": [
      "Done\n",
      "Starting feature extraction............"
     ]
    },
    {
     "name": "stderr",
     "output_type": "stream",
     "text": [
      "/home/ags/miniconda3/lib/python3.7/site-packages/ipykernel_launcher.py:26: FutureWarning: elementwise comparison failed; returning scalar instead, but in the future will perform elementwise comparison\n"
     ]
    },
    {
     "name": "stdout",
     "output_type": "stream",
     "text": [
      "Done\n",
      "Starting keypoint matching............"
     ]
    },
    {
     "name": "stderr",
     "output_type": "stream",
     "text": [
      "/home/ags/miniconda3/lib/python3.7/site-packages/ipykernel_launcher.py:13: UserWarning: out of bounds error\n",
      "  del sys.path[0]\n"
     ]
    },
    {
     "name": "stdout",
     "output_type": "stream",
     "text": [
      "Done\n",
      "[[-2.25243168e+01  4.47619762e+01 -2.04640512e+01]\n",
      " [-2.19045730e+01 -1.60614500e+01 -3.14715513e+01]\n",
      " [-2.17535517e+01 -1.58866875e+01 -3.13406013e+01]\n",
      " [-2.13008514e+01 -1.52921875e+01 -3.10485637e+01]\n",
      " [-2.12449655e+01  4.42699007e+01 -2.09705137e+01]\n",
      " [-2.09862262e+01  4.41509632e+01 -2.10835762e+01]\n",
      " [-1.99954063e+01 -1.31539125e+01 -3.03775512e+01]\n",
      " [-1.99586489e+01 -1.38900000e+01 -3.02537387e+01]\n",
      " [-1.98953838e+01 -1.46191125e+01 -3.01168137e+01]\n",
      " [-1.98130738e+01 -1.36495375e+01 -3.01760513e+01]\n",
      " [-1.97602675e+01 -1.31191125e+01 -3.02540888e+01]\n",
      " [-1.97144213e+01 -1.44392500e+01 -3.00288012e+01]\n",
      " [-1.96455525e+01 -1.32091125e+01 -3.01491387e+01]\n",
      " [-1.96018625e+01 -1.48152625e+01 -2.98901262e+01]\n",
      " [-1.93430762e+01 -1.43925500e+01 -2.97163762e+01]\n",
      " [-1.91554138e+01 -1.40635875e+01 -2.96736012e+01]\n",
      " [-1.89581450e+01 -1.41226750e+01 -2.95063637e+01]\n",
      " [-1.87868938e+01 -1.62490250e+01 -2.90071637e+01]\n",
      " [-1.87686425e+01 -1.21264750e+01 -2.96081012e+01]\n",
      " [-1.86698875e+01 -1.02618000e+01 -2.95546888e+01]\n",
      " [-1.86688637e+01 -1.07719625e+01 -2.95282638e+01]\n",
      " [-1.85019687e+01 -1.00813500e+01 -2.94625512e+01]\n",
      " [-1.84495925e+01 -1.17601625e+01 -2.93961888e+01]\n",
      " [-1.83803537e+01 -1.20228125e+01 -2.93406513e+01]\n",
      " [-1.82921475e+01 -1.01399500e+01 -2.93147763e+01]\n",
      " [-1.82797175e+01 -1.15794875e+01 -2.93078387e+01]\n",
      " [-1.82432463e+01 -1.38004875e+01 -2.89984387e+01]\n",
      " [-1.82104788e+01 -1.18421375e+01 -2.92523012e+01]\n",
      " [-1.80888150e+01 -8.27853750e+00 -2.91240387e+01]\n",
      " [-1.79238212e+01 -8.11022500e+00 -2.90089387e+01]\n",
      " [-1.78907750e+01 -9.92873750e+00 -2.91200763e+01]\n",
      " [-1.78786625e+01 -9.43926250e+00 -2.91111512e+01]\n",
      " [-1.78717125e+01 -1.31752125e+01 -2.88337638e+01]\n",
      " [-1.77222837e+01 -1.13187125e+01 -2.89444513e+01]\n",
      " [-1.76752862e+01 -1.20413750e+01 -2.87874013e+01]\n",
      " [-1.76283000e+01 -9.05082500e+00 -2.89651512e+01]\n",
      " [-1.75747825e+01 -9.56216250e+00 -2.89201387e+01]\n",
      " [-1.75035112e+01 -1.33947750e+01 -2.85247888e+01]\n",
      " [-1.73860925e+01 -9.43981250e+00 -2.87858013e+01]\n",
      " [-1.73449285e+01 -1.02873375e+01 -2.87604387e+01]\n",
      " [-1.73128763e+01 -9.19678750e+00 -2.87200887e+01]\n",
      " [-1.72960800e+01 -9.00666250e+00 -2.87168012e+01]\n",
      " [-1.72921400e+01 -1.29343875e+01 -2.83990763e+01]\n",
      " [-1.71852725e+01 -9.51485000e+00 -2.86324013e+01]\n",
      " [-1.71066572e+01 -1.06821250e+01 -2.85693888e+01]\n",
      " [-1.70811087e+01 -1.29708125e+01 -2.82440263e+01]\n",
      " [-1.70594910e+01 -1.24848250e+01 -2.82792637e+01]\n",
      " [-1.69954460e+01 -1.27281125e+01 -2.82007387e+01]\n",
      " [-1.69732950e+01 -8.55833750e+00 -2.84591887e+01]\n",
      " [-1.69155067e+01 -9.74048750e+00 -2.84712263e+01]\n",
      " [-1.68947685e+01 -1.17807000e+01 -2.82638137e+01]\n",
      " [-1.68195817e+01 -9.28631250e+00 -2.83976637e+01]\n",
      " [-1.68138880e+01 -7.70320000e+00 -2.82272387e+01]\n",
      " [-1.68120700e+01 -8.39086250e+00 -2.83379012e+01]\n",
      " [-1.66680935e+01 -1.17067500e+01 -2.81371887e+01]\n",
      " [-1.64962148e+01 -1.12860375e+01 -2.80929137e+01]\n",
      " [-1.63344275e+01 -8.77176250e+00 -2.80212262e+01]\n",
      " [-1.63196060e+01 -1.15938625e+01 -2.78793388e+01]\n",
      " [-1.63058280e+01 -8.99675000e+00 -2.80506012e+01]\n",
      " [-1.61985980e+01 -9.50388750e+00 -2.79646262e+01]\n",
      " [-1.61477272e+01 -1.11731500e+01 -2.78350637e+01]\n",
      " [-1.60800535e+01 -1.04441500e+01 -2.78394888e+01]\n",
      " [-1.60264392e+01 -9.64170000e+00 -2.78210887e+01]\n",
      " [-1.60205443e+01 -9.37880000e+00 -2.78174762e+01]\n",
      " [-1.59716768e+01 -9.89290000e+00 -2.77645137e+01]\n",
      " [-1.59249060e+01 -1.12036375e+01 -2.76854262e+01]\n",
      " [-1.58980245e+01 -7.88626250e+00 -2.77063887e+01]\n",
      " [-1.58059392e+01 -1.00771125e+01 -2.76575012e+01]\n",
      " [-1.57052220e+01 -7.96013750e+00 -2.75445513e+01]\n",
      " [-1.56793750e+01 -1.02831250e+01 -2.75507887e+01]\n",
      " [-1.56676625e+01 -1.19743625e+01 -2.73612512e+01]\n",
      " [-1.55972637e+01 -1.00402625e+01 -2.75033012e+01]\n",
      " [-1.55745305e+01 -1.04104000e+01 -2.74479387e+01]\n",
      " [-1.55242275e+01 -1.10426125e+01 -2.73967262e+01]\n",
      " [-1.54654749e+01 -8.31825000e+00 -2.73645388e+01]\n",
      " [-1.54541137e+01 -9.84546250e+00 -2.74056387e+01]\n",
      " [-1.54479663e+01 -1.06164125e+01 -2.73412262e+01]\n",
      " [-1.53679305e+01 -1.03288875e+01 -2.72993762e+01]\n",
      " [-1.53058709e+01 -1.16454125e+01 -2.71578512e+01]\n",
      " [-1.52808134e+01 -1.19079125e+01 -2.70877887e+01]\n",
      " [-1.51868021e+01 -1.09527125e+01 -2.71181637e+01]\n",
      " [-1.51144221e+01 -1.17188625e+01 -2.69914512e+01]\n",
      " [-1.50893646e+01 -1.19813625e+01 -2.69213887e+01]\n",
      " [-1.50704773e+01 -1.21401750e+01 -2.68851637e+01]\n",
      " [-1.50454198e+01 -1.24026750e+01 -2.68151012e+01]\n",
      " [-1.49802021e+01 -1.08712000e+01 -2.69696012e+01]\n",
      " [-1.47905709e+01 -1.16078250e+01 -2.67106637e+01]\n",
      " [-1.47783271e+01 -1.26080125e+01 -2.65787887e+01]\n",
      " [-1.47411959e+01 -1.03777875e+01 -2.68229512e+01]\n",
      " [-1.46855621e+01 -1.21839750e+01 -2.65449512e+01]\n",
      " [-1.46777459e+01 -1.04910750e+01 -2.67720513e+01]\n",
      " [-1.45144559e+01 -1.07651250e+01 -2.66116512e+01]\n",
      " [-1.43078559e+01 -1.06836125e+01 -2.64630888e+01]\n",
      " [-1.42454066e+01 -9.91938750e+00 -2.64518137e+01]\n",
      " [-1.42188796e+01 -1.01781750e+01 -2.64105512e+01]\n",
      " [-1.41270821e+01 -1.07550250e+01 -2.62837762e+01]\n",
      " [-1.41258321e+01 -1.19074875e+01 -2.61762137e+01]\n",
      " [-1.39777846e+01 -1.12334375e+01 -2.60541137e+01]\n",
      " [-1.39200175e+01 -9.82451250e+00 -2.61587387e+01]\n",
      " [-1.39141696e+01 -1.18287750e+01 -2.60327137e+01]\n",
      " [-1.39102146e+01 -1.11797750e+01 -2.60914637e+01]\n",
      " [-1.39054362e+01 -1.25107375e+01 -2.59257387e+01]\n",
      " [-1.39001546e+01 -1.14787375e+01 -2.60027512e+01]\n",
      " [-1.38356059e+01 -1.05518500e+01 -2.60825012e+01]\n",
      " [-1.38036437e+01 -1.18146625e+01 -2.58788137e+01]\n",
      " [-1.37087501e+01 -1.06385000e+00 -1.36198187e+01]\n",
      " [-1.36956437e+01 -1.28402000e+01 -2.56714012e+01]\n",
      " [-1.36884921e+01 -1.14000250e+01 -2.58592512e+01]\n",
      " [-1.35919812e+01 -1.17359500e+01 -2.57353137e+01]\n",
      " [-1.35162419e+01 -1.24613750e+01 -2.56351887e+01]\n",
      " [-1.35031412e+01 -1.14909000e+01 -2.56942012e+01]\n",
      " [-1.34633001e+01 -8.74400000e-01 -1.31771500e+01]\n",
      " [-1.34171468e+01 -5.03625000e-02 -1.29225625e+01]\n",
      " [-1.33361275e+01 -1.13075250e+01 -2.55816637e+01]\n",
      " [-1.33290687e+01 -1.25779125e+01 -2.54124513e+01]\n",
      " [-1.30393109e+01 -7.36612500e-01 -1.24093250e+01]\n",
      " [-1.29578119e+01 -1.21447375e+01 -2.52081013e+01]\n",
      " [-1.29211831e+01 -1.24156125e+01 -2.51330887e+01]\n",
      " [-1.29146070e+01 -7.23437500e-01 -1.21804875e+01]\n",
      " [-1.29024881e+01 -1.17573000e+01 -2.52226013e+01]\n",
      " [-1.28551594e+01 -1.26554750e+01 -2.50600387e+01]\n",
      " [-1.28276070e+01 -6.54537500e-01 -1.20117750e+01]\n",
      " [-1.28157544e+01 -1.12960375e+01 -2.51671637e+01]\n",
      " [-1.28143972e+01 -1.10326500e+01 -2.51520012e+01]\n",
      " [-1.27749456e+01 -1.22186750e+01 -2.50176512e+01]\n",
      " [-1.27718181e+01 -1.15711625e+01 -2.50855012e+01]\n",
      " [-1.27545085e+01 -1.05923375e+01 -2.50885512e+01]\n",
      " [-1.27169345e+01 -5.99675000e-01 -1.17559662e+01]\n",
      " [-1.27089219e+01 -1.24585375e+01 -2.49446012e+01]\n",
      " [-1.25686544e+01 -1.22563875e+01 -2.48722387e+01]\n",
      " [-1.24831381e+01 -1.19395875e+01 -2.46670137e+01]\n",
      " [-1.24379844e+01 -1.20702500e+01 -2.47351387e+01]\n",
      " [-1.23847906e+01 -1.23471125e+01 -2.47042637e+01]\n",
      " [-1.22632108e+01  2.30375000e-01 -1.07726912e+01]\n",
      " [-1.22617231e+01 -1.15079625e+01 -2.44811763e+01]\n",
      " [-1.21468831e+01 -1.23296000e+01 -2.43841262e+01]\n",
      " [-1.20729321e+01 -1.35979375e+01 -2.42643388e+01]\n",
      " [-1.19823846e+01 -1.33530375e+01 -2.42238387e+01]\n",
      " [-1.19575419e+01 -7.18375000e-02 -1.01651537e+01]\n",
      " [-1.19535450e+01  2.78378750e+00 -1.04331812e+01]\n",
      " [-1.19322311e+01  7.24075000e-01 -9.83988125e+00]\n",
      " [-1.19316982e+01  3.15375000e-01 -1.00087538e+01]\n",
      " [-1.19048975e+01 -1.18555875e+01 -2.43233637e+01]\n",
      " [-1.18519759e+01  2.68407500e+00 -1.00952937e+01]\n",
      " [-1.17719856e+01 -1.30497875e+01 -2.40496012e+01]\n",
      " [-1.16931067e+01  2.47958750e+00 -9.78825625e+00]\n",
      " [-1.16801299e+01  4.77062500e-01 -9.47803500e+00]\n",
      " [-1.16059675e+01 -1.19824750e+01 -2.39616262e+01]\n",
      " [-1.15897020e+01  5.17100000e-01 -9.33132250e+00]\n",
      " [-1.15615942e+01  5.20475000e-01 -9.22873500e+00]\n",
      " [-1.15325204e+01  2.34495000e+00 -9.29743125e+00]\n",
      " [-1.15287579e+01  1.81945000e+00 -9.15826875e+00]\n",
      " [-1.15044125e+01 -1.35734125e+01 -2.37913137e+01]\n",
      " [-1.14847668e+01  2.57003750e+00 -9.19953125e+00]\n",
      " [-1.14736704e+01  1.63448750e+00 -8.98394375e+00]\n",
      " [-1.13775217e+01  1.51520000e+00 -8.75738125e+00]\n",
      " [-1.13517029e+01  5.91037500e-01 -8.78593500e+00]\n",
      " [-1.13366721e+01  3.32550000e+00 -9.19706875e+00]\n",
      " [-1.13319204e+01  2.23536250e+00 -8.81745625e+00]\n",
      " [-1.13074317e+01  6.78712500e-01 -8.71368500e+00]\n",
      " [-1.13070884e+01  3.77975000e+00 -9.35658125e+00]\n",
      " [-1.11953318e+01  3.75155000e+00 -9.09538125e+00]\n",
      " [-1.11424754e+01  2.36703750e+00 -8.42078125e+00]\n",
      " [-1.11351667e+01  9.57112500e-01 -8.25242250e+00]\n",
      " [-1.11242531e+01  8.69250000e-01 -8.33948500e+00]\n",
      " [-1.10755379e+01  2.23177500e+00 -8.17066875e+00]\n",
      " [-1.10747567e+01  1.96828750e+00 -8.17244375e+00]\n",
      " [-1.10546156e+01  8.20500000e-02 -8.38274750e+00]\n",
      " [-1.10281044e+01  7.49962500e-01 -8.11292250e+00]\n",
      " [-1.09786004e+01  1.87796250e+00 -7.92980625e+00]\n",
      " [-1.09714919e+01  2.67300000e-01 -8.09494750e+00]\n",
      " [-1.09293254e+01  1.62728750e+00 -7.80674375e+00]\n",
      " [-1.09171092e+01  2.46607500e+00 -7.83975625e+00]\n",
      " [-1.08736544e+01  4.08575000e-01 -7.87399750e+00]\n",
      " [-1.08433717e+01  3.39366250e+00 -8.06933125e+00]\n",
      " [-1.08412500e+01  2.28953750e+00 -7.69065625e+00]\n",
      " [-1.08159855e+01  3.61745000e+00 -8.13881875e+00]\n",
      " [-1.08090155e+01  3.04212500e+00 -7.79828125e+00]\n",
      " [-1.07999942e+01  3.16645000e+00 -7.92850625e+00]\n",
      " [-1.07919750e+01  2.03886250e+00 -7.56759375e+00]\n",
      " [-1.07656380e+01  2.81491250e+00 -7.65745625e+00]\n",
      " [-1.07450937e+01  2.19921250e+00 -7.44801875e+00]\n",
      " [-1.07401887e+01  2.16508750e+00 -7.46724375e+00]\n",
      " [-1.07232655e+01  3.54527500e+00 -7.88804375e+00]\n",
      " [-1.06950375e+01  1.68505000e+00 -7.32673125e+00]\n",
      " [-1.06156512e+01  1.72821250e+00 -7.17783125e+00]\n",
      " [-1.06129812e+01  2.18472500e+00 -7.19683125e+00]\n",
      " [-1.05949355e+01  3.55637500e+00 -7.62117250e+00]\n",
      " [-1.05119200e+01  2.06027500e+00 -6.97341875e+00]\n",
      " [-1.04959825e+01  2.14833750e+00 -6.99099375e+00]\n",
      " [-1.04765950e+01  1.52708750e+00 -6.98256875e+00]\n",
      " [-1.04467075e+01  1.89766250e+00 -6.86793125e+00]\n",
      " [-1.04222575e+01  2.32525000e+00 -6.91576875e+00]\n",
      " [-1.03605106e+01  6.77762500e-01 -6.75424000e+00]\n",
      " [-1.03493837e+01  1.68580000e+00 -6.71865250e+00]\n",
      " [-1.03434669e+01  6.77225000e-01 -6.80691500e+00]\n",
      " [-1.03018675e+01  3.59647500e+00 -7.08634750e+00]\n",
      " [-1.02736606e+01  5.41937500e-01 -6.54130250e+00]\n",
      " [-1.02487981e+01  2.80375000e-01 -6.56535250e+00]\n",
      " [-1.02372039e+01  2.13360000e+00 -6.48862500e+00]\n",
      " [-1.02041025e+01  3.75617500e+00 -6.95314750e+00]\n",
      " [-1.01472612e+01  5.98375000e-01 -6.29547750e+00]\n",
      " [-1.01302175e+01  5.97837500e-01 -6.34815250e+00]\n",
      " [-1.01223988e+01  3.36812500e-01 -6.31952750e+00]\n",
      " [-1.01113675e+01  3.39058750e+00 -6.65919750e+00]\n",
      " [-1.01005664e+01  2.26407500e+00 -6.28296250e+00]\n",
      " [-1.00447489e+01  1.59462500e+00 -6.13662500e+00]\n",
      " [-1.00149050e+01  3.47992500e+00 -6.45514750e+00]\n",
      " [-9.93496638e+00  2.31087500e+00 -6.08071250e+00]\n",
      " [-9.88766262e+00  2.22113750e+00 -5.93818750e+00]\n",
      " [-9.82263638e+00  2.31076250e+00 -5.82630000e+00]\n",
      " [-9.72334750e+00  5.51587500e-01 -5.68034000e+00]\n",
      " [-9.65703638e+00  2.35756250e+00 -5.62405000e+00]\n",
      " [-9.61601837e+00  6.83925000e-01 -5.46761500e+00]\n",
      " [-9.60973262e+00  2.26782500e+00 -5.48152500e+00]\n",
      " [-9.57824512e+00  2.32740000e+00 -5.44280000e+00]\n",
      " [-9.47754100e+00  2.13860000e+00 -5.29285000e+00]\n",
      " [-9.46371100e+00  9.01462500e-01 -5.15868750e+00]\n",
      " [-9.43622662e+00  2.46356250e+00 -5.24336250e+00]\n",
      " [-9.40153537e+00  2.39613750e+00 -5.20597500e+00]\n",
      " [-9.37200087e+00  6.64387500e-01 -5.05035775e+00]\n",
      " [-9.36796413e+00  2.26183750e+00 -5.07945000e+00]\n",
      " [-9.34351587e+00  8.14000000e-01 -5.06522750e+00]\n",
      " [-9.31417350e+00  1.02561250e+00 -4.96332500e+00]\n",
      " [-9.22246338e+00  7.88537500e-01 -4.85499525e+00]\n",
      " [-9.18659338e+00  1.04452500e+00 -4.76982025e+00]\n",
      " [-9.16611600e+00  1.08081250e+00 -4.74672500e+00]\n",
      " [-9.10115125e+00  2.38793750e+00 -4.77078500e+00]\n",
      " [-9.07440588e+00  8.43737500e-01 -4.63839525e+00]\n",
      " [-9.00140125e+00  2.24578750e+00 -4.56814750e+00]\n",
      " [-8.98581600e+00  1.12547500e+00 -4.57771250e+00]\n",
      " [-8.95606838e+00  3.76462500e-01 -4.56104525e+00]\n",
      " [-8.93620158e+00  7.12125000e-02 -4.56567162e+00]\n",
      " [-8.89410587e+00  8.88400000e-01 -4.46938275e+00]\n",
      " [-8.86489100e+00  1.07372500e+00 -4.41318750e+00]\n",
      " [-8.83725687e+00  1.12706250e+00 -4.35953500e+00]\n",
      " [-8.83514338e+00  3.24712500e-01 -4.39652025e+00]\n",
      " [-8.77318087e+00  8.36650000e-01 -4.30485775e+00]\n",
      " [-8.62431837e+00  8.48012500e-01 -4.09803750e+00]\n",
      " [-8.50825575e+00  9.61375000e-02 -4.02227025e+00]\n",
      " [-8.47047962e+00  7.69925000e-01 -3.93667500e+00]\n",
      " [-8.17159825e+00  2.38325000e-01 -3.67968375e+00]\n",
      " [-8.01480450e+00  3.82550000e-01 -3.40081250e+00]\n",
      " [-7.86353325e+00  1.77975000e-01 -3.30425000e+00]\n",
      " [-7.71797075e+00 -1.68825000e-01 -3.22665000e+00]\n",
      " [-5.30515250e+00  1.52250000e-02 -1.54495375e+00]\n",
      " [-4.96628500e+00 -9.92712500e-01 -1.52557625e+00]\n",
      " [-4.75142500e+00 -1.04263750e+00 -1.40175125e+00]\n",
      " [-4.65953125e+00 -1.25086250e+00 -1.34731375e+00]\n",
      " [-4.34489375e+00 -9.12487500e-01 -1.20332625e+00]\n",
      " [-4.26280625e+00 -1.24972500e+00 -1.17523875e+00]\n",
      " [-3.97749375e+00 -6.91687500e-01 -1.01890125e+00]\n",
      " [-1.52311875e+00 -6.52463750e+00 -3.31127000e+00]\n",
      " [-1.48078125e+00 -6.14738750e+00 -2.96763250e+00]\n",
      " [-1.47339375e+00 -7.52868750e+00 -4.58677000e+00]\n",
      " [-1.41029375e+00 -6.38648750e+00 -3.11413250e+00]\n",
      " [-1.36983250e+00 -4.11887500e+00 -1.36464125e+00]\n",
      " [-1.35390625e+00 -6.45292500e+00 -3.19544500e+00]\n",
      " [-1.27391875e+00 -7.56612500e+00 -4.57233250e+00]\n",
      " [-1.14671875e+00 -6.29743750e+00 -2.96024500e+00]\n",
      " [-1.10469375e+00 -6.35417500e+00 -3.09283250e+00]\n",
      " [-1.06224250e+00 -4.71173750e+00 -1.69602125e+00]\n",
      " [-1.01504375e+00 -7.51408750e+00 -4.38182000e+00]\n",
      " [-9.76856250e-01 -6.09238750e+00 -2.79917000e+00]\n",
      " [-9.01958750e-01 -6.14823750e+00 -2.78260875e+00]\n",
      " [-8.82563750e-01 -8.05168750e+00 -5.03369302e+00]\n",
      " [-8.53438750e-01 -6.89226250e+00 -3.57099302e+00]\n",
      " [-7.41813750e-01 -7.83480000e+00 -4.70100552e+00]\n",
      " [-7.32096250e-01 -5.94318750e+00 -2.62153375e+00]\n",
      " [-6.81492500e-01 -4.81031250e+00 -1.67413375e+00]\n",
      " [-6.49733750e-01 -5.74538750e+00 -2.39687125e+00]\n",
      " [-6.43380000e-01 -5.01363750e+00 -1.79784625e+00]\n",
      " [-6.17033750e-01 -6.03675000e+00 -2.65552125e+00]\n",
      " [-6.02717500e-01 -5.21520000e+00 -1.93765875e+00]\n",
      " [-5.96358750e-01 -6.11592500e+00 -2.76130875e+00]\n",
      " [-5.51092500e-01 -6.22355000e+00 -2.83413500e+00]\n",
      " [-5.42005000e-01 -6.38821250e+00 -3.03456000e+00]\n",
      " [-5.13996250e-01 -5.91812500e+00 -2.53664625e+00]\n",
      " [-4.00963750e-01 -7.68097500e+00 -4.50544302e+00]\n",
      " [-3.75892500e-01 -5.67292500e+00 -2.33795875e+00]\n",
      " [-2.45492500e-01 -6.19123750e+00 -2.81283500e+00]\n",
      " [-8.96175000e-02 -5.61890000e+00 -2.27707125e+00]\n",
      " [-5.93425000e-02 -7.86990000e+00 -4.73393052e+00]\n",
      " [ 4.40062500e-02 -7.53076250e+00 -4.24409302e+00]\n",
      " [ 4.61200000e-02 -5.79163750e+00 -2.41684625e+00]\n",
      " [ 9.40825000e-02 -5.69217500e+00 -2.37732125e+00]\n",
      " [ 2.22081250e-01 -7.32625000e+00 -4.04023052e+00]\n",
      " [ 2.22115000e-01 -7.33527500e+00 -4.03751000e+00]\n",
      " [ 2.29820000e-01 -5.86491250e+00 -2.51709625e+00]\n",
      " [ 3.07282500e-01 -7.17930000e+00 -4.02022063e+00]\n",
      " [ 3.46915000e-01 -6.95943750e+00 -3.65901000e+00]\n",
      " [ 3.81502500e-01 -6.38568750e+00 -3.05294750e+00]\n",
      " [ 4.85357500e-01 -6.97478750e+00 -3.81635812e+00]\n",
      " [ 1.62125750e+00 -7.69795000e+00 -5.03580000e+00]]\n",
      "Total new correspondences found:  294\n",
      "Starting iteration:  1\n"
     ]
    },
    {
     "name": "stdout",
     "output_type": "stream",
     "text": [
      "Starting Delaunay triangulation............done\n",
      "starting geodesic patch extraction............Done\n",
      "Starting keypoint extraction............Done\n",
      "Starting feature extraction............Done\n",
      "Starting keypoint matching............Done\n",
      "[[-2.34240625e+01  4.48538588e+01 -2.04421637e+01]\n",
      " [-2.33504737e+01  4.46874387e+01 -2.06961137e+01]\n",
      " [-2.32004013e+01  4.44581262e+01 -2.10149512e+01]\n",
      " [-1.67234165e+01 -1.54806750e+01 -2.74555012e+01]\n",
      " [-1.56644532e+01 -1.66522125e+01 -2.63863262e+01]\n",
      " [-1.56106477e+01 -1.24112375e+01 -2.72587888e+01]\n",
      " [-1.51969587e+01 -1.28708000e+01 -2.68257012e+01]\n",
      " [-1.46144972e+01 -1.26599375e+01 -2.64522638e+01]\n",
      " [-1.44875735e+01 -1.42974500e+01 -2.61355138e+01]\n",
      " [-1.42380060e+01 -1.28538125e+01 -2.61376263e+01]\n",
      " [-1.41868480e+01 -1.53075250e+01 -2.55434387e+01]\n",
      " [-1.40890185e+01 -1.40382000e+01 -2.57897637e+01]\n",
      " [-1.40555960e+01 -1.29327000e+01 -2.59552762e+01]\n",
      " [-1.39564235e+01 -1.34271375e+01 -2.58194637e+01]\n",
      " [-1.37252160e+01 -1.38046125e+01 -2.55227888e+01]\n",
      " [-1.36865085e+01 -1.34180750e+01 -2.55338637e+01]\n",
      " [-1.36620947e+01 -1.29259375e+01 -2.56324387e+01]\n",
      " [-1.33878769e+01 -1.37621875e+01 -2.52905387e+01]\n",
      " [-1.33091269e+01 -1.42782500e+01 -2.51614387e+01]\n",
      " [-1.31881854e+01 -1.30035000e+01 -2.52800262e+01]\n",
      " [-1.16634446e+01 -1.46561375e+01 -2.37574137e+01]\n",
      " [-1.14614946e+01 -1.45778125e+01 -2.36009637e+01]\n",
      " [-1.12477312e+01 -1.44607250e+01 -2.35012637e+01]\n",
      " [-1.11319612e+01 -1.46665750e+01 -2.33803387e+01]\n",
      " [-1.11166300e+01 -1.49262375e+01 -2.33020137e+01]\n",
      " [-1.11082800e+01 -1.42709125e+01 -2.33820512e+01]\n",
      " [-1.09229487e+01 -1.48155625e+01 -2.32974637e+01]\n",
      " [-1.09076175e+01 -1.50752250e+01 -2.32191387e+01]\n",
      " [-1.07744862e+01 -1.39238125e+01 -2.31614887e+01]\n",
      " [-1.05768738e+01 -1.38822625e+01 -2.29891262e+01]\n",
      " [-1.05750701e+01 -1.41215500e+01 -2.29086887e+01]\n",
      " [-1.05444588e+01 -1.41421625e+01 -2.29307387e+01]\n",
      " [-1.05302625e+01 -1.52470000e+01 -2.29022012e+01]\n",
      " [-1.04658625e+01 -1.54854750e+01 -2.28156137e+01]\n",
      " [-1.01895076e+01 -1.41897125e+01 -2.26425762e+01]\n",
      " [-1.00071464e+01 -1.40258875e+01 -2.25448637e+01]\n",
      " [-9.86316250e+00 -1.44065000e+01 -2.24677262e+01]\n",
      " [-8.83725687e+00  1.12706250e+00 -4.35953500e+00]\n",
      " [-8.76531837e+00  7.29600000e-01 -4.30777025e+00]\n",
      " [-8.64439337e+00  6.77850000e-01 -4.14324525e+00]\n",
      " [-8.62431837e+00  8.48012500e-01 -4.09803750e+00]\n",
      " [-8.47047962e+00  7.69925000e-01 -3.93667500e+00]\n",
      " [-8.01480450e+00  3.82550000e-01 -3.40081250e+00]\n",
      " [-7.84362950e+00  1.53237500e-01 -3.31075000e+00]\n",
      " [-7.69235825e+00 -5.13375000e-02 -3.21418750e+00]\n",
      " [-7.66197200e+00  2.02075000e-01 -3.14325000e+00]\n",
      " [-7.50635825e+00 -1.50337500e-01 -3.05632500e+00]\n",
      " [-7.31065450e+00 -8.13375000e-02 -2.90726250e+00]\n",
      " [-5.30515250e+00  1.52250000e-02 -1.54495375e+00]\n",
      " [-5.83792500e-01 -5.93218750e+00 -2.57548500e+00]]\n",
      "Total new correspondences found:  50\n",
      "Starting iteration:  2\n",
      "Starting Delaunay triangulation............done\n",
      "starting geodesic patch extraction............Done\n",
      "Starting keypoint extraction............Done\n",
      "Starting feature extraction............Done\n",
      "Starting keypoint matching............Done\n",
      "[[-1.31785503e+01 -1.65042500e+01 -2.45334637e+01]\n",
      " [-1.24996115e+01 -1.73942750e+01 -2.38659262e+01]\n",
      " [-1.23585713e+01 -1.62055750e+01 -2.40123137e+01]\n",
      " [-1.22966365e+01 -1.73197500e+01 -2.37119387e+01]\n",
      " [-9.71955012e+00 -1.39016000e+01 -2.22839388e+01]\n",
      " [-8.83725687e+00  1.12706250e+00 -4.35953500e+00]\n",
      " [-8.76531837e+00  7.29600000e-01 -4.30777025e+00]\n",
      " [-8.64439337e+00  6.77850000e-01 -4.14324525e+00]\n",
      " [-8.62431837e+00  8.48012500e-01 -4.09803750e+00]\n",
      " [-8.47047962e+00  7.69925000e-01 -3.93667500e+00]\n",
      " [-8.01480450e+00  3.82550000e-01 -3.40081250e+00]\n",
      " [-7.84362950e+00  1.53237500e-01 -3.31075000e+00]\n",
      " [-7.69235825e+00 -5.13375000e-02 -3.21418750e+00]\n",
      " [-7.66197200e+00  2.02075000e-01 -3.14325000e+00]\n",
      " [-7.50635825e+00 -1.50337500e-01 -3.05632500e+00]\n",
      " [-7.31065450e+00 -8.13375000e-02 -2.90726250e+00]\n",
      " [-5.30515250e+00  1.52250000e-02 -1.54495375e+00]\n",
      " [-5.83792500e-01 -5.93218750e+00 -2.57548500e+00]]\n",
      "Total new correspondences found:  18\n",
      "Starting iteration:  3\n",
      "Starting Delaunay triangulation............done\n",
      "starting geodesic patch extraction............Done\n",
      "Starting keypoint extraction............Done\n",
      "Starting feature extraction............Done\n",
      "Starting keypoint matching............Done\n",
      "[[-9.71955012e+00 -1.39016000e+01 -2.22839388e+01]\n",
      " [-8.83725687e+00  1.12706250e+00 -4.35953500e+00]\n",
      " [-8.76531837e+00  7.29600000e-01 -4.30777025e+00]\n",
      " [-8.64439337e+00  6.77850000e-01 -4.14324525e+00]\n",
      " [-8.62431837e+00  8.48012500e-01 -4.09803750e+00]\n",
      " [-8.47047962e+00  7.69925000e-01 -3.93667500e+00]\n",
      " [-8.01480450e+00  3.82550000e-01 -3.40081250e+00]\n",
      " [-7.84362950e+00  1.53237500e-01 -3.31075000e+00]\n",
      " [-7.69235825e+00 -5.13375000e-02 -3.21418750e+00]\n",
      " [-7.66197200e+00  2.02075000e-01 -3.14325000e+00]\n",
      " [-7.50635825e+00 -1.50337500e-01 -3.05632500e+00]\n",
      " [-7.31065450e+00 -8.13375000e-02 -2.90726250e+00]\n",
      " [-5.30515250e+00  1.52250000e-02 -1.54495375e+00]\n",
      " [-5.83792500e-01 -5.93218750e+00 -2.57548500e+00]]\n",
      "Total new correspondences found:  14\n",
      "Starting iteration:  4\n",
      "Starting Delaunay triangulation............done\n",
      "starting geodesic patch extraction............Done\n",
      "Starting keypoint extraction............Done\n",
      "Starting feature extraction............Done\n",
      "Starting keypoint matching............Done\n",
      "[[-9.71955012e+00 -1.39016000e+01 -2.22839388e+01]\n",
      " [-8.83725687e+00  1.12706250e+00 -4.35953500e+00]\n",
      " [-8.76531837e+00  7.29600000e-01 -4.30777025e+00]\n",
      " [-8.64439337e+00  6.77850000e-01 -4.14324525e+00]\n",
      " [-8.62431837e+00  8.48012500e-01 -4.09803750e+00]\n",
      " [-8.47047962e+00  7.69925000e-01 -3.93667500e+00]\n",
      " [-8.01480450e+00  3.82550000e-01 -3.40081250e+00]\n",
      " [-7.84362950e+00  1.53237500e-01 -3.31075000e+00]\n",
      " [-7.69235825e+00 -5.13375000e-02 -3.21418750e+00]\n",
      " [-7.66197200e+00  2.02075000e-01 -3.14325000e+00]\n",
      " [-7.50635825e+00 -1.50337500e-01 -3.05632500e+00]\n",
      " [-7.31065450e+00 -8.13375000e-02 -2.90726250e+00]\n",
      " [-5.30515250e+00  1.52250000e-02 -1.54495375e+00]\n",
      " [-5.83792500e-01 -5.93218750e+00 -2.57548500e+00]]\n",
      "Total new correspondences found:  14\n",
      "Starting iteration:  5\n",
      "Starting Delaunay triangulation............done\n",
      "starting geodesic patch extraction............Done\n",
      "Starting keypoint extraction............Done\n",
      "Starting feature extraction............Done\n",
      "Starting keypoint matching............Done\n",
      "[[-9.71955012e+00 -1.39016000e+01 -2.22839388e+01]\n",
      " [-8.83725687e+00  1.12706250e+00 -4.35953500e+00]\n",
      " [-8.76531837e+00  7.29600000e-01 -4.30777025e+00]\n",
      " [-8.64439337e+00  6.77850000e-01 -4.14324525e+00]\n",
      " [-8.62431837e+00  8.48012500e-01 -4.09803750e+00]\n",
      " [-8.47047962e+00  7.69925000e-01 -3.93667500e+00]\n",
      " [-8.01480450e+00  3.82550000e-01 -3.40081250e+00]\n",
      " [-7.84362950e+00  1.53237500e-01 -3.31075000e+00]\n",
      " [-7.69235825e+00 -5.13375000e-02 -3.21418750e+00]\n",
      " [-7.66197200e+00  2.02075000e-01 -3.14325000e+00]\n",
      " [-7.50635825e+00 -1.50337500e-01 -3.05632500e+00]\n",
      " [-7.31065450e+00 -8.13375000e-02 -2.90726250e+00]\n",
      " [-5.30515250e+00  1.52250000e-02 -1.54495375e+00]\n",
      " [-5.83792500e-01 -5.93218750e+00 -2.57548500e+00]]\n",
      "Total new correspondences found:  14\n",
      "Starting iteration:  6\n",
      "Starting Delaunay triangulation............done\n",
      "starting geodesic patch extraction............"
     ]
    }
   ],
   "source": [
    "# Start correspondence densification loop\n",
    "\n",
    "for iteration in range(num_iterations):\n",
    "    print(\"Starting iteration: \", iteration)\n",
    "    print(\"Starting Delaunay triangulation............\", end=\"\", flush=True)\n",
    "    tri_hull = triangulation(correspondence_set)\n",
    "    print(\"done\")\n",
    "    print(\"starting geodesic patch extraction............\", end=\"\", flush=True)\n",
    "    patches = get_patches(correspondence_set, tri_hull.simplices)\n",
    "    print(\"Done\")\n",
    "    print(\"Starting keypoint extraction............\", end=\"\", flush=True)\n",
    "    keypoints = get_keypoints(patches)\n",
    "    print(\"Done\")\n",
    "    print(\"Starting feature extraction............\", end=\"\", flush=True)\n",
    "    features = get_features(keypoints)\n",
    "    print(\"Done\")\n",
    "    print(\"Starting keypoint matching............\", end=\"\", flush=True)\n",
    "    final_mean_keypoints = keypoint_matching_process(keypoints, features)\n",
    "    print(\"Done\")\n",
    "    print(final_mean_keypoints)\n",
    "    print(\"Total new correspondences found: \", len(final_mean_keypoints))\n",
    "    correspondence_set = np.concatenate((correspondence_set, final_mean_keypoints), axis=0)\n",
    "    correspondence_set = np.unique(correspondence_set, axis=0)\n",
    "    \n",
    "    #if iteration == 2:\n",
    "    #    break\n",
    "\n"
   ]
  },
  {
   "cell_type": "code",
   "execution_count": 34,
   "metadata": {
    "ExecuteTime": {
     "end_time": "2019-05-12T07:00:33.836054Z",
     "start_time": "2019-05-12T07:00:33.829073Z"
    }
   },
   "outputs": [
    {
     "data": {
      "text/plain": [
       "115"
      ]
     },
     "execution_count": 34,
     "metadata": {},
     "output_type": "execute_result"
    }
   ],
   "source": [
    "len(correspondence_set)\n",
    "#correspondence_set"
   ]
  },
  {
   "cell_type": "code",
   "execution_count": 35,
   "metadata": {
    "ExecuteTime": {
     "end_time": "2019-05-12T07:01:21.932103Z",
     "start_time": "2019-05-12T07:00:34.879875Z"
    }
   },
   "outputs": [
    {
     "name": "stdout",
     "output_type": "stream",
     "text": [
      "done\n",
      "starting geodesic patch extraction............"
     ]
    }
   ],
   "source": [
    "\n",
    "tri_hull = triangulation(correspondence_set)\n",
    "print(\"done\")\n",
    "print(\"starting geodesic patch extraction............\", end=\"\", flush=True)\n",
    "patches = get_patches(correspondence_set, tri_hull.simplices)\n"
   ]
  },
  {
   "cell_type": "code",
   "execution_count": null,
   "metadata": {
    "ExecuteTime": {
     "end_time": "2019-05-12T06:49:21.330591Z",
     "start_time": "2019-05-12T06:48:52.043Z"
    }
   },
   "outputs": [],
   "source": [
    "patches.keys()"
   ]
  },
  {
   "cell_type": "code",
   "execution_count": null,
   "metadata": {
    "ExecuteTime": {
     "end_time": "2019-05-12T06:49:21.331188Z",
     "start_time": "2019-05-12T06:48:52.045Z"
    }
   },
   "outputs": [],
   "source": [
    "ipv.clear()\n",
    "face_index = 3\n",
    "points = face_points[\"face\" + str(face_index)]\n",
    "ipv.scatter(points[:,0], points[:,1], points[:,2], size=1, marker=\"sphere\", color=\"blue\")\n",
    "for key in patches.keys():\n",
    "    patch = patches[key][face_index-1]\n",
    "    if len(patch):\n",
    "        ipv.scatter(patch[:, 0], patch[:,1], patch[:,2], size=2, marker=\"sphere\", color=\"red\")\n",
    "ipv.show()"
   ]
  },
  {
   "cell_type": "code",
   "execution_count": null,
   "metadata": {
    "ExecuteTime": {
     "end_time": "2019-05-12T06:49:21.331749Z",
     "start_time": "2019-05-12T06:48:52.048Z"
    }
   },
   "outputs": [],
   "source": [
    "updated_hull = correspondence_set\n",
    "updated_tri_hull = triangulation(updated_hull)\n",
    "ipv.figure()\n",
    "mesh = ipv.plot_trisurf(updated_hull[:,0], updated_hull[:,1], updated_hull[:,2], triangles=updated_tri_hull.simplices, color='blue')\n",
    "ipv.scatter(updated_hull[:,0], updated_hull[:,1], updated_hull[:,2], marker='sphere', color='red')\n",
    "ipv.show()"
   ]
  },
  {
   "cell_type": "code",
   "execution_count": null,
   "metadata": {},
   "outputs": [],
   "source": []
  },
  {
   "cell_type": "code",
   "execution_count": null,
   "metadata": {},
   "outputs": [],
   "source": []
  },
  {
   "cell_type": "code",
   "execution_count": null,
   "metadata": {},
   "outputs": [],
   "source": []
  },
  {
   "cell_type": "code",
   "execution_count": null,
   "metadata": {},
   "outputs": [],
   "source": []
  },
  {
   "cell_type": "code",
   "execution_count": null,
   "metadata": {},
   "outputs": [],
   "source": []
  },
  {
   "cell_type": "code",
   "execution_count": null,
   "metadata": {
    "ExecuteTime": {
     "end_time": "2019-05-12T06:49:21.332381Z",
     "start_time": "2019-05-12T06:48:52.065Z"
    }
   },
   "outputs": [],
   "source": [
    "xy_hu_moments = cv2.HuMoments(cv2.moments(patch2[:, :2])).flatten()\n",
    "yz_hu_moments = cv2.HuMoments(cv2.moments(patch2[:, 1:])).flatten()\n",
    "xz_hu_moments = cv2.HuMoments(cv2.moments(patch2[:, ::2])).flatten()\n",
    "hu_moments = np.concatenate([xy_hu_moments, yz_hu_moments, xz_hu_moments])\n",
    "hu_moments.shape\n"
   ]
  },
  {
   "cell_type": "code",
   "execution_count": null,
   "metadata": {
    "ExecuteTime": {
     "end_time": "2019-05-12T06:49:21.332959Z",
     "start_time": "2019-05-12T06:48:52.068Z"
    }
   },
   "outputs": [],
   "source": [
    "def surface_curvature(X,Y,Z):\n",
    "\n",
    "    (lr,lb)=X.shape\n",
    "\n",
    "\n",
    "    #First Derivatives\n",
    "    Xv,Xu=np.gradient(X)\n",
    "    Yv,Yu=np.gradient(Y)\n",
    "    Zv,Zu=np.gradient(Z)\n",
    "\n",
    "    #Second Derivatives\n",
    "    Xuv,Xuu=np.gradient(Xu)\n",
    "    Yuv,Yuu=np.gradient(Yu)\n",
    "    Zuv,Zuu=np.gradient(Zu)   \n",
    "\n",
    "    Xvv,Xuv=np.gradient(Xv)\n",
    "    Yvv,Yuv=np.gradient(Yv)\n",
    "    Zvv,Zuv=np.gradient(Zv) \n",
    "\n",
    "    #2D to 1D conversion \n",
    "    #Reshape to 1D vectors\n",
    "    Xu=np.reshape(Xu,lr*lb)\n",
    "    Yu=np.reshape(Yu,lr*lb)\n",
    "    Zu=np.reshape(Zu,lr*lb)\n",
    "    Xv=np.reshape(Xv,lr*lb)\n",
    "    Yv=np.reshape(Yv,lr*lb)\n",
    "    Zv=np.reshape(Zv,lr*lb)\n",
    "    Xuu=np.reshape(Xuu,lr*lb)\n",
    "    Yuu=np.reshape(Yuu,lr*lb)\n",
    "    Zuu=np.reshape(Zuu,lr*lb)\n",
    "    Xuv=np.reshape(Xuv,lr*lb)\n",
    "    Yuv=np.reshape(Yuv,lr*lb)\n",
    "    Zuv=np.reshape(Zuv,lr*lb)\n",
    "    Xvv=np.reshape(Xvv,lr*lb)\n",
    "    Yvv=np.reshape(Yvv,lr*lb)\n",
    "    Zvv=np.reshape(Zvv,lr*lb)\n",
    "\n",
    "    Xu=np.c_[Xu, Yu, Zu]\n",
    "    Xv=np.c_[Xv, Yv, Zv]\n",
    "    Xuu=np.c_[Xuu, Yuu, Zuu]\n",
    "    Xuv=np.c_[Xuv, Yuv, Zuv]\n",
    "    Xvv=np.c_[Xvv, Yvv, Zvv]\n",
    "\n",
    "    #% First fundamental Coeffecients of the surface (E,F,G)\n",
    "    E=np.einsum('ij,ij->i', Xu, Xu) \n",
    "    F=np.einsum('ij,ij->i', Xu, Xv) \n",
    "    G=np.einsum('ij,ij->i', Xv, Xv) \n",
    "\n",
    "    m=np.cross(Xu,Xv,axisa=1, axisb=1) \n",
    "    p=np.sqrt(np.einsum('ij,ij->i', m, m)) \n",
    "    n=m/np.c_[p,p,p]\n",
    "    # n is the normal\n",
    "    #% Second fundamental Coeffecients of the surface (L,M,N), (e,f,g)\n",
    "    L= np.einsum('ij,ij->i', Xuu, n) #e\n",
    "    M= np.einsum('ij,ij->i', Xuv, n) #f\n",
    "    N= np.einsum('ij,ij->i', Xvv, n) #g\n",
    "\n",
    "    # Alternative formula for gaussian curvature in wiki \n",
    "    # K = det(second fundamental) / det(first fundamental)\n",
    "    #% Gaussian Curvature\n",
    "    K=(L*N-M**2)/(E*G-L**2)\n",
    "    K=np.reshape(K,lr*lb)\n",
    "    #wiki trace of (second fundamental)(first fundamental inverse)\n",
    "    #% Mean Curvature\n",
    "    H = (E*N + G*L - 2*F*M)/((E*G - F**2))\n",
    "    H = np.reshape(H,lr*lb)\n",
    "\n",
    "    #% Principle Curvatures\n",
    "    Pmax = H + np.sqrt(H**2 - K)\n",
    "    Pmin = H - np.sqrt(H**2 - K)\n",
    "    #[Pmax, Pmin]\n",
    "    return [Pmax, Pmin, G, H]\n",
    "\n",
    "\n",
    "def fun(x,y):\n",
    "    return x**2+y**2"
   ]
  },
  {
   "cell_type": "code",
   "execution_count": null,
   "metadata": {
    "ExecuteTime": {
     "end_time": "2019-05-12T06:49:21.333516Z",
     "start_time": "2019-05-12T06:48:52.070Z"
    }
   },
   "outputs": [],
   "source": [
    "x1, y1, z1 = patch1[:, 0], patch1[:, 1], patch1[:, 2]"
   ]
  },
  {
   "cell_type": "code",
   "execution_count": null,
   "metadata": {
    "ExecuteTime": {
     "end_time": "2019-05-12T06:49:21.334138Z",
     "start_time": "2019-05-12T06:48:52.073Z"
    }
   },
   "outputs": [],
   "source": [
    "[pgrid_x,pgrid_y] = scipy.meshgrid(x1, y1)"
   ]
  },
  {
   "cell_type": "code",
   "execution_count": null,
   "metadata": {
    "ExecuteTime": {
     "end_time": "2019-05-12T06:49:21.334666Z",
     "start_time": "2019-05-12T06:48:52.074Z"
    }
   },
   "outputs": [],
   "source": [
    "plt.scatter(pgrid_x, pgrid_y);\n",
    "plt.scatter(x1, y1)"
   ]
  },
  {
   "cell_type": "code",
   "execution_count": null,
   "metadata": {
    "ExecuteTime": {
     "end_time": "2019-05-12T06:49:21.335221Z",
     "start_time": "2019-05-12T06:48:52.076Z"
    }
   },
   "outputs": [],
   "source": [
    "pgrid_z = scipy.interpolate.griddata((patch1[:, 0], patch1[:, 1]), patch1[:, 2], (pgrid_x, pgrid_y), method='cubic')"
   ]
  },
  {
   "cell_type": "code",
   "execution_count": null,
   "metadata": {
    "ExecuteTime": {
     "end_time": "2019-05-12T06:49:21.335797Z",
     "start_time": "2019-05-12T06:48:52.079Z"
    }
   },
   "outputs": [],
   "source": [
    "ipv.figure()\n",
    "ipv.plot_surface(pgrid_x, pgrid_z, pgrid_y)\n",
    "ipv.show()"
   ]
  },
  {
   "cell_type": "code",
   "execution_count": null,
   "metadata": {
    "ExecuteTime": {
     "end_time": "2019-05-12T06:49:21.336393Z",
     "start_time": "2019-05-12T06:48:52.080Z"
    }
   },
   "outputs": [],
   "source": [
    "k1, k2, G, H = surface_curvature(pgrid_x,pgrid_y,pgrid_z)"
   ]
  },
  {
   "cell_type": "code",
   "execution_count": null,
   "metadata": {
    "ExecuteTime": {
     "end_time": "2019-05-12T06:49:21.336977Z",
     "start_time": "2019-05-12T06:48:52.082Z"
    }
   },
   "outputs": [],
   "source": [
    "k1, k2, G, H"
   ]
  },
  {
   "cell_type": "code",
   "execution_count": null,
   "metadata": {
    "ExecuteTime": {
     "end_time": "2019-05-08T07:18:29.720869Z",
     "start_time": "2019-05-08T07:18:29.716618Z"
    }
   },
   "outputs": [],
   "source": []
  },
  {
   "cell_type": "code",
   "execution_count": null,
   "metadata": {
    "ExecuteTime": {
     "end_time": "2019-05-12T06:49:21.337557Z",
     "start_time": "2019-05-12T06:48:52.087Z"
    }
   },
   "outputs": [],
   "source": [
    "for i in range(len(patch1)):\n",
    "    print(k1[i*i])"
   ]
  },
  {
   "cell_type": "code",
   "execution_count": null,
   "metadata": {
    "ExecuteTime": {
     "end_time": "2019-05-12T06:49:21.338159Z",
     "start_time": "2019-05-12T06:48:52.089Z"
    }
   },
   "outputs": [],
   "source": [
    "# Shape index\n",
    "\n",
    "Sa = 1/2 - 1/np.pi * np.arctan((k1+k2)/(k1-k2))\n",
    "Sb = 2/np.pi * np.arctan((k1+k2)/(k1-k2))\n",
    "\n",
    "print(Sa)\n",
    "print(Sb)"
   ]
  },
  {
   "cell_type": "code",
   "execution_count": null,
   "metadata": {
    "ExecuteTime": {
     "end_time": "2019-05-12T06:49:21.338763Z",
     "start_time": "2019-05-12T06:48:52.091Z"
    }
   },
   "outputs": [],
   "source": [
    "curvedness = np.sqrt((k1**2 + k2**2)/2)\n",
    "log_curvedness = 2/np.pi * np.log10(curvedness)\n",
    "willmore_energy = H**2 - G\n",
    "shape_curvedness = Sb * log_curvedness\n",
    "log_difference_map = np.log(G - H + 1) \n"
   ]
  },
  {
   "cell_type": "code",
   "execution_count": null,
   "metadata": {},
   "outputs": [],
   "source": []
  },
  {
   "cell_type": "code",
   "execution_count": null,
   "metadata": {},
   "outputs": [],
   "source": []
  },
  {
   "cell_type": "code",
   "execution_count": null,
   "metadata": {},
   "outputs": [],
   "source": []
  },
  {
   "cell_type": "code",
   "execution_count": null,
   "metadata": {},
   "outputs": [],
   "source": []
  },
  {
   "cell_type": "code",
   "execution_count": null,
   "metadata": {},
   "outputs": [],
   "source": []
  },
  {
   "cell_type": "code",
   "execution_count": null,
   "metadata": {},
   "outputs": [],
   "source": []
  },
  {
   "cell_type": "code",
   "execution_count": null,
   "metadata": {},
   "outputs": [],
   "source": []
  },
  {
   "cell_type": "code",
   "execution_count": null,
   "metadata": {},
   "outputs": [],
   "source": []
  },
  {
   "cell_type": "code",
   "execution_count": null,
   "metadata": {},
   "outputs": [],
   "source": []
  },
  {
   "cell_type": "code",
   "execution_count": null,
   "metadata": {},
   "outputs": [],
   "source": []
  },
  {
   "cell_type": "code",
   "execution_count": null,
   "metadata": {},
   "outputs": [],
   "source": []
  },
  {
   "cell_type": "code",
   "execution_count": null,
   "metadata": {},
   "outputs": [],
   "source": []
  }
 ],
 "metadata": {
  "kernelspec": {
   "display_name": "Python 3",
   "language": "python",
   "name": "python3"
  },
  "language_info": {
   "codemirror_mode": {
    "name": "ipython",
    "version": 3
   },
   "file_extension": ".py",
   "mimetype": "text/x-python",
   "name": "python",
   "nbconvert_exporter": "python",
   "pygments_lexer": "ipython3",
   "version": "3.7.2"
  }
 },
 "nbformat": 4,
 "nbformat_minor": 2
}
