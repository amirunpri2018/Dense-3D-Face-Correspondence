{
 "cells": [
  {
   "cell_type": "markdown",
   "metadata": {},
   "source": [
    "# Dense 3D Face Correspondence"
   ]
  },
  {
   "cell_type": "code",
   "execution_count": 167,
   "metadata": {
    "ExecuteTime": {
     "end_time": "2019-05-07T14:51:44.083981Z",
     "start_time": "2019-05-07T14:51:43.991741Z"
    }
   },
   "outputs": [],
   "source": [
    "import numpy as np\n",
    "import re\n",
    "import cv2\n",
    "import ipyvolume as ipv\n",
    "import scipy\n",
    "from math import cos, sin\n",
    "from scipy import meshgrid, interpolate\n",
    "import pdb\n",
    "import matplotlib.pyplot as plt\n",
    "from mpl_toolkits.mplot3d import Axes3D\n",
    "from scipy.spatial import ConvexHull, Delaunay\n",
    "\n",
    "# THRESHOLDS\n",
    "rho = 0.5\n",
    "eigen_ratio_threshold = 5000"
   ]
  },
  {
   "cell_type": "markdown",
   "metadata": {},
   "source": [
    "## Read face data"
   ]
  },
  {
   "cell_type": "code",
   "execution_count": 206,
   "metadata": {
    "ExecuteTime": {
     "end_time": "2019-05-07T15:17:12.547453Z",
     "start_time": "2019-05-07T15:17:12.542461Z"
    }
   },
   "outputs": [],
   "source": [
    "def read_wrl(file_path):\n",
    "    holder = []\n",
    "    with open(file_path, \"r\") as vrml:\n",
    "        for line in vrml:\n",
    "            a = line.strip().strip(\",\").split()\n",
    "            if len(a) == 3:\n",
    "                try:\n",
    "                    holder.append(list(map(float, a)))\n",
    "                except:\n",
    "                    pass\n",
    "    x,y,z = zip(*holder)\n",
    "    x = np.array(x)\n",
    "    y = np.array(y)\n",
    "    z = np.array(z)\n",
    "    points = np.array(holder)\n",
    "    return points\n",
    "\n"
   ]
  },
  {
   "cell_type": "code",
   "execution_count": 207,
   "metadata": {
    "ExecuteTime": {
     "end_time": "2019-05-07T15:17:12.930811Z",
     "start_time": "2019-05-07T15:17:12.838826Z"
    }
   },
   "outputs": [],
   "source": [
    "file_path1 = \"F0001/F0001_AN01WH_F3D.wrl\"\n",
    "points1 = read_wrl(file_path1)\n",
    "\n",
    "file_path2 = \"F0001/F0001_DI03WH_F3D.wrl\"\n",
    "points2 = read_wrl(file_path2)\n"
   ]
  },
  {
   "cell_type": "code",
   "execution_count": 208,
   "metadata": {
    "ExecuteTime": {
     "end_time": "2019-05-07T15:17:13.107194Z",
     "start_time": "2019-05-07T15:17:13.092608Z"
    }
   },
   "outputs": [],
   "source": [
    "def normalize_face(points):\n",
    "    points\n",
    "    maxind = np.argmax(points[:,2])\n",
    "    nosex = points[maxind,0]\n",
    "    nosey = points[maxind,1]\n",
    "    nosez = points[maxind,2]\n",
    "    points = points - np.array([nosex, nosey, nosez])\n",
    "#     points = points / np.max(points)\n",
    "    return points\n",
    "\n",
    "points1 = normalize_face(points1)\n",
    "points2 = normalize_face(points2)\n",
    "x1, y1, z1 = map(np.array, zip(*points1))\n",
    "x2, y2, z2 = map(np.array, zip(*points2))"
   ]
  },
  {
   "cell_type": "code",
   "execution_count": 209,
   "metadata": {
    "ExecuteTime": {
     "end_time": "2019-05-07T15:17:13.376843Z",
     "start_time": "2019-05-07T15:17:13.373146Z"
    }
   },
   "outputs": [
    {
     "data": {
      "text/plain": [
       "((7968, 3),)"
      ]
     },
     "execution_count": 209,
     "metadata": {},
     "output_type": "execute_result"
    }
   ],
   "source": [
    "points1.shape,"
   ]
  },
  {
   "cell_type": "code",
   "execution_count": 210,
   "metadata": {
    "ExecuteTime": {
     "end_time": "2019-05-07T15:17:13.712917Z",
     "start_time": "2019-05-07T15:17:13.674745Z"
    }
   },
   "outputs": [
    {
     "data": {
      "application/vnd.jupyter.widget-view+json": {
       "model_id": "ab779fafb1444462b6f6d8a5ea59ed26",
       "version_major": 2,
       "version_minor": 0
      },
      "text/plain": [
       "VBox(children=(Figure(camera=PerspectiveCamera(fov=46.0, position=(0.0, 0.0, 2.0), quaternion=(0.0, 0.0, 0.0, …"
      ]
     },
     "metadata": {},
     "output_type": "display_data"
    }
   ],
   "source": [
    "ipv.quickscatter(points1[:, 0], points1[:, 1], points1[:, 2], size=1, marker=\"sphere\")\n",
    "ipv.scatter(points2[:, 0], points2[:, 1], points2[:, 2], size=1, marker=\"sphere\", color=\"blue\")\n",
    "ipv.show()"
   ]
  },
  {
   "cell_type": "code",
   "execution_count": null,
   "metadata": {},
   "outputs": [],
   "source": []
  },
  {
   "cell_type": "code",
   "execution_count": 211,
   "metadata": {
    "ExecuteTime": {
     "end_time": "2019-05-07T15:17:14.325457Z",
     "start_time": "2019-05-07T15:17:14.214049Z"
    }
   },
   "outputs": [
    {
     "data": {
      "application/vnd.jupyter.widget-view+json": {
       "model_id": "f6ce60ddc906489dac9359abe093d602",
       "version_major": 2,
       "version_minor": 0
      },
      "text/plain": [
       "VBox(children=(Figure(camera=PerspectiveCamera(fov=46.0, position=(0.0, 0.0, 2.0), quaternion=(0.0, 0.0, 0.0, …"
      ]
     },
     "metadata": {},
     "output_type": "display_data"
    }
   ],
   "source": [
    "import numpy as np\n",
    "from scipy.interpolate import griddata\n",
    "\n",
    "minx, maxx = np.amin(x1), np.amax(x1)\n",
    "miny, maxy = np.amin(y1), np.amax(y1)\n",
    "#extent = (minx, maxx, miny, maxy)\n",
    "grid_x, grid_y = np.mgrid[minx:maxx:0.5, miny:maxy:0.5]\n",
    "\n",
    "zi = griddata((x1,y1),z1,(grid_x, grid_y),method='linear')\n",
    "\n",
    "ipv.clear()\n",
    "ipv.plot_mesh(grid_x, grid_y, zi, wireframe=False)\n",
    "ipv.show()"
   ]
  },
  {
   "cell_type": "code",
   "execution_count": null,
   "metadata": {
    "ExecuteTime": {
     "end_time": "2019-05-07T14:38:53.236310Z",
     "start_time": "2019-05-07T14:38:53.227586Z"
    }
   },
   "outputs": [],
   "source": []
  },
  {
   "cell_type": "code",
   "execution_count": null,
   "metadata": {
    "ExecuteTime": {
     "end_time": "2019-05-07T14:39:07.005033Z",
     "start_time": "2019-05-07T14:39:06.958237Z"
    },
    "scrolled": false
   },
   "outputs": [],
   "source": []
  },
  {
   "cell_type": "code",
   "execution_count": null,
   "metadata": {
    "ExecuteTime": {
     "end_time": "2019-05-07T14:51:36.756105Z",
     "start_time": "2019-05-07T14:51:36.753841Z"
    }
   },
   "outputs": [],
   "source": []
  },
  {
   "cell_type": "markdown",
   "metadata": {},
   "source": [
    "## Sparse Correspondence Initialization\n",
    "\n",
    "We initialize the correspondences by first automatically establishing a sparse set of seed points. We restrict these seed points to those that lie on the roughly ellipse-shaped 2D convex hull of the face, i.e., the 2D-hull when the 3D mesh is projected into the x - y plane. We sample these points at regular angular intervals of d 1⁄4 p=36 (see Fig. 3), where the angle d is measured at the nose tip. There is of course no guarantee that in the finite resolution mesh of the face there will be a point at an exact\n",
    "multiple of p=36, but for each face we choose the nearest point. This yields a set of 72 3D seed points for each 3D face in the dataset which are used in the first iteration of the triangulation and densification process, as described in the next section."
   ]
  },
  {
   "cell_type": "code",
   "execution_count": 212,
   "metadata": {
    "ExecuteTime": {
     "end_time": "2019-05-07T15:17:16.611888Z",
     "start_time": "2019-05-07T15:17:16.605642Z"
    }
   },
   "outputs": [],
   "source": [
    "ipv.quiver?"
   ]
  },
  {
   "cell_type": "code",
   "execution_count": 213,
   "metadata": {
    "ExecuteTime": {
     "end_time": "2019-05-07T15:17:16.944126Z",
     "start_time": "2019-05-07T15:17:16.942191Z"
    }
   },
   "outputs": [],
   "source": [
    "# plt.figure(figsize=(10,10))\n",
    "# plt.scatter(x,y)\n",
    "# hull = ConvexHull(points[:,:2])\n",
    "# maxind = np.argmax(points[:,2])\n",
    "# hullx = [points[maxind,0]]\n",
    "# hully = [points[maxind,1]]\n",
    "# hullz = [points[maxind,2]]\n",
    "# plt.plot(points[maxind, 0], points[maxind, 1],\"ro\")\n",
    "# for simplex in hull.simplices:\n",
    "#     plt.plot(points[simplex, 0], points[simplex, 1], 'ro')\n",
    "#     hullx.append(x[simplex[0]])\n",
    "#     hullx.append(x[simplex[1]])\n",
    "#     hully.append(y[simplex[0]])\n",
    "#     hully.append(y[simplex[1]])\n",
    "#     hullz.append(z[simplex[0]])\n",
    "#     hullz.append(z[simplex[1]])\n",
    "# plt.show()"
   ]
  },
  {
   "cell_type": "code",
   "execution_count": 214,
   "metadata": {
    "ExecuteTime": {
     "end_time": "2019-05-07T15:17:22.647985Z",
     "start_time": "2019-05-07T15:17:21.385632Z"
    }
   },
   "outputs": [
    {
     "data": {
      "image/png": "[encoded data removed]",
      "text/plain": [
       "<Figure size 360x360 with 1 Axes>"
      ]
     },
     "metadata": {
      "needs_background": "light"
     },
     "output_type": "display_data"
    }
   ],
   "source": [
    "def hull72(points,nosex,nosey,nosez):\n",
    "    newhull = [[nosex,nosey,nosez]]\n",
    "    for theta in range(0,360,5):\n",
    "        fx = 200*cos(theta * np.pi/180)\n",
    "        fy = 200*sin(theta * np.pi/180)\n",
    "        \n",
    "        nearest_point = min(zip(points[:,0],points[:,1],points[:,2]), key=lambda p:(p[0]-fx)**2+(p[1]-fy)**2)\n",
    "#         print(nearest_point, fx, fy)\n",
    "        newhull.append(nearest_point)\n",
    "    return newhull\n",
    "\n",
    "def get_hull(points):\n",
    "    maxind = np.argmax(points[:,2])\n",
    "    nosex = points[maxind,0]\n",
    "    nosey = points[maxind,1]\n",
    "    nosez = points[maxind,2]\n",
    "    hull = np.array(hull72(points, nosex,nosey,nosez))\n",
    "    return hull\n",
    "\n",
    "hull1 = get_hull(points1)\n",
    "hull2 = get_hull(points2)\n",
    "hull = (hull1 + hull2) /2\n",
    "\n",
    "\n",
    "plt.figure(figsize=(5,5))\n",
    "plt.scatter(points1[:,0], points1[:,1], color=\"red\")\n",
    "plt.scatter(points2[:,0], points2[:,1], color=\"orange\")\n",
    "\n",
    "plt.scatter(hull[:,0], hull[:,1])\n",
    "maxind = np.argmax(points1[:,2])\n",
    "nosex = points1[maxind,0]\n",
    "nosey = points1[maxind,1]\n",
    "nosez = points1[maxind,2]\n",
    "plt.plot(nosex,nosey,\"b\")\n",
    "plt.show()\n",
    "\n"
   ]
  },
  {
   "cell_type": "markdown",
   "metadata": {},
   "source": [
    "## Triangulation and Geodesic Patch Extraction\n",
    "\n",
    "The main part of our algorithm is an iteration that takes the\n",
    "best set of matches that have been established to date, and\n",
    "grows the number of correspondences. For the first itera-\n",
    "tion, we use the sparse set of correspondences established\n",
    "as in the previous section, while for subsequent iterations\n",
    "we determine the best set of n q matches from the full set of\n",
    "n matches as described in Section 3.5.\n",
    "In each iteration, given n q correspondences between N\n",
    "faces, we perform a 2D Delaunay triangulation of the mean\n",
    "x \u0007 y locations of the n q current best matches. This triangu-\n",
    "lation is then used consistently across all faces. We then\n",
    "pick a pair of parent/child nodes from the Minimum Span-\n",
    "ning Tree P, F j and F k . For both faces in the pair, we extract a narrow surface patch S 1⁄4 f1⁄2x i ; y i ; z i \u0003 T ; i 1⁄4 1; . . . ; mg \b F,\n",
    "centered on a geodesic curve defined by each triangle\n",
    "edge (see Fig. 4). For the sake of simplicity we call this a geo-\n",
    "desic patch.\n",
    "The (projected) length of the patch is the same as the\n",
    "length of the edge. The “narrow” width is set with reference\n",
    "to the scale of the original face mesh resolution. More specif-\n",
    "ically, we set the width to be 5r where r is the average\n",
    "mesh-edge length in the vicinity of the endpoint of the edge\n",
    "(note that here the mesh-edges refer to the edges in the orig-\n",
    "inal dataset, not the edges of the triangulation used for the\n",
    "densification). This makes the extraction of the geodesic\n",
    "patch scale invariant. The values of r for real 3D faces cap-\n",
    "tured with the Minolta or the 3dMDface scanners typically\n",
    "range from 1-3 mm.\n",
    "Finally, we bring the patches S j ; S k into approximate\n",
    "alignment using non-rigid registration [49], [50]. The pro-\n",
    "cess is shown in Fig. 4."
   ]
  },
  {
   "cell_type": "code",
   "execution_count": 215,
   "metadata": {
    "ExecuteTime": {
     "end_time": "2019-05-07T15:17:22.652347Z",
     "start_time": "2019-05-07T15:17:22.649230Z"
    }
   },
   "outputs": [],
   "source": [
    "def delaunay_triangulation(hull):\n",
    "    points2D=np.vstack([hull[:,0],hull[:,1]]).T\n",
    "    tri_hull = Delaunay(points2D)\n",
    "    ipv.figure()\n",
    "    mesh = ipv.plot_trisurf(hull[:,0], hull[:,1], hull[:,2], triangles=tri_hull.simplices, color='blue')\n",
    "    ipv.scatter(hull[:,0], hull[:,1], hull[:,2], marker='sphere', color='red')\n",
    "    ipv.show()\n",
    "    return tri_hull"
   ]
  },
  {
   "cell_type": "code",
   "execution_count": 216,
   "metadata": {
    "ExecuteTime": {
     "end_time": "2019-05-07T15:17:23.229435Z",
     "start_time": "2019-05-07T15:17:23.186845Z"
    }
   },
   "outputs": [
    {
     "data": {
      "application/vnd.jupyter.widget-view+json": {
       "model_id": "13c2d804ed244b06bf0efc60c985b2f9",
       "version_major": 2,
       "version_minor": 0
      },
      "text/plain": [
       "VBox(children=(Figure(camera=PerspectiveCamera(fov=46.0, position=(0.0, 0.0, 2.0), quaternion=(0.0, 0.0, 0.0, …"
      ]
     },
     "metadata": {},
     "output_type": "display_data"
    }
   ],
   "source": [
    "tri_hull = delaunay_triangulation(hull)\n"
   ]
  },
  {
   "cell_type": "code",
   "execution_count": 217,
   "metadata": {
    "ExecuteTime": {
     "end_time": "2019-05-07T15:17:23.587520Z",
     "start_time": "2019-05-07T15:17:23.579625Z"
    }
   },
   "outputs": [],
   "source": [
    "def get_patch(points, hull, x1, y1, z1):\n",
    "    patch_width = 5 * rho\n",
    "    def distance(x,y,z,x1,y1,z1,x2,y2,z2):\n",
    "        a = (y2-y1)/(x2-x1)\n",
    "        b = -1\n",
    "        c = y2-x2*(y2-y1)/(x2-x1)\n",
    "        return abs(a*x+b*y+c)/(a**2+b**2)**0.5\n",
    "\n",
    "    patch = []\n",
    "    nosex, nosey, nosez = hull[0]\n",
    "    for x2,y2,z2 in points:\n",
    "        if (y1-nosey)/(y2-nosey+0.0001)>0 and (x1-nosex)/(x2-nosex+0.0001)>0 \\\n",
    "        and distance(x2,y2,z2,x1,y1,z1,nosex,nosey,nosez)<patch_width:\n",
    "            patch.append([x2,y2,z2])\n",
    "    patch = np.array(patch)\n",
    "    return patch"
   ]
  },
  {
   "cell_type": "code",
   "execution_count": 218,
   "metadata": {
    "ExecuteTime": {
     "end_time": "2019-05-07T15:17:24.507659Z",
     "start_time": "2019-05-07T15:17:24.441369Z"
    }
   },
   "outputs": [
    {
     "data": {
      "application/vnd.jupyter.widget-view+json": {
       "model_id": "f3e19e530b3540a7bd3c9dc4d1628ec7",
       "version_major": 2,
       "version_minor": 0
      },
      "text/plain": [
       "VBox(children=(Figure(camera=PerspectiveCamera(fov=46.0, position=(0.0, 0.0, 2.0), quaternion=(0.0, 0.0, 0.0, …"
      ]
     },
     "metadata": {},
     "output_type": "display_data"
    }
   ],
   "source": [
    "x1, y1, z1 = hull[70, :]\n",
    "patch1 = get_patch(points1, hull, x1, y1, z1)\n",
    "ipv.clear()\n",
    "ipv.quickscatter(points1[:,0],points1[:,1],points1[:,2], size=1, marker=\"sphere\", color=\"red\")\n",
    "ipv.scatter(patch1[:,0], patch1[:,1], patch1[:,2], size=1, marker=\"sphere\", color=\"blue\")\n",
    "ipv.show()"
   ]
  },
  {
   "cell_type": "code",
   "execution_count": 219,
   "metadata": {
    "ExecuteTime": {
     "end_time": "2019-05-07T15:17:25.395399Z",
     "start_time": "2019-05-07T15:17:25.359509Z"
    }
   },
   "outputs": [],
   "source": [
    "ipv.clear()\n",
    "patch2 = get_patch(points2, hull, x1, y1, z1)"
   ]
  },
  {
   "cell_type": "code",
   "execution_count": 220,
   "metadata": {
    "ExecuteTime": {
     "end_time": "2019-05-07T15:17:26.140130Z",
     "start_time": "2019-05-07T15:17:26.093786Z"
    },
    "scrolled": false
   },
   "outputs": [
    {
     "data": {
      "application/vnd.jupyter.widget-view+json": {
       "model_id": "6fd8c14893d6407782b3d69217cbdc7d",
       "version_major": 2,
       "version_minor": 0
      },
      "text/plain": [
       "VBox(children=(Figure(camera=PerspectiveCamera(fov=46.0, position=(0.0, 0.0, 2.0), quaternion=(0.0, 0.0, 0.0, …"
      ]
     },
     "metadata": {},
     "output_type": "display_data"
    }
   ],
   "source": [
    "ipv.quickscatter(patch1[:,0], patch1[:,1], patch1[:,2], size=2, marker=\"sphere\", color=\"red\")\n",
    "ipv.scatter(patch2[:,0],patch2[:,1],patch2[:,2], size=2, marker=\"sphere\", color=\"blue\")\n",
    "ipv.show()"
   ]
  },
  {
   "cell_type": "code",
   "execution_count": null,
   "metadata": {},
   "outputs": [],
   "source": [
    "\n",
    "def get_normal(x, y, grid_x, grid_y, grid_z):\n",
    "    '''\n",
    "      3\n",
    "    1   2\n",
    "      4\n",
    "    '''\n",
    "    i = (x - grid_x[0, 0]) / (grid_x[1, 0] - grid_x[0, 0])\n",
    "    j = (y - grid_y[0, 0]) / (grid_y[0, 1] - grid_y[0, 0])\n",
    "    i,j = int(round(i)), int(round(j))\n",
    "    print(i, j)\n",
    "    if (not 0 <= i < grid_x.shape[0]) or (not 0 <= j < grid_y.shape[1]):\n",
    "        raise \"hullalalalalalala\"\n",
    "    print(i,j)\n",
    "    point1 = (grid_x[i-1, j], grid_y[i-1, j], grid_z[i-1, j])\n",
    "    point2 = (grid_x[i+1, j], grid_y[i+1, j], grid_z[i+1, j])\n",
    "    point3 = (grid_x[i, j-1], grid_y[i, j-1], grid_z[i, j-1])\n",
    "    point4 = (grid_x[i, j+1], grid_y[i, j+1], grid_z[i, j+1])\n",
    "    a1, a2, a3 = [point2[x] - point1[x] for x in range(3)]\n",
    "    b1, b2, b3 = [point3[x] - point4[x] for x in range(3)]\n",
    "    normal = np.array([a3*b2, a1*b3, -a1*b2])\n",
    "    return normal/np.linalg.norm(normal)\n",
    "\n"
   ]
  },
  {
   "cell_type": "code",
   "execution_count": null,
   "metadata": {},
   "outputs": [],
   "source": [
    "\n",
    "ipv.clear()\n",
    "ipv.plot_mesh(grid_x, grid_y, zi, wireframe=False)\n",
    "\n",
    "uvn = get_normal(60, 20, grid_x,grid_y,zi)\n",
    "print(zi[269, 190])\n",
    "print(uvn)\n",
    "ipv.quiver(np.array([60.]), np.array([20.]), np.array([zi[269, 190]]), np.array([uvn[0]]), np.array([uvn[1]]), np.array([uvn[2]]), color=\"blue\", size=10)\n",
    "#ipv.scatter(np.array([10, ]), np.array([10, ]), np.array([10, ]), color=\"blue\", size=5)\n",
    "#ipv.quickquiver(np.array([-1.0]), np.array([0.25817214]), np.array( [0.42129626]), np.array([uvn[0]]), np.array([uvn[1]]), np.array([uvn[2]]), size=50)\n",
    "\n",
    "ipv.show()\n",
    "print(np.array([40]))"
   ]
  },
  {
   "cell_type": "code",
   "execution_count": 194,
   "metadata": {
    "ExecuteTime": {
     "end_time": "2019-05-07T15:08:02.626670Z",
     "start_time": "2019-05-07T15:08:02.615573Z"
    }
   },
   "outputs": [
    {
     "data": {
      "text/plain": [
       "(21,)"
      ]
     },
     "execution_count": 194,
     "metadata": {},
     "output_type": "execute_result"
    }
   ],
   "source": [
    "xy_hu_moments = cv2.HuMoments(cv2.moments(patch2[:, :2])).flatten()\n",
    "yz_hu_moments = cv2.HuMoments(cv2.moments(patch2[:, 1:])).flatten()\n",
    "xz_hu_moments = cv2.HuMoments(cv2.moments(patch2[:, ::2])).flatten()\n",
    "hu_moments = np.concatenate([xy_hu_moments, yz_hu_moments, xz_hu_moments])\n",
    "hu_moments.shape\n"
   ]
  },
  {
   "cell_type": "code",
   "execution_count": 205,
   "metadata": {
    "ExecuteTime": {
     "end_time": "2019-05-07T15:14:43.360972Z",
     "start_time": "2019-05-07T15:14:43.354775Z"
    }
   },
   "outputs": [
    {
     "data": {
      "text/plain": [
       "array([-9.57519989e+02, -6.82944274e+02,  4.18942554e+06, -1.43659468e+03,\n",
       "       -1.02464087e+03,  1.52444158e+04, -3.86080528e+06])"
      ]
     },
     "execution_count": 205,
     "metadata": {},
     "output_type": "execute_result"
    }
   ],
   "source": [
    "moments = cv2.moments(patch2[:, :2])\n",
    "central_moments = [moments[key] for key in moments.keys() if key[:2] == \"mu\"]\n",
    "central_moments = np.array(central_moments)\n",
    "central_moments"
   ]
  },
  {
   "cell_type": "code",
   "execution_count": 221,
   "metadata": {
    "ExecuteTime": {
     "end_time": "2019-05-07T15:18:11.178016Z",
     "start_time": "2019-05-07T15:18:11.170370Z"
    }
   },
   "outputs": [
    {
     "data": {
      "text/plain": [
       "array([[ 4.7479800e+01, -7.7100000e+00, -3.2739700e+01],\n",
       "       [ 4.8483800e+01, -8.9866000e+00, -3.4153600e+01],\n",
       "       [ 4.9911400e+01, -8.3139000e+00, -3.5508500e+01],\n",
       "       [ 4.9432900e+01, -1.0156200e+01, -3.5604900e+01],\n",
       "       [ 5.0688000e+01, -9.3242000e+00, -3.6795900e+01],\n",
       "       [ 3.9178800e+01, -5.8191000e+00, -2.5929500e+01],\n",
       "       [ 3.6157300e+01, -5.1644000e+00, -2.4222500e+01],\n",
       "       [ 3.7456500e+01, -6.4878000e+00, -2.5079000e+01],\n",
       "       [ 3.5651500e+01, -7.1278000e+00, -2.4371300e+01],\n",
       "       [ 3.6959100e+01, -8.4586000e+00, -2.5225400e+01],\n",
       "       [ 3.8718500e+01, -7.7980000e+00, -2.6021400e+01],\n",
       "       [ 3.8220000e+01, -9.7747000e+00, -2.6174800e+01],\n",
       "       [ 3.9941300e+01, -9.0929000e+00, -2.7034000e+01],\n",
       "       [ 4.0419300e+01, -7.1114000e+00, -2.6914000e+01],\n",
       "       [ 4.1619100e+01, -8.3845000e+00, -2.7974200e+01],\n",
       "       [ 4.2091600e+01, -6.4139000e+00, -2.7860100e+01],\n",
       "       [ 4.3255700e+01, -7.6609000e+00, -2.8997700e+01],\n",
       "       [ 4.2742800e+01, -9.6426000e+00, -2.9148100e+01],\n",
       "       [ 4.4361500e+01, -8.9132000e+00, -3.0218900e+01],\n",
       "       [ 4.4846800e+01, -6.9679000e+00, -3.0150000e+01],\n",
       "       [ 4.1088400e+01, -1.0366100e+01, -2.8153600e+01],\n",
       "       [ 4.3811900e+01, -1.0888900e+01, -3.0426900e+01],\n",
       "       [ 4.5416000e+01, -1.0151500e+01, -3.1546400e+01],\n",
       "       [ 3.4316200e+01, -5.7860000e+00, -2.3582800e+01],\n",
       "       [ 3.3756500e+01, -7.6625000e+00, -2.3884100e+01],\n",
       "       [ 3.5080700e+01, -9.0476000e+00, -2.4668000e+01],\n",
       "       [ 3.2940700e+01, -4.4325000e+00, -2.2897000e+01],\n",
       "       [ 3.2429600e+01, -6.2640000e+00, -2.3189400e+01],\n",
       "       [ 4.5944500e+01, -8.2451000e+00, -3.1410000e+01],\n",
       "       [ 3.1835500e+01, -7.9549000e+00, -2.3634800e+01],\n",
       "       [ 2.9791800e+01, -8.0060000e+00, -2.3671900e+01],\n",
       "       [ 4.6440200e+01, -1.1381200e+01, -3.2951800e+01],\n",
       "       [ 4.6979800e+01, -9.4968000e+00, -3.2799500e+01],\n",
       "       [ 4.7984100e+01, -1.0726100e+01, -3.4234800e+01],\n",
       "       [ 4.8935400e+01, -1.1876800e+01, -3.5744600e+01],\n",
       "       [ 3.1005600e+01, -4.9648000e+00, -2.2631800e+01],\n",
       "       [ 2.9494600e+01, -3.6404000e+00, -2.2193600e+01],\n",
       "       [ 2.5715700e+01, -2.5614000e+00, -2.2321800e+01],\n",
       "       [ 2.7288600e+01, -4.1674000e+00, -2.2550900e+01],\n",
       "       [ 5.1930600e+01, -9.1445000e+00, -3.8332100e+01],\n",
       "       [ 1.2877000e+01, -7.2200000e-02, -9.9260000e+00],\n",
       "       [ 1.3425700e+01, -1.7318000e+00, -1.1743800e+01],\n",
       "       [ 1.4525300e+01, -1.5503000e+00, -1.3563400e+01],\n",
       "       [ 2.0255000e+00, -1.1451000e+00, -3.7200000e-01],\n",
       "       [ 2.8896000e+01, -5.8486000e+00, -2.2944000e+01],\n",
       "       [ 3.0764800e+01, -6.5305000e+00, -2.3068400e+01],\n",
       "       [ 2.7523700e+01, -7.9297000e+00, -2.4163100e+01],\n",
       "       [ 1.3238000e+01, -3.1207000e+00, -1.3692200e+01],\n",
       "       [ 1.4084700e+01, -3.2229000e+00, -1.5790500e+01],\n",
       "       [ 1.5461400e+01, -1.3176000e+00, -1.5886200e+01],\n",
       "       [ 1.5308900e+01, -5.4106000e+00, -2.5393900e+01],\n",
       "       [ 1.8288200e+01, -5.0844000e+00, -2.7130400e+01],\n",
       "       [ 1.6658500e+01, -4.2210000e+00, -2.6320700e+01],\n",
       "       [ 1.8152400e+01, -3.0538000e+00, -2.6828100e+01],\n",
       "       [ 1.6716000e+01, -2.2277000e+00, -2.5789700e+01],\n",
       "       [ 1.5487600e+01, -3.5093000e+00, -2.5200000e+01],\n",
       "       [ 1.4627000e+01, -4.1421000e+00, -2.3537600e+01],\n",
       "       [ 1.8320100e+01, -1.1855000e+00, -2.5929700e+01],\n",
       "       [ 1.5701800e+01, -1.7438000e+00, -2.4208100e+01],\n",
       "       [ 5.0407000e+01, -1.0921100e+01, -3.7135100e+01],\n",
       "       [ 9.5439000e+00, -3.0100000e-01, -4.9528000e+00],\n",
       "       [ 1.0860900e+01, -1.3500000e-02, -6.5851000e+00],\n",
       "       [ 8.0424000e+00, -5.8130000e-01, -3.5447000e+00],\n",
       "       [ 8.4609000e+00, -2.1502000e+00, -5.0003000e+00],\n",
       "       [ 1.0063800e+01, -1.8311000e+00, -6.7208000e+00],\n",
       "       [ 6.8963000e+00, -2.3974000e+00, -3.5787000e+00],\n",
       "       [ 7.0198000e+00, -3.8667000e+00, -5.3505000e+00],\n",
       "       [ 8.4338000e+00, -3.6111000e+00, -7.2919000e+00],\n",
       "       [ 6.3604000e+00, -8.1770000e-01, -2.3398000e+00],\n",
       "       [ 5.1914000e+00, -2.5823000e+00, -2.3207000e+00],\n",
       "       [ 1.1594200e+01, -1.2729000e+00, -8.3617000e+00],\n",
       "       [ 4.4672000e+00, -1.0493000e+00, -1.2049000e+00],\n",
       "       [ 3.2623000e+00, -2.7164000e+00, -1.2936000e+00],\n",
       "       [ 1.0770100e+01, -3.1803000e+00, -9.9986000e+00],\n",
       "       [ 2.0121100e+01, -6.0211000e+00, -2.7359100e+01],\n",
       "       [ 5.3451100e+01, -8.0656000e+00, -3.9884270e+01],\n",
       "       [ 5.2815700e+01, -1.0387600e+01, -4.0069850e+01],\n",
       "       [ 5.4210800e+01, -9.3627000e+00, -4.1536690e+01],\n",
       "       [ 2.5202800e+01, -4.5038000e+00, -2.3210300e+01],\n",
       "       [ 2.6343300e+01, -6.1610000e+00, -2.3633000e+01],\n",
       "       [ 2.3324900e+01, -3.0795000e+00, -2.3570300e+01],\n",
       "       [ 2.3907100e+01, -5.9258000e+00, -2.4537200e+01],\n",
       "       [ 2.1045000e+01, -2.4975000e+00, -2.5284300e+01],\n",
       "       [ 5.1340100e+01, -1.1767000e+01, -3.8773800e+01],\n",
       "       [ 5.2168400e+01, -1.2826800e+01, -4.0450010e+01],\n",
       "       [ 5.4928400e+01, -1.0650300e+01, -4.3344430e+01],\n",
       "       [ 5.6227800e+01, -9.7333000e+00, -4.5041430e+01],\n",
       "       [ 1.2450900e+01, -2.0116000e+00, -1.0268600e+01],\n",
       "       [ 5.3576900e+01, -1.1612700e+01, -4.1780980e+01],\n",
       "       [ 5.8029700e+01, -1.0055300e+01, -4.8735639e+01],\n",
       "       [ 5.6811200e+01, -1.1009800e+01, -4.6958750e+01],\n",
       "       [ 5.7318000e+01, -1.2283500e+01, -4.8954929e+01],\n",
       "       [ 5.8481000e+01, -1.1322700e+01, -5.0843130e+01],\n",
       "       [ 5.5554700e+01, -1.1954700e+01, -4.5247710e+01],\n",
       "       [ 5.6101900e+01, -1.3232100e+01, -4.7171550e+01],\n",
       "       [ 5.4256300e+01, -1.2874600e+01, -4.3594910e+01],\n",
       "       [ 5.7719300e+01, -1.3553600e+01, -5.1036030e+01],\n",
       "       [ 1.2341400e+01, -3.1885000e+00, -1.2248500e+01],\n",
       "       [ 1.9867700e+01, -3.9341000e+00, -2.6861100e+01],\n",
       "       [ 5.9524200e+01, -1.0391200e+01, -5.2886430e+01],\n",
       "       [ 5.8770000e+01, -1.2646800e+01, -5.2987730e+01],\n",
       "       [ 5.9468300e+01, -1.3935900e+01, -5.6958620e+01],\n",
       "       [ 5.9652200e+01, -1.1969300e+01, -5.5100820e+01],\n",
       "       [ 6.0477900e+01, -9.5611000e+00, -5.5137530e+01],\n",
       "       [ 6.0507400e+01, -1.1142200e+01, -5.7286720e+01],\n",
       "       [ 1.9385400e+01, -2.1066000e+00, -2.6682500e+01],\n",
       "       [ 1.2994000e+01, -4.9733000e+00, -1.9017700e+01],\n",
       "       [ 1.5024600e+01, -2.8395000e+00, -1.8021500e+01],\n",
       "       [ 1.5865100e+01, -7.4840000e-01, -1.8831700e+01],\n",
       "       [ 1.5691900e+01, -1.3544000e+00, -2.1911700e+01],\n",
       "       [ 1.4747500e+01, -3.4055000e+00, -2.0738200e+01],\n",
       "       [ 2.1760300e+01, -4.8684000e+00, -2.5909900e+01],\n",
       "       [ 1.1243900e+01, -4.7123000e+00, -1.4948500e+01],\n",
       "       [ 6.0048800e+01, -1.3827000e+01, -5.9020220e+01],\n",
       "       [ 6.1067400e+01, -1.0576500e+01, -5.8782720e+01],\n",
       "       [ 6.0480500e+01, -1.2428700e+01, -5.8918690e+01]])"
      ]
     },
     "execution_count": 221,
     "metadata": {},
     "output_type": "execute_result"
    }
   ],
   "source": [
    "patch2"
   ]
  },
  {
   "cell_type": "code",
   "execution_count": 177,
   "metadata": {
    "ExecuteTime": {
     "end_time": "2019-05-07T15:01:56.103107Z",
     "start_time": "2019-05-07T15:01:56.048307Z"
    },
    "scrolled": true
   },
   "outputs": [
    {
     "data": {
      "application/vnd.jupyter.widget-view+json": {
       "model_id": "8ca2090ad8d744d898ec95a5d001f730",
       "version_major": 2,
       "version_minor": 0
      },
      "text/plain": [
       "VBox(children=(Figure(camera=PerspectiveCamera(fov=46.0, position=(0.0, 0.0, 2.0), quaternion=(0.0, 0.0, 0.0, …"
      ]
     },
     "metadata": {},
     "output_type": "display_data"
    }
   ],
   "source": [
    "def is_keypoint(point, points):\n",
    "    threshold = 7 * rho\n",
    "    nhood = points[(np.sum(np.square(points-point),axis=1)) < threshold**2]\n",
    "    try:\n",
    "        nhood = (nhood - np.min(nhood, axis=0)) / (np.max(nhood, axis=0) - np.min(nhood, axis=0))\n",
    "        covmat = np.cov(nhood)\n",
    "        eigvals = np.sort(np.abs(np.linalg.eigvalsh(covmat)))\n",
    "        ratio = eigvals[-1]/(eigvals[-2]+0.0001)\n",
    "        return ratio>40 #eigen_ratio_threshold #/ 5\n",
    "    except Exception as e:\n",
    "        return False\n",
    "\n",
    "ipv.clear()\n",
    "\n",
    "ipv.scatter(points2[:,0],points2[:,1],points2[:,2], size=1, marker=\"sphere\", color=\"blue\")\n",
    "keypoints = patch2[np.apply_along_axis(is_keypoint, 1, patch2, patch2)]\n",
    "# print(keypoints)\n",
    "ipv.scatter(keypoints[:,0],keypoints[:,1],keypoints[:,2], size=2, marker=\"sphere\", color=\"red\")\n",
    "ipv.show()"
   ]
  },
  {
   "cell_type": "code",
   "execution_count": 103,
   "metadata": {
    "ExecuteTime": {
     "end_time": "2019-05-07T10:08:42.264325Z",
     "start_time": "2019-05-07T10:08:42.256862Z"
    }
   },
   "outputs": [],
   "source": [
    "def get_keypoints_from_face(points, plot=False):\n",
    "    all_keypoints = []\n",
    "    for idx in range(1, len(hull)-1):\n",
    "        x1, y1, z1 = hull[idx, :]\n",
    "        patch = get_patch(points, hull, x1, y1, z1)\n",
    "        keypoints = list(patch[np.apply_along_axis(is_keypoint, 1, patch, patch)])\n",
    "        all_keypoints.extend(keypoints)\n",
    "    all_keypoints = np.array(all_keypoints)\n",
    "    if plot:\n",
    "        ipv.clear()\n",
    "        ipv.scatter(points[:,0],points[:,1],points[:,2], size=1, marker=\"sphere\", color=\"blue\")\n",
    "        print(\"Number of keypoints: \", all_keypoints.shape)\n",
    "        ipv.scatter(all_keypoints[:, 0], all_keypoints[:, 1], all_keypoints[:, 2], size=1, marker=\"sphere\", color=\"red\")\n",
    "        ipv.show()\n",
    "    return all_keypoints"
   ]
  },
  {
   "cell_type": "code",
   "execution_count": 104,
   "metadata": {
    "ExecuteTime": {
     "end_time": "2019-05-07T10:08:46.473171Z",
     "start_time": "2019-05-07T10:08:44.380377Z"
    }
   },
   "outputs": [
    {
     "name": "stderr",
     "output_type": "stream",
     "text": [
      "/home/ags/miniconda3/lib/python3.7/site-packages/ipykernel_launcher.py:6: RuntimeWarning: invalid value encountered in true_divide\n",
      "  \n"
     ]
    },
    {
     "name": "stdout",
     "output_type": "stream",
     "text": [
      "Number of keypoints:  (1485, 3)\n"
     ]
    },
    {
     "data": {
      "application/vnd.jupyter.widget-view+json": {
       "model_id": "0d07d1c7186c458e83dd23312f23f2fb",
       "version_major": 2,
       "version_minor": 0
      },
      "text/plain": [
       "VBox(children=(Figure(camera=PerspectiveCamera(fov=46.0, position=(0.0, 0.0, 2.0), quaternion=(0.0, 0.0, 0.0, …"
      ]
     },
     "metadata": {},
     "output_type": "display_data"
    }
   ],
   "source": [
    "all_keypoints = get_keypoints_from_face(points1,plot=True)"
   ]
  },
  {
   "cell_type": "code",
   "execution_count": 87,
   "metadata": {
    "ExecuteTime": {
     "end_time": "2019-05-07T10:05:43.723068Z",
     "start_time": "2019-05-07T10:05:41.893910Z"
    }
   },
   "outputs": [
    {
     "name": "stderr",
     "output_type": "stream",
     "text": [
      "/home/ags/miniconda3/lib/python3.7/site-packages/ipykernel_launcher.py:6: RuntimeWarning: invalid value encountered in true_divide\n",
      "  \n"
     ]
    },
    {
     "name": "stdout",
     "output_type": "stream",
     "text": [
      "Number of keypoints:  (2133, 3)\n"
     ]
    },
    {
     "data": {
      "application/vnd.jupyter.widget-view+json": {
       "model_id": "2e2991417bf34949bbcf279485aadf81",
       "version_major": 2,
       "version_minor": 0
      },
      "text/plain": [
       "VBox(children=(Figure(camera=PerspectiveCamera(fov=46.0, position=(0.0, 0.0, 2.0), quaternion=(0.0, 0.0, 0.0, …"
      ]
     },
     "metadata": {},
     "output_type": "display_data"
    }
   ],
   "source": [
    "all_keypoints = get_keypoints_from_face(points2,plot=True)"
   ]
  },
  {
   "cell_type": "code",
   "execution_count": 88,
   "metadata": {
    "ExecuteTime": {
     "end_time": "2019-05-07T10:05:43.762736Z",
     "start_time": "2019-05-07T10:05:43.724029Z"
    }
   },
   "outputs": [
    {
     "name": "stdout",
     "output_type": "stream",
     "text": [
      "(132, 132) (132, 132) (132, 132)\n"
     ]
    },
    {
     "data": {
      "application/vnd.jupyter.widget-view+json": {
       "model_id": "9a40bed6b1504790bcefc2feab5c4d52",
       "version_major": 2,
       "version_minor": 0
      },
      "text/plain": [
       "VBox(children=(Figure(camera=PerspectiveCamera(fov=46.0, position=(0.0, 0.0, 2.0), quaternion=(0.0, 0.0, 0.0, …"
      ]
     },
     "metadata": {},
     "output_type": "display_data"
    }
   ],
   "source": [
    "def points2meshgrid(points):\n",
    "    [X, Y] = meshgrid(points[:,0], points[:,1])\n",
    "    Z = interpolate.griddata((patch1[:, 0], patch1[:, 1]), patch1[:, 2], (X, Y), method='cubic')\n",
    "    print(X.shape, Y.shape, Z.shape)\n",
    "    ipv.figure()\n",
    "    ipv.scatter(points[:,0],points[:,1],points[:,2])\n",
    "#     ipv.scatter(X.reshape(-1), Y.reshape(-1), Z.reshape(-1), color=\"orange\")\n",
    "    ipv.show()\n",
    "    \n",
    "points2meshgrid(patch1)"
   ]
  },
  {
   "cell_type": "code",
   "execution_count": 237,
   "metadata": {
    "ExecuteTime": {
     "end_time": "2019-05-07T15:25:31.646588Z",
     "start_time": "2019-05-07T15:25:31.625195Z"
    }
   },
   "outputs": [],
   "source": [
    "def surface_curvature(X,Y,Z):\n",
    "\n",
    "    (lr,lb)=X.shape\n",
    "\n",
    "\n",
    "    #First Derivatives\n",
    "    Xv,Xu=np.gradient(X)\n",
    "    Yv,Yu=np.gradient(Y)\n",
    "    Zv,Zu=np.gradient(Z)\n",
    "\n",
    "    #Second Derivatives\n",
    "    Xuv,Xuu=np.gradient(Xu)\n",
    "    Yuv,Yuu=np.gradient(Yu)\n",
    "    Zuv,Zuu=np.gradient(Zu)   \n",
    "\n",
    "    Xvv,Xuv=np.gradient(Xv)\n",
    "    Yvv,Yuv=np.gradient(Yv)\n",
    "    Zvv,Zuv=np.gradient(Zv) \n",
    "\n",
    "    #2D to 1D conversion \n",
    "    #Reshape to 1D vectors\n",
    "    Xu=np.reshape(Xu,lr*lb)\n",
    "    Yu=np.reshape(Yu,lr*lb)\n",
    "    Zu=np.reshape(Zu,lr*lb)\n",
    "    Xv=np.reshape(Xv,lr*lb)\n",
    "    Yv=np.reshape(Yv,lr*lb)\n",
    "    Zv=np.reshape(Zv,lr*lb)\n",
    "    Xuu=np.reshape(Xuu,lr*lb)\n",
    "    Yuu=np.reshape(Yuu,lr*lb)\n",
    "    Zuu=np.reshape(Zuu,lr*lb)\n",
    "    Xuv=np.reshape(Xuv,lr*lb)\n",
    "    Yuv=np.reshape(Yuv,lr*lb)\n",
    "    Zuv=np.reshape(Zuv,lr*lb)\n",
    "    Xvv=np.reshape(Xvv,lr*lb)\n",
    "    Yvv=np.reshape(Yvv,lr*lb)\n",
    "    Zvv=np.reshape(Zvv,lr*lb)\n",
    "\n",
    "    Xu=np.c_[Xu, Yu, Zu]\n",
    "    Xv=np.c_[Xv, Yv, Zv]\n",
    "    Xuu=np.c_[Xuu, Yuu, Zuu]\n",
    "    Xuv=np.c_[Xuv, Yuv, Zuv]\n",
    "    Xvv=np.c_[Xvv, Yvv, Zvv]\n",
    "\n",
    "    #% First fundamental Coeffecients of the surface (E,F,G)\n",
    "    E=np.einsum('ij,ij->i', Xu, Xu) \n",
    "    F=np.einsum('ij,ij->i', Xu, Xv) \n",
    "    G=np.einsum('ij,ij->i', Xv, Xv) \n",
    "\n",
    "    m=np.cross(Xu,Xv,axisa=1, axisb=1) \n",
    "    p=np.sqrt(np.einsum('ij,ij->i', m, m)) \n",
    "    n=m/np.c_[p,p,p]\n",
    "    # n is the normal\n",
    "    #% Second fundamental Coeffecients of the surface (L,M,N), (e,f,g)\n",
    "    L= np.einsum('ij,ij->i', Xuu, n) #e\n",
    "    M= np.einsum('ij,ij->i', Xuv, n) #f\n",
    "    N= np.einsum('ij,ij->i', Xvv, n) #g\n",
    "\n",
    "    # Alternative formula for gaussian curvature in wiki \n",
    "    # K = det(second fundamental) / det(first fundamental)\n",
    "    #% Gaussian Curvature\n",
    "    K=(L*N-M**2)/(E*G-L**2)\n",
    "    K=np.reshape(K,lr*lb)\n",
    "    #wiki trace of (second fundamental)(first fundamental inverse)\n",
    "    #% Mean Curvature\n",
    "    H = (E*N + G*L - 2*F*M)/((E*G - F**2))\n",
    "    H = np.reshape(H,lr*lb)\n",
    "\n",
    "    #% Principle Curvatures\n",
    "    Pmax = H + np.sqrt(H**2 - K)\n",
    "    Pmin = H - np.sqrt(H**2 - K)\n",
    "    #[Pmax, Pmin]\n",
    "    return [Pmax, Pmin, G, H]\n",
    "\n",
    "\n",
    "def fun(x,y):\n",
    "    return x**2+y**2"
   ]
  },
  {
   "cell_type": "code",
   "execution_count": 222,
   "metadata": {
    "ExecuteTime": {
     "end_time": "2019-05-07T15:22:07.903064Z",
     "start_time": "2019-05-07T15:22:07.899410Z"
    }
   },
   "outputs": [],
   "source": [
    "x1, y1, z1 = patch1[:, 0], patch1[:, 1], patch1[:, 2]"
   ]
  },
  {
   "cell_type": "code",
   "execution_count": 226,
   "metadata": {
    "ExecuteTime": {
     "end_time": "2019-05-07T15:22:57.440980Z",
     "start_time": "2019-05-07T15:22:57.435733Z"
    }
   },
   "outputs": [],
   "source": [
    "[pgrid_x,pgrid_y] = scipy.meshgrid(x1, y1)"
   ]
  },
  {
   "cell_type": "code",
   "execution_count": 227,
   "metadata": {
    "ExecuteTime": {
     "end_time": "2019-05-07T15:23:08.481294Z",
     "start_time": "2019-05-07T15:23:08.227916Z"
    }
   },
   "outputs": [
    {
     "data": {
      "text/plain": [
       "<matplotlib.collections.PathCollection at 0x7f61c1717940>"
      ]
     },
     "execution_count": 227,
     "metadata": {},
     "output_type": "execute_result"
    },
    {
     "data": {
      "image/png": "[encoded data removed]",
      "text/plain": [
       "<Figure size 432x288 with 1 Axes>"
      ]
     },
     "metadata": {
      "needs_background": "light"
     },
     "output_type": "display_data"
    }
   ],
   "source": [
    "plt.scatter(pgrid_x, pgrid_y);\n",
    "plt.scatter(x1, y1)"
   ]
  },
  {
   "cell_type": "code",
   "execution_count": 229,
   "metadata": {
    "ExecuteTime": {
     "end_time": "2019-05-07T15:23:25.339719Z",
     "start_time": "2019-05-07T15:23:25.319753Z"
    }
   },
   "outputs": [],
   "source": [
    "pgrid_z = scipy.interpolate.griddata((patch1[:, 0], patch1[:, 1]), patch1[:, 2], (x, y), method='cubic')"
   ]
  },
  {
   "cell_type": "code",
   "execution_count": 232,
   "metadata": {
    "ExecuteTime": {
     "end_time": "2019-05-07T15:23:50.961737Z",
     "start_time": "2019-05-07T15:23:50.538220Z"
    }
   },
   "outputs": [
    {
     "name": "stderr",
     "output_type": "stream",
     "text": [
      "/home/ags/miniconda3/lib/python3.7/site-packages/numpy/core/fromnumeric.py:83: RuntimeWarning: invalid value encountered in reduce\n",
      "  return ufunc.reduce(obj, axis, dtype, out, **passkwargs)\n"
     ]
    },
    {
     "data": {
      "image/png": "[encoded data removed]",
      "text/plain": [
       "<Figure size 432x288 with 1 Axes>"
      ]
     },
     "metadata": {
      "needs_background": "light"
     },
     "output_type": "display_data"
    }
   ],
   "source": [
    "fig = plt.figure()\n",
    "ax = Axes3D(fig)\n",
    "ax.plot_surface(pgrid_x,pgrid_y,pgrid_z)\n",
    "plt.show()"
   ]
  },
  {
   "cell_type": "code",
   "execution_count": 233,
   "metadata": {
    "ExecuteTime": {
     "end_time": "2019-05-07T15:24:31.031820Z",
     "start_time": "2019-05-07T15:24:30.998608Z"
    }
   },
   "outputs": [
    {
     "data": {
      "application/vnd.jupyter.widget-view+json": {
       "model_id": "0da6576c418c45678bf70463abc80422",
       "version_major": 2,
       "version_minor": 0
      },
      "text/plain": [
       "VBox(children=(Figure(camera=PerspectiveCamera(fov=46.0, position=(0.0, 0.0, 2.0), quaternion=(0.0, 0.0, 0.0, …"
      ]
     },
     "metadata": {},
     "output_type": "display_data"
    }
   ],
   "source": [
    "ipv.figure()\n",
    "ipv.plot_surface(pgrid_x, pgrid_z, pgrid_y)\n",
    "ipv.show()"
   ]
  },
  {
   "cell_type": "code",
   "execution_count": 238,
   "metadata": {
    "ExecuteTime": {
     "end_time": "2019-05-07T15:26:01.558453Z",
     "start_time": "2019-05-07T15:26:01.543358Z"
    }
   },
   "outputs": [
    {
     "name": "stderr",
     "output_type": "stream",
     "text": [
      "/home/ags/miniconda3/lib/python3.7/site-packages/ipykernel_launcher.py:69: RuntimeWarning: invalid value encountered in sqrt\n",
      "/home/ags/miniconda3/lib/python3.7/site-packages/ipykernel_launcher.py:70: RuntimeWarning: invalid value encountered in sqrt\n"
     ]
    }
   ],
   "source": [
    "[Pmax, Pmin, G, H] = surface_curvature(pgrid_x,pgrid_y,pgrid_z)"
   ]
  },
  {
   "cell_type": "code",
   "execution_count": 240,
   "metadata": {
    "ExecuteTime": {
     "end_time": "2019-05-07T15:26:21.937640Z",
     "start_time": "2019-05-07T15:26:21.930286Z"
    },
    "scrolled": true
   },
   "outputs": [
    {
     "data": {
      "text/plain": [
       "(array([nan, nan, nan, ..., nan, nan, nan]),\n",
       " array([nan, nan, nan, ..., nan, nan, nan]),\n",
       " array([        nan,  0.17418816,         nan, ..., 81.78032115,\n",
       "                nan, 75.26359347]),\n",
       " array([nan, nan, nan, ..., nan, nan, nan]))"
      ]
     },
     "execution_count": 240,
     "metadata": {},
     "output_type": "execute_result"
    }
   ],
   "source": [
    "Pmax, Pmin, G, H"
   ]
  },
  {
   "cell_type": "code",
   "execution_count": null,
   "metadata": {},
   "outputs": [],
   "source": []
  },
  {
   "cell_type": "code",
   "execution_count": null,
   "metadata": {},
   "outputs": [],
   "source": []
  }
 ],
 "metadata": {
  "kernelspec": {
   "display_name": "Python 3",
   "language": "python",
   "name": "python3"
  },
  "language_info": {
   "codemirror_mode": {
    "name": "ipython",
    "version": 3
   },
   "file_extension": ".py",
   "mimetype": "text/x-python",
   "name": "python",
   "nbconvert_exporter": "python",
   "pygments_lexer": "ipython3",
   "version": "3.7.2"
  }
 },
 "nbformat": 4,
 "nbformat_minor": 2
}
